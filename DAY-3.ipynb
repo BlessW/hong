{
 "cells": [
  {
   "cell_type": "code",
   "execution_count": 12,
   "id": "8866c9da",
   "metadata": {},
   "outputs": [
    {
     "ename": "NameError",
     "evalue": "name 'numbesrs' is not defined",
     "output_type": "error",
     "traceback": [
      "\u001b[1;31m---------------------------------------------------------------------------\u001b[0m",
      "\u001b[1;31mNameError\u001b[0m                                 Traceback (most recent call last)",
      "\u001b[1;32m<ipython-input-12-35f548f07247>\u001b[0m in \u001b[0;36m<module>\u001b[1;34m\u001b[0m\n\u001b[0;32m      2\u001b[0m \u001b[1;33m\u001b[0m\u001b[0m\n\u001b[0;32m      3\u001b[0m \u001b[1;32mfor\u001b[0m \u001b[0mnumbers\u001b[0m \u001b[1;32min\u001b[0m \u001b[0mnumbers\u001b[0m\u001b[1;33m:\u001b[0m\u001b[1;33m\u001b[0m\u001b[1;33m\u001b[0m\u001b[0m\n\u001b[1;32m----> 4\u001b[1;33m     \u001b[1;32mif\u001b[0m \u001b[0mnumbesrs\u001b[0m \u001b[1;33m>=\u001b[0m\u001b[1;36m100\u001b[0m\u001b[1;33m:\u001b[0m\u001b[1;33m\u001b[0m\u001b[1;33m\u001b[0m\u001b[0m\n\u001b[0m\u001b[0;32m      5\u001b[0m         \u001b[0mprint\u001b[0m\u001b[1;33m(\u001b[0m\u001b[1;34m\"- 100 이상의 수: \"\u001b[0m\u001b[1;33m,\u001b[0m \u001b[0mnumber\u001b[0m\u001b[1;33m)\u001b[0m\u001b[1;33m\u001b[0m\u001b[1;33m\u001b[0m\u001b[0m\n",
      "\u001b[1;31mNameError\u001b[0m: name 'numbesrs' is not defined"
     ]
    }
   ],
   "source": [
    "numbers = [273, 103, 5, 32, 65, 9, 72, 800, 99]\n",
    "\n",
    "for numbers in numbers:\n",
    "    if numbesr >=100:\n",
    "        print(\"- 100 이상의 수: \", number)"
   ]
  },
  {
   "cell_type": "code",
   "execution_count": 9,
   "id": "5da05c3f",
   "metadata": {},
   "outputs": [
    {
     "name": "stdout",
     "output_type": "stream",
     "text": [
      "1\n",
      "2\n",
      "3\n",
      "4\n",
      "5\n",
      "6\n",
      "7\n",
      "8\n",
      "9\n"
     ]
    }
   ],
   "source": [
    "list_of_list = [\n",
    "    [1, 2, 3],\n",
    "    [4, 5, 6 ,7],\n",
    "    [8, 9]\n",
    "]\n",
    "for list_item in list_of_list:\n",
    "    for item in list_item:\n",
    "         print(item)"
   ]
  },
  {
   "cell_type": "code",
   "execution_count": 20,
   "id": "3a65f7fc",
   "metadata": {},
   "outputs": [
    {
     "name": "stdout",
     "output_type": "stream",
     "text": [
      "name: 7D 건조 망고\n",
      "type: 당절임\n",
      "ingredient: ['망고', '설탕', '메타중아황산나트륨', '치자황색소']\n",
      "origin: 필리핀\n",
      "\n",
      "name: 8D 건조망고\n"
     ]
    }
   ],
   "source": [
    "dintionary = {\n",
    "    \"name\": \"7D 건조 망고\",\n",
    "    \"type\": \"당절임\",\n",
    "    \"ingredient\": [\"망고\", \"설탕\", \"메타중아황산나트륨\", \"치자황색소\"],\n",
    "    \"origin\": \"필리핀\"\n",
    "}\n",
    "\n",
    "print(\"name:\", dintionary[\"name\"])\n",
    "print(\"type:\", dintionary[\"type\"])\n",
    "print(\"ingredient:\", dintionary[\"ingredient\"])\n",
    "print(\"origin:\", dintionary[\"origin\"])\n",
    "print()\n",
    "\n",
    "dintionary[\"name\"] = \"8D 건조망고\"\n",
    "print(\"name:\", dintionary[\"name\"])"
   ]
  },
  {
   "cell_type": "code",
   "execution_count": null,
   "id": "3e425607",
   "metadata": {},
   "outputs": [],
   "source": [
    "#dictionary"
   ]
  },
  {
   "cell_type": "code",
   "execution_count": 13,
   "id": "f7b456fd",
   "metadata": {},
   "outputs": [
    {
     "ename": "SyntaxError",
     "evalue": "invalid syntax (<ipython-input-13-67acdf9cfe95>, line 3)",
     "output_type": "error",
     "traceback": [
      "\u001b[1;36m  File \u001b[1;32m\"<ipython-input-13-67acdf9cfe95>\"\u001b[1;36m, line \u001b[1;32m3\u001b[0m\n\u001b[1;33m    \"type\": \"\"\u001b[0m\n\u001b[1;37m          ^\u001b[0m\n\u001b[1;31mSyntaxError\u001b[0m\u001b[1;31m:\u001b[0m invalid syntax\n"
     ]
    }
   ],
   "source": [
    "dintionary = {\n",
    "    \"name\": \"7D \"\n",
    "    \"type\": \"\"\n",
    "    \"ingredient\": [\"\", \"\", \"\", \"\"],\n",
    "    \"orgin\": \"\"\n",
    "}"
   ]
  },
  {
   "cell_type": "code",
   "execution_count": 3,
   "id": "35d245d1",
   "metadata": {},
   "outputs": [
    {
     "name": "stdout",
     "output_type": "stream",
     "text": [
      " > 딕셔너리 접근 키 입력 : asdsfda\n"
     ]
    },
    {
     "ename": "NameError",
     "evalue": "name 'dictionary' is not defined",
     "output_type": "error",
     "traceback": [
      "\u001b[1;31m---------------------------------------------------------------------------\u001b[0m",
      "\u001b[1;31mNameError\u001b[0m                                 Traceback (most recent call last)",
      "\u001b[1;32m<ipython-input-3-d23755829f43>\u001b[0m in \u001b[0;36m<module>\u001b[1;34m\u001b[0m\n\u001b[0;32m      1\u001b[0m \u001b[0mkey\u001b[0m \u001b[1;33m=\u001b[0m \u001b[0minput\u001b[0m\u001b[1;33m(\u001b[0m\u001b[1;34m\" > 딕셔너리 접근 키 입력 : \"\u001b[0m\u001b[1;33m)\u001b[0m\u001b[1;33m\u001b[0m\u001b[1;33m\u001b[0m\u001b[0m\n\u001b[0;32m      2\u001b[0m \u001b[1;33m\u001b[0m\u001b[0m\n\u001b[1;32m----> 3\u001b[1;33m \u001b[1;32mif\u001b[0m \u001b[0mkey\u001b[0m \u001b[1;32min\u001b[0m \u001b[0mdictionary\u001b[0m\u001b[1;33m:\u001b[0m\u001b[1;33m\u001b[0m\u001b[1;33m\u001b[0m\u001b[0m\n\u001b[0m\u001b[0;32m      4\u001b[0m     \u001b[0mprint\u001b[0m\u001b[1;33m(\u001b[0m\u001b[0mdictionary\u001b[0m\u001b[1;33m[\u001b[0m\u001b[0mkey\u001b[0m\u001b[1;33m]\u001b[0m\u001b[1;33m)\u001b[0m\u001b[1;33m\u001b[0m\u001b[1;33m\u001b[0m\u001b[0m\n\u001b[0;32m      5\u001b[0m \u001b[1;32melse\u001b[0m\u001b[1;33m:\u001b[0m\u001b[1;33m\u001b[0m\u001b[1;33m\u001b[0m\u001b[0m\n",
      "\u001b[1;31mNameError\u001b[0m: name 'dictionary' is not defined"
     ]
    }
   ],
   "source": [
    "key = input(\" > 딕셔너리 접근 키 입력 : \")\n",
    "\n",
    "if key in dictionary:\n",
    "    print(dictionary[key])\n",
    "else:\n",
    "    print(\"존재하지 않는 키입니다\")"
   ]
  },
  {
   "cell_type": "code",
   "execution_count": 4,
   "id": "eec4735d",
   "metadata": {},
   "outputs": [
    {
     "ename": "NameError",
     "evalue": "name 'dictionayl' is not defined",
     "output_type": "error",
     "traceback": [
      "\u001b[1;31m---------------------------------------------------------------------------\u001b[0m",
      "\u001b[1;31mNameError\u001b[0m                                 Traceback (most recent call last)",
      "\u001b[1;32m<ipython-input-4-a4cd7a577c33>\u001b[0m in \u001b[0;36m<module>\u001b[1;34m\u001b[0m\n\u001b[1;32m----> 1\u001b[1;33m \u001b[0mvalue1\u001b[0m \u001b[1;33m=\u001b[0m \u001b[0mdictionayl\u001b[0m\u001b[1;33m.\u001b[0m\u001b[0mget\u001b[0m\u001b[1;33m(\u001b[0m\u001b[1;34m\"name\"\u001b[0m\u001b[1;33m)\u001b[0m\u001b[1;33m\u001b[0m\u001b[1;33m\u001b[0m\u001b[0m\n\u001b[0m\u001b[0;32m      2\u001b[0m \u001b[0mvalue2\u001b[0m \u001b[1;33m=\u001b[0m \u001b[0mdictionayl\u001b[0m\u001b[1;33m.\u001b[0m\u001b[0mget\u001b[0m\u001b[1;33m(\u001b[0m\u001b[1;34m\"abcde\"\u001b[0m\u001b[1;33m)\u001b[0m\u001b[1;33m\u001b[0m\u001b[1;33m\u001b[0m\u001b[0m\n\u001b[0;32m      3\u001b[0m \u001b[1;33m\u001b[0m\u001b[0m\n\u001b[0;32m      4\u001b[0m \u001b[0mprint\u001b[0m\u001b[1;33m(\u001b[0m\u001b[1;34m\" value1 : \"\u001b[0m\u001b[1;33m,\u001b[0m \u001b[0mvalue1\u001b[0m\u001b[1;33m)\u001b[0m\u001b[1;33m\u001b[0m\u001b[1;33m\u001b[0m\u001b[0m\n\u001b[0;32m      5\u001b[0m \u001b[0mprint\u001b[0m\u001b[1;33m(\u001b[0m\u001b[1;34m\" value2 : \"\u001b[0m\u001b[1;33m,\u001b[0m \u001b[0mvalue2\u001b[0m\u001b[1;33m)\u001b[0m\u001b[1;33m\u001b[0m\u001b[1;33m\u001b[0m\u001b[0m\n",
      "\u001b[1;31mNameError\u001b[0m: name 'dictionayl' is not defined"
     ]
    }
   ],
   "source": [
    "value1 = dictionayl.get(\"name\")\n",
    "value2 = dictionayl.get(\"abcde\")\n",
    "\n",
    "print(\" value1 : \", value1)\n",
    "print(\" value2 : \", value2)\n",
    "\n",
    "if not value2:\n",
    "    print(\"name\")"
   ]
  },
  {
   "cell_type": "code",
   "execution_count": null,
   "id": "76e06a6e",
   "metadata": {},
   "outputs": [],
   "source": [
    "# for 문장을 사용하여 dictionary의 값을 출력\n",
    "\n",
    "for key in dictionary   :\n",
    "    print(key, \" : \", dictionary[key])\n",
    "    "
   ]
  },
  {
   "cell_type": "code",
   "execution_count": 26,
   "id": "413d6105",
   "metadata": {},
   "outputs": [
    {
     "name": "stdout",
     "output_type": "stream",
     "text": [
      "name  :  기사\n",
      "level  :  12\n",
      "sword  :  불꽃의 검\n",
      "armor  :  풀플레이트\n",
      "skill  :  베기\n",
      "skill  :   세게 베기\n",
      "skill  :  아주 세게 베기\n"
     ]
    }
   ],
   "source": [
    "character = {\n",
    "    \"name\": \"기사\",\n",
    "    \"level\": 12,\n",
    "    \"items\":{\n",
    "        \"sword\":\"불꽃의 검\",\n",
    "        \"armor\": \"풀플레이트\"\n",
    "        },\n",
    "    \"skill\": [\"베기\",\" 세게 베기\", \"아주 세게 베기\"]\n",
    "    }\n",
    "\n",
    "for key in character:\n",
    "    # key \n",
    "    if type(character[key]) == list:\n",
    "        for value in character[key]:\n",
    "            print(key, \" : \", value)\n",
    "    elif type(character[key]) == dict:\n",
    "        for key1 in character[key]:\n",
    "            print(key1, \" : \", character[key][key1])\n",
    "    else:\n",
    "        print(key, \" : \",character[key])\n",
    "        "
   ]
  },
  {
   "cell_type": "code",
   "execution_count": 30,
   "id": "5d2022ed",
   "metadata": {},
   "outputs": [
    {
     "name": "stdout",
     "output_type": "stream",
     "text": [
      "0= 반복 변수\n",
      "1= 반복 변수\n",
      "2= 반복 변수\n",
      "3= 반복 변수\n",
      "4= 반복 변수\n",
      "\n",
      "5= 반복 변수\n",
      "6= 반복 변수\n",
      "7= 반복 변수\n",
      "8= 반복 변수\n",
      "9= 반복 변수\n",
      "\n",
      "0= 반복 변수\n",
      "3= 반복 변수\n",
      "6= 반복 변수\n",
      "9= 반복 변수\n",
      "\n"
     ]
    }
   ],
   "source": [
    "for i in range(5):\n",
    "    print(str(i) + \"= 반복 변수\")\n",
    "print()\n",
    "\n",
    "for i in range(5, 10):\n",
    "     print(str(i) + \"= 반복 변수\")\n",
    "print()\n",
    "\n",
    "for i in range(0, 10, 3):\n",
    "        print(str(i) + \"= 반복 변수\")\n",
    "print()"
   ]
  },
  {
   "cell_type": "markdown",
   "id": "92385712",
   "metadata": {},
   "source": [
    " ## 범위함수 range"
   ]
  },
  {
   "cell_type": "code",
   "execution_count": 32,
   "id": "e6661493",
   "metadata": {},
   "outputs": [
    {
     "data": {
      "text/plain": [
       "[1, 3, 5, 7, 9]"
      ]
     },
     "execution_count": 32,
     "metadata": {},
     "output_type": "execute_result"
    }
   ],
   "source": [
    "a = list(range(5))\n",
    "a\n",
    "list(range(1, 10, 2))"
   ]
  },
  {
   "cell_type": "code",
   "execution_count": 40,
   "id": "f5c92c33",
   "metadata": {},
   "outputs": [
    {
     "name": "stdout",
     "output_type": "stream",
     "text": [
      " 1번째 반복 : 273\n",
      " 2번째 반복 : 32\n",
      " 3번째 반복 : 103\n",
      " 4번째 반복 : 57\n",
      " 5번째 반복 : 52\n",
      "1번째 반복) : 273\n",
      "2번째 반복) : 32\n",
      "3번째 반복) : 103\n",
      "4번째 반복) : 57\n",
      "5번째 반복) : 52\n",
      "5번째 반복) : 52\n",
      "4번째 반복) : 57\n",
      "3번째 반복) : 103\n",
      "2번째 반복) : 32\n",
      "1번째 반복) : 273\n",
      "4번째 반복) : 52\n",
      "3번째 반복) : 57\n",
      "2번째 반복) : 103\n",
      "1번째 반복) : 32\n",
      "0번째 반복) : 273\n"
     ]
    }
   ],
   "source": [
    "array = [273, 32, 103, 57, 52]\n",
    "#리스트에 반복문 적용\n",
    "index = 1\n",
    "for i in array:\n",
    "    print(\" {}번째 반복 : {}\".format( index, i))\n",
    "    index+=1\n",
    "# range 함수를 이용하여 범위 지정하여 반복\n",
    "for i in range(len(array)):\n",
    "        print(\"{}번째 반복) : {}\".format(i+1, array[i])) # range븐 0부터\n",
    "          \n",
    "#revenge로 출력\n",
    "for i in range(len(array),0, -1): # -1씩 감소\n",
    "        print(\"{}번째 반복) : {}\".format(i, array[i-1]))\n",
    "\n",
    "for i in reversed(range(len(array))):  #뒤에서 출력\n",
    "        print(\"{}번째 반복) : {}\".format(i, array[i]))\n",
    "          "
   ]
  },
  {
   "cell_type": "markdown",
   "id": "b5295895",
   "metadata": {},
   "source": [
    "## while 조건식:\n",
    "\n",
    "     처리문"
   ]
  },
  {
   "cell_type": "code",
   "execution_count": 44,
   "id": "a07940c8",
   "metadata": {},
   "outputs": [
    {
     "name": "stdout",
     "output_type": "stream",
     "text": [
      ".........."
     ]
    }
   ],
   "source": [
    "i = 0\n",
    "while i < 10:  # 조건식을  탈출하는 구문이 while 처리문 안에 존재해야 함\n",
    "        print('.',end=\"\")\n",
    "        i+=1 # i = i+1"
   ]
  },
  {
   "cell_type": "code",
   "execution_count": 47,
   "id": "3b12c821",
   "metadata": {},
   "outputs": [
    {
     "data": {
      "text/plain": [
       "[273, 103, 57, 52]"
      ]
     },
     "execution_count": 47,
     "metadata": {},
     "output_type": "execute_result"
    }
   ],
   "source": [
    "array = [273, 32, 103, 57, 52]\n",
    "value = 32\n",
    "\n",
    "# del array[1] : 1 인덱스의 리스트 값을 제거\n",
    "while value in array: # 값을 list에서 모두 지우기\n",
    "    array.remove(value) # list 의 해당하는 값을 모두 제거  \n",
    "array"
   ]
  },
  {
   "cell_type": "code",
   "execution_count": 52,
   "id": "e18d973d",
   "metadata": {},
   "outputs": [
    {
     "name": "stdout",
     "output_type": "stream",
     "text": [
      "현재시간 :  1632367201.6129417\n",
      "5초 동안 6494529번 반복 처리\n"
     ]
    }
   ],
   "source": [
    "import time  # 시간 관련 패키지할 수 사용시 import 함\n",
    "number=0\n",
    "print(\"현재시간 : \", time.time())\n",
    "target_time = time.time() + 5\n",
    "while time.time() < target_time:  # 특징 시간동안 프로그램 정지 또는 실행\n",
    "    number += 1\n",
    "print(\"{}초 동안 {}번 반복 처리\".format(5,number))"
   ]
  },
  {
   "cell_type": "code",
   "execution_count": 56,
   "id": "69ef8bba",
   "metadata": {},
   "outputs": [
    {
     "name": "stdout",
     "output_type": "stream",
     "text": [
      "> 부호 입력 ( #이면 종료, +, -, *, / ) >#\n",
      "program end \n"
     ]
    }
   ],
   "source": [
    "#문) 기호 숫자 두개를 입력받아 계산하는 프로그램을 작성\n",
    "#기호가 '#'이면 프로그램 종료\n",
    "#기호는 '+', '-', '*', '/' 실행 다른 기호는 계속해서 진행\n",
    "char_list = ['+', '-', '*','/']\n",
    "while True:\n",
    "    input_char = input(\"> 부호 입력 ( #이면 종료, +, -, *, / ) >\")\n",
    "    if input_char == '#':\n",
    "        break\n",
    "    elif input_char in char_list:\n",
    "        while True:\n",
    "            input_num = input(\" 두 개의 숫자 입력 >\").split()\n",
    "            if len(input_num) == 2:\n",
    "                break\n",
    "                \n",
    "        value1 = int(input_num[0])\n",
    "        value2 = int(input_num[1])\n",
    "        if input_char == '+':\n",
    "            print(\"{} {} {} = {}\".format(value1, input_char, value2, value1+value2))  \n",
    "        elif input_char == '-':\n",
    "            print(\"{} {} {} = {}\".format(value1, input_char, value2, value1-value2))\n",
    "        elif input_char == '*':\n",
    "            print(\"{} {} {} = {}\".format(value1, input_char, value2, value1*value2))\n",
    "        else:\n",
    "            if value1 !=0 and value2 !=0 :\n",
    "                print(\"{} {} {} = {}\".format(value1, input_char, value2, value1/value2))\n",
    "            else:\n",
    "                print(\"0은 나누기 안됩니다\")\n",
    "print(\"program end \")\n",
    "                                                                           "
   ]
  },
  {
   "cell_type": "code",
   "execution_count": 57,
   "id": "642f9898",
   "metadata": {},
   "outputs": [
    {
     "name": "stdout",
     "output_type": "stream",
     "text": [
      "3\n",
      "i == 3\n",
      "5\n",
      "i == 5\n"
     ]
    }
   ],
   "source": [
    "i = 1\n",
    "while i <10:\n",
    "    i += 1       # 1, 3, 5\n",
    "    if i == 6:\n",
    "        break    # while문장 탈출\n",
    "    elif(i%2 == 0):\n",
    "        continue    # while의 조건식으로 분기\n",
    "    else:\n",
    "        print(i)\n",
    "    print(\"i ==\", i)"
   ]
  },
  {
   "cell_type": "code",
   "execution_count": 60,
   "id": "01997639",
   "metadata": {},
   "outputs": [
    {
     "name": "stdout",
     "output_type": "stream",
     "text": [
      "{'name': '기사', 'hp': 200, 'mp': 30, 'level': 5}\n"
     ]
    }
   ],
   "source": [
    "#188p 문제 2\n",
    "key_list = [\"name\", \"hp\", \"mp\", \"level\"]\n",
    "value_list = [\"기사\", 200, 30, 5]\n",
    "character = {}\n",
    "\n",
    "#character [\"name\"]=\"기사\"\n",
    "\n",
    "for i in range(len(key_list)):   # len(key_list) <- 4, range(4) <- 0 ~ 3 index 사용\n",
    "    character[key_list[i]] = value_list[i]\n",
    "    \n",
    "print(character)"
   ]
  },
  {
   "cell_type": "code",
   "execution_count": 61,
   "id": "0858967c",
   "metadata": {},
   "outputs": [
    {
     "ename": "SyntaxError",
     "evalue": "invalid syntax (<ipython-input-61-1894fa02ceee>, line 18)",
     "output_type": "error",
     "traceback": [
      "\u001b[1;36m  File \u001b[1;32m\"<ipython-input-61-1894fa02ceee>\"\u001b[1;36m, line \u001b[1;32m18\u001b[0m\n\u001b[1;33m    fot i, value in enumerate(input_value):\u001b[0m\n\u001b[1;37m        ^\u001b[0m\n\u001b[1;31mSyntaxError\u001b[0m\u001b[1;31m:\u001b[0m invalid syntax\n"
     ]
    }
   ],
   "source": [
    "numbers = [102, 53, 273, 32, 77, 55]\n",
    "print(list(enumerate(numbers)))\n",
    "print(numbers)\n",
    "\n",
    "for i in range(len(numbers)):\n",
    "    print(\"{}번째 요소 : {}\".format(i, numbers[i]))\n",
    "print(\"\\nenumerate\")\n",
    "for i, value in enumerate(numbers): # enumerate : list의 인덱스와 값을 리턴\n",
    "    print(\"{}번째 요소 : {}\".format(i, value)\n"
   ]
  },
  {
   "cell_type": "code",
   "execution_count": 66,
   "id": "2fde25a7",
   "metadata": {},
   "outputs": [
    {
     "name": "stdout",
     "output_type": "stream",
     "text": [
      " > 숫자 입력 구분은 space : 22 33 11 24\n",
      "0번째 요소 : 22\n",
      "1번째 요소 : 33\n",
      "2번째 요소 : 11\n",
      "3번째 요소 : 24\n",
      "최소값 : 11\t 최대값 : 33\t 합계 : 90\n",
      "\n"
     ]
    }
   ],
   "source": [
    "# 문제 : 키보드로부터 숫자를 임의의 갯수를 입력받아 리스트에 저장 한 후\n",
    "#    print(\"{}번째 요소 : {}\".format(i,value)) 형식으로 결과 출력\n",
    "# 전체 숫자의 최소값과 최대값, 합계를 구하세요\n",
    "#1. 문자를 space로 분리하여 리스트화, 문자를 숫자로 변환\n",
    "#2. 출력 형식대로 함계 최소값 최대값 구함\n",
    "input_value = list(input(\" > 숫자 입력 구분은 space : \").split())\n",
    "\n",
    "for i, value in enumerate(input_value):\n",
    "    input_value[i] = int(value)\n",
    "    print(\"{}번째 요소 : {}\".format(i,value))\n",
    "        \n",
    "print(\"최소값 : {}\\t 최대값 : {}\\t 합계 : {}\\n\". format(min(input_value),\n",
    "                                               max(input_value),sum(input_value)))"
   ]
  },
  {
   "cell_type": "code",
   "execution_count": 67,
   "id": "d882abb6",
   "metadata": {},
   "outputs": [
    {
     "ename": "AttributeError",
     "evalue": "'dict' object has no attribute 'item'",
     "output_type": "error",
     "traceback": [
      "\u001b[1;31m---------------------------------------------------------------------------\u001b[0m",
      "\u001b[1;31mAttributeError\u001b[0m                            Traceback (most recent call last)",
      "\u001b[1;32m<ipython-input-67-1d59a1bfc6c8>\u001b[0m in \u001b[0;36m<module>\u001b[1;34m\u001b[0m\n\u001b[0;32m      9\u001b[0m     }\n\u001b[0;32m     10\u001b[0m \u001b[1;33m\u001b[0m\u001b[0m\n\u001b[1;32m---> 11\u001b[1;33m \u001b[1;32mfor\u001b[0m \u001b[0mkey\u001b[0m\u001b[1;33m,\u001b[0m \u001b[0melement\u001b[0m \u001b[1;32min\u001b[0m \u001b[0mcharacter\u001b[0m\u001b[1;33m.\u001b[0m\u001b[0mitem\u001b[0m\u001b[1;33m(\u001b[0m\u001b[1;33m)\u001b[0m\u001b[1;33m:\u001b[0m\u001b[1;33m\u001b[0m\u001b[1;33m\u001b[0m\u001b[0m\n\u001b[0m\u001b[0;32m     12\u001b[0m     \u001b[1;32mif\u001b[0m \u001b[0mtype\u001b[0m\u001b[1;33m(\u001b[0m\u001b[0melement\u001b[0m\u001b[1;33m)\u001b[0m \u001b[1;33m==\u001b[0m \u001b[0mlist\u001b[0m\u001b[1;33m:\u001b[0m\u001b[1;33m\u001b[0m\u001b[1;33m\u001b[0m\u001b[0m\n\u001b[0;32m     13\u001b[0m         \u001b[1;32mfor\u001b[0m \u001b[0mvalue\u001b[0m \u001b[1;32min\u001b[0m \u001b[0melement\u001b[0m\u001b[1;33m:\u001b[0m\u001b[1;33m\u001b[0m\u001b[1;33m\u001b[0m\u001b[0m\n",
      "\u001b[1;31mAttributeError\u001b[0m: 'dict' object has no attribute 'item'"
     ]
    }
   ],
   "source": [
    "character = {\n",
    "    \"name\": \"기사\",\n",
    "    \"level\": 12,\n",
    "    \"items\":{\n",
    "        \"sword\":\"불꽃의 검\",\n",
    "        \"armor\": \"풀플레이트\"\n",
    "        },\n",
    "    \"skill\": [\"베기\",\" 세게 베기\", \"아주 세게 베기\"]\n",
    "    }\n",
    "\n",
    "for key, element in character.item():\n",
    "    if type(element) == list:\n",
    "        for value in element:\n",
    "            print(key, \" : \", value)\n",
    "    elif type(element) == dict:\n",
    "        for key1 in element:\n",
    "            print(key1, \" : \", element[key1])\n",
    "    else:\n",
    "        print(key, \" : \",element)"
   ]
  },
  {
   "cell_type": "code",
   "execution_count": 68,
   "id": "57913c59",
   "metadata": {},
   "outputs": [
    {
     "name": "stdout",
     "output_type": "stream",
     "text": [
      "array :  [0, 4, 16, 36, 64, 100, 144, 196, 256, 324]\n",
      "array1 :  [0, 4, 16, 36, 64, 100, 144, 196, 256, 324]\n",
      "array2 :  [0, 4, 16, 36, 64, 100, 144, 196, 256, 324]\n"
     ]
    }
   ],
   "source": [
    "# list 내포 : list 안에 for 문장 사용\n",
    "array = []\n",
    "for i in range(0, 20, 2):\n",
    "    array.append(i * i)\n",
    "print(\"array : \", array)\n",
    "\n",
    "# list 내포 : list 안에 for 문장 사용 => [표현식 for 변수 in 변수 if 조건식]\n",
    "array1 = [ i*i for i in range(0,20,2) ] # 반 복 자료에서 아이템 1개를 가져와서 1에 입력 후 i + i 실행\n",
    "print(\"array1 : \",array1)\n",
    "\n",
    "# 조건식을 조합\n",
    "array2 = [ i*i for i in range(0,20) if i%2 ==0 ]\n",
    "print(\"array2 : \",array2)"
   ]
  },
  {
   "cell_type": "code",
   "execution_count": 72,
   "id": "8ce88b04",
   "metadata": {},
   "outputs": [
    {
     "name": "stdout",
     "output_type": "stream",
     "text": [
      "숫자 입력 > 2 3 4 24 56 78 89 54 87\n",
      "list_2:[2, 4, 56], list_3:[3, 87], list_6:[24, 78, 54]\n",
      "\n"
     ]
    }
   ],
   "source": [
    "# 여러 개의 숫자를 입력받아 숫자가 6의 배수면 list_6 에\n",
    "# 3의 배수면 list_3, 2의 배수면 list_2에 단 각 리스트에는 공통되는 숫자는 없습니다.\n",
    "input_data = input(\"숫자 입력 > \").split()\n",
    "# 문자를 숫자로 변환\n",
    "for i, value in enumerate(input_data):\n",
    "    input_data[i] = int(value)\n",
    "    \n",
    "#조건에 맞는 리스트 작성\n",
    "list_3 = [ i for i in  input_data if i%6 and i%3 == 0]\n",
    "   #input_data -> i -> if -> i\n",
    "list_2 = [ i for i in  input_data if i%6 and i%2 == 0]\n",
    "list_6 = [ i for i in  input_data if i%6 == 0]\n",
    "\n",
    "#결과 출력\n",
    "print(\"list_2:{}, list_3:{}, list_6:{}\\n\".format(list_2, list_3, list_6))"
   ]
  },
  {
   "cell_type": "code",
   "execution_count": 74,
   "id": "291691c6",
   "metadata": {},
   "outputs": [
    {
     "name": "stdout",
     "output_type": "stream",
     "text": [
      "a_str\n"
     ]
    }
   ],
   "source": [
    "a = 0\n",
    "b = -10\n",
    "a_str =\"\"\n",
    "if a and b:\n",
    "    print(\"a\")\n",
    "if b and a_str:\n",
    "    print(\"b\") \n",
    "if not a_str:\n",
    "    print(\"a_str\")"
   ]
  },
  {
   "cell_type": "markdown",
   "id": "0f1848d6",
   "metadata": {},
   "source": [
    "## chap 5 함수"
   ]
  },
  {
   "cell_type": "code",
   "execution_count": 86,
   "id": "7f35b60f",
   "metadata": {},
   "outputs": [],
   "source": [
    "'''\n",
    "def 함수명():\n",
    "    실행문\n",
    "    ...\n",
    "'''\n",
    "\n",
    "def print_func(value, *values, n=3):\n",
    "    for i in range(n):\n",
    "        for item in values:\n",
    "            print(value,\" : \", item)\n",
    "            return \"beak\"\n",
    "    return \"end\""
   ]
  },
  {
   "cell_type": "code",
   "execution_count": 88,
   "id": "f50ef38f",
   "metadata": {},
   "outputs": [
    {
     "name": "stdout",
     "output_type": "stream",
     "text": [
      "Hello  :  abcd\n",
      "beak\n"
     ]
    }
   ],
   "source": [
    "a=print_func(\"Hello\", \"abcd\", \"def\",n=2) #print_func(value=\"Hello\",n=3)\n",
    "print(a)"
   ]
  },
  {
   "cell_type": "code",
   "execution_count": 104,
   "id": "c81dd0b7",
   "metadata": {},
   "outputs": [],
   "source": [
    "## 문) 기호 숫자 두개를 입력받아 계산하는 프로그램을 작성\n",
    "# 기호가 '#'이면 프로그램 종료\n",
    "# 기호는 '+', '-','*', '/' 실행 다른 기호는 계속해서 진행\n",
    "# 각각의 연산을 함수로 만들어서 호출 plus_func, minus_func, mun_func, div_func\n",
    "def input_func():\n",
    "    while True:\n",
    "        input_char = input(\"부호 입력 기호가 '#'이면 프로그램 종료( '+', '-', '*', '/'): \")\n",
    "        if input_char in buho_list:\n",
    "            return input_char\n",
    "        \n",
    "def input_number():\n",
    "    while True:\n",
    "        input_number = input(\"두 수 입력 : \").split()\n",
    "        if len(input_number) == 2:\n",
    "            return input_number\n",
    "        \n",
    "def plus_func(values):\n",
    "    return (values[0] + values[1])\n",
    "\n",
    "def minus_func(values):\n",
    "    return (values[0] - values[1])\n",
    "\n",
    "def mul_func(values):\n",
    "    return (values[0] * values[1])\n",
    "\n",
    "def div_func(values):\n",
    "    return (values[0] / values[1])"
   ]
  },
  {
   "cell_type": "code",
   "execution_count": 108,
   "id": "699000c8",
   "metadata": {},
   "outputs": [
    {
     "name": "stdout",
     "output_type": "stream",
     "text": [
      "부호 입력 기호가 '#'이면 프로그램 종료( '+', '-', '*', '/'): +\n",
      "두 수 입력 : 10 20\n",
      "10 + 20 = 30\n",
      "부호 입력 기호가 '#'이면 프로그램 종료( '+', '-', '*', '/'): #\n"
     ]
    }
   ],
   "source": [
    "buho_list = ['+','-','*','/','#']\n",
    "\n",
    "while True:\n",
    "    buho_char = input_func()  # 부호 입력 :#, +, -, *, /\n",
    "    if buho_char == '#':\n",
    "        break\n",
    "    else:\n",
    "        values = input_number()\n",
    "        for i, value in enumerate(values): # 문자를 숫자로 형변환\n",
    "            values[i] = int(value)\n",
    "        if buho_char == '+':\n",
    "            result = plus_func(values)\n",
    "        elif buho_char == '-':\n",
    "            result = minus_func(values)    \n",
    "        elif buho_char == '*':\n",
    "            result = mul_func(values)\n",
    "        else:\n",
    "            result = div_func(values)\n",
    "    print(\"{} {} {} = {}\".format(values[0],buho_char,values[1],result))"
   ]
  }
 ],
 "metadata": {
  "kernelspec": {
   "display_name": "Python 3",
   "language": "python",
   "name": "python3"
  },
  "language_info": {
   "codemirror_mode": {
    "name": "ipython",
    "version": 3
   },
   "file_extension": ".py",
   "mimetype": "text/x-python",
   "name": "python",
   "nbconvert_exporter": "python",
   "pygments_lexer": "ipython3",
   "version": "3.8.8"
  }
 },
 "nbformat": 4,
 "nbformat_minor": 5
}
