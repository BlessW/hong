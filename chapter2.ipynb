{
 "cells": [
  {
   "cell_type": "code",
   "execution_count": null,
   "id": "c5c62faa",
   "metadata": {},
   "outputs": [],
   "source": [
    ">>> import keyword\n",
    ">>> print(keyword.kwlist)"
   ]
  },
  {
   "cell_type": "code",
   "execution_count": 6,
   "id": "26505e77",
   "metadata": {},
   "outputs": [
    {
     "data": {
      "text/plain": [
       "0"
      ]
     },
     "execution_count": 6,
     "metadata": {},
     "output_type": "execute_result"
    }
   ],
   "source": [
    ">>> 1 + 1\n",
    "2\n",
    ">>> 10 - 10\n",
    "0"
   ]
  },
  {
   "cell_type": "code",
   "execution_count": 11,
   "id": "cdaf4042",
   "metadata": {},
   "outputs": [
    {
     "name": "stdout",
     "output_type": "stream",
     "text": [
      "Hello Python Programming...!\n",
      "52\n",
      "273\n"
     ]
    }
   ],
   "source": [
    ">>> print(\"Hello Python Programming...!\")\n",
    ">>> print(52)\n",
    "print(273)"
   ]
  },
  {
   "cell_type": "code",
   "execution_count": 13,
   "id": "832babd6",
   "metadata": {},
   "outputs": [
    {
     "name": "stdout",
     "output_type": "stream",
     "text": [
      "52 273 Hello\n",
      "안녕하세요 저의 이름은 윤인성입니다.\n"
     ]
    }
   ],
   "source": [
    "print(52, 273, \"Hello\")\n",
    "print(\"안녕하세요\", \"저의\", \"이름은\", \"윤인성입니다.\")"
   ]
  },
  {
   "cell_type": "code",
   "execution_count": 18,
   "id": "58979364",
   "metadata": {},
   "outputs": [
    {
     "name": "stdout",
     "output_type": "stream",
     "text": [
      "# 하나만 출력합니다.\n",
      "Hello Python Programming...!\n",
      "\n",
      "# 여러 개를 출력합니다.\n",
      "10 20 30 40 50\n",
      "안녕하세요 저의 이름은 윤인성입니다!\n",
      "\n",
      "# 아무것도 출력하지 않습니다.\n",
      "--- 확인 전용선 ---\n",
      "\n",
      "\n",
      "--- 확인 전용선 ---\n"
     ]
    }
   ],
   "source": [
    "# 하나만 출력합니다.\n",
    "print(\"# 하나만 출력합니다.\")\n",
    "print(\"Hello Python Programming...!\")\n",
    "print()\n",
    "\n",
    "#여러 개를 출력합니다.\n",
    "print(\"# 여러 개를 출력합니다.\")\n",
    "print(10, 20, 30, 40, 50)\n",
    "print(\"안녕하세요\", \"저의\", \"이름은\", \"윤인성입니다!\")\n",
    "print()\n",
    "\n",
    "#아무것도 입력하지 않으면 단순하게 출바꿈합니다.\n",
    "print(\"# 아무것도 출력하지 않습니다.\")\n",
    "print(\"--- 확인 전용선 ---\")\n",
    "print()\n",
    "print()\n",
    "print(\"--- 확인 전용선 ---\")"
   ]
  },
  {
   "cell_type": "code",
   "execution_count": 20,
   "id": "90408f0e",
   "metadata": {},
   "outputs": [
    {
     "name": "stdout",
     "output_type": "stream",
     "text": [
      "# 연습 문제\n",
      "////////\n",
      "--------\n"
     ]
    }
   ],
   "source": [
    "print(\"# 연습 문제\")\n",
    "print(\"////////\")\n",
    "print(\"-\" * 8)"
   ]
  },
  {
   "cell_type": "code",
   "execution_count": 25,
   "id": "60cbc96f",
   "metadata": {},
   "outputs": [
    {
     "name": "stdout",
     "output_type": "stream",
     "text": [
      "녕\n",
      "하\n",
      "세\n",
      "요\n"
     ]
    },
    {
     "ename": "IndexError",
     "evalue": "string index out of range",
     "output_type": "error",
     "traceback": [
      "\u001b[1;31m---------------------------------------------------------------------------\u001b[0m",
      "\u001b[1;31mIndexError\u001b[0m                                Traceback (most recent call last)",
      "\u001b[1;32m<ipython-input-25-a61e9f15cd9d>\u001b[0m in \u001b[0;36m<module>\u001b[1;34m\u001b[0m\n\u001b[0;32m      3\u001b[0m \u001b[0mprint\u001b[0m\u001b[1;33m(\u001b[0m\u001b[1;34m\"안녕하세요\"\u001b[0m\u001b[1;33m[\u001b[0m\u001b[1;36m3\u001b[0m\u001b[1;33m]\u001b[0m\u001b[1;33m)\u001b[0m\u001b[1;33m\u001b[0m\u001b[1;33m\u001b[0m\u001b[0m\n\u001b[0;32m      4\u001b[0m \u001b[0mprint\u001b[0m\u001b[1;33m(\u001b[0m\u001b[1;34m\"안녕하세요\"\u001b[0m\u001b[1;33m[\u001b[0m\u001b[1;36m4\u001b[0m\u001b[1;33m]\u001b[0m\u001b[1;33m)\u001b[0m\u001b[1;33m\u001b[0m\u001b[1;33m\u001b[0m\u001b[0m\n\u001b[1;32m----> 5\u001b[1;33m \u001b[0mprint\u001b[0m\u001b[1;33m(\u001b[0m\u001b[1;34m\"안녕하세요\"\u001b[0m\u001b[1;33m[\u001b[0m\u001b[1;36m5\u001b[0m\u001b[1;33m]\u001b[0m\u001b[1;33m)\u001b[0m\u001b[1;33m\u001b[0m\u001b[1;33m\u001b[0m\u001b[0m\n\u001b[0m",
      "\u001b[1;31mIndexError\u001b[0m: string index out of range"
     ]
    }
   ],
   "source": [
    "print(\"안녕하세요\"[1])\n",
    "print(\"안녕하세요\"[2])\n",
    "print(\"안녕하세요\"[3])\n",
    "print(\"안녕하세요\"[4])\n",
    "print(\"안녕하세요\"[5])"
   ]
  },
  {
   "cell_type": "code",
   "execution_count": 27,
   "id": "b04d2994",
   "metadata": {},
   "outputs": [
    {
     "name": "stdout",
     "output_type": "stream",
     "text": [
      "녕하\n",
      "하세\n",
      "녕하세요\n",
      "안녕하\n"
     ]
    }
   ],
   "source": [
    "print(\"안녕하세요\"[1:3])\n",
    "print(\"안녕하세요\"[2:4])\n",
    "print(\"안녕하세요\"[1:])\n",
    "print(\"안녕하세요\"[:3])"
   ]
  },
  {
   "cell_type": "code",
   "execution_count": 29,
   "id": "50ef49bb",
   "metadata": {},
   "outputs": [
    {
     "name": "stdout",
     "output_type": "stream",
     "text": [
      "# 기본적인 연산\n",
      "15 + 4 = 19\n",
      "15 - 4 = 11\n",
      "15 * 4 = 60\n",
      "15 / 4 = 3.75\n"
     ]
    }
   ],
   "source": [
    "print(\"# 기본적인 연산\")\n",
    "print(15, \"+\", 4, \"=\", 15 + 4)\n",
    "print(15, \"-\", 4, \"=\", 15 - 4)\n",
    "print(15, \"*\", 4, \"=\", 15 * 4)\n",
    "print(15, \"/\", 4, \"=\", 15 / 4)"
   ]
  },
  {
   "cell_type": "code",
   "execution_count": 32,
   "id": "ad5ce46d",
   "metadata": {},
   "outputs": [
    {
     "name": "stdout",
     "output_type": "stream",
     "text": [
      "3462를 17로 나누었을 때의\n",
      "- 몫: 203\n",
      "- 나머지: 11\n"
     ]
    }
   ],
   "source": [
    "print(\"3462를 17로 나누었을 때의\")\n",
    "print(\"- 몫:\", 3462 // 17)\n",
    "print(\"- 나머지:\", 3462 % 17)"
   ]
  },
  {
   "cell_type": "code",
   "execution_count": 34,
   "id": "feb404c2",
   "metadata": {},
   "outputs": [
    {
     "name": "stdout",
     "output_type": "stream",
     "text": [
      "0.0\n",
      "4.0\n"
     ]
    }
   ],
   "source": [
    ">>> print(2 + 2 - 2 * 2 / 2 * 2)\n",
    ">>> print(2 - 2 + 2 / 2 * 2 + 2)"
   ]
  },
  {
   "cell_type": "code",
   "execution_count": 1,
   "id": "f6b77b92",
   "metadata": {},
   "outputs": [
    {
     "name": "stdout",
     "output_type": "stream",
     "text": [
      "원주율 = 3.14159265\n",
      "반지름 = 10\n",
      "원의 둘레 = 62.831853\n",
      "원의 넓이 = 314.159265\n"
     ]
    }
   ],
   "source": [
    "# 변수 선언과 할당\n",
    "pi = 3.14159265\n",
    "r = 10\n",
    "\n",
    "# 변수 참조\n",
    "print(\"원주율 =\", pi)\n",
    "print(\"반지름 =\", r)\n",
    "print(\"원의 둘레 =\", 2*pi*r)\n",
    "print(\"원의 넓이 =\", pi*r*r)"
   ]
  },
  {
   "cell_type": "code",
   "execution_count": 2,
   "id": "b462e921",
   "metadata": {},
   "outputs": [
    {
     "name": "stdout",
     "output_type": "stream",
     "text": [
      "pi :  3.14159265\n",
      "pi :  pi\n"
     ]
    }
   ],
   "source": [
    "print(\"pi : \", pi)\n",
    "pi = \"pi\"\n",
    "print(\"pi : \", pi) #변수는 데이터 타입과 무관하게 다른 데이터 타입으로 재사용 가능"
   ]
  },
  {
   "cell_type": "code",
   "execution_count": 3,
   "id": "c6960aae",
   "metadata": {},
   "outputs": [
    {
     "name": "stdout",
     "output_type": "stream",
     "text": [
      "26.0\n",
      "Hello!!\n",
      "Hello!!Hello!!Hello!!\n"
     ]
    }
   ],
   "source": [
    "# 복합 대입연산자 +=, -=, /=, *=, **=\n",
    "number = 100\n",
    "number += 30 #130\n",
    "number *= 2 #260\n",
    "number /= 10 # 26\n",
    "print(number)\n",
    "\n",
    "string = \"Hello\"; string += \"!\"; string += \"!\"; print(string)\n",
    "string *= 3; print(string)"
   ]
  },
  {
   "cell_type": "code",
   "execution_count": 4,
   "id": "444a5913",
   "metadata": {},
   "outputs": [
    {
     "name": "stdout",
     "output_type": "stream",
     "text": [
      "a_num :  10 b_string :  string\n",
      "b_string a_num 반복 :  stringstringstringstringstringstringstringstringstringstring\n"
     ]
    }
   ],
   "source": [
    "# 대입연산 = : 변수 = -> 값을 변수에 입력함\n",
    "# 문1) 숫자 변수와 문자열 변수를 선언하여 숫자변수에 10을 , 문자열 변수에 string을 입력하여 \n",
    "# 2) 두 변수의 값을 출력하세요\n",
    "# 3) 문자열 변수를 숫자 변수의 수만큼 반복해서 출력하세요\n",
    "a_num = 10\n",
    "b_string = \"string\"\n",
    "print(\"a_num : \", a_num, \"b_string : \", b_string)\n",
    "print(\"b_string a_num 반복 : \", b_string * a_num)"
   ]
  },
  {
   "cell_type": "code",
   "execution_count": 8,
   "id": "f80ecacd",
   "metadata": {},
   "outputs": [
    {
     "name": "stdout",
     "output_type": "stream",
     "text": [
      "hello\n",
      "hello\n"
     ]
    },
    {
     "data": {
      "text/plain": [
       "'hello'"
      ]
     },
     "execution_count": 8,
     "metadata": {},
     "output_type": "execute_result"
    }
   ],
   "source": [
    "# input() : 입력을 받아 변수에 저장해서 사용\n",
    "input()\n",
    "i_str =input()\n",
    "i_str"
   ]
  },
  {
   "cell_type": "code",
   "execution_count": 9,
   "id": "3174c250",
   "metadata": {},
   "outputs": [
    {
     "name": "stdout",
     "output_type": "stream",
     "text": [
      "hello python3\n",
      "hello pythohello pythohello pytho\n"
     ]
    }
   ],
   "source": [
    "# 문 : unput() 함수를 이용하여 키보드에서 문자열 (임의로), blank (1), 숫자 (1자리)를 입력받아\n",
    "# 문자와 숫자를 가각 변수에 저장한 후 입력된 문자열을 입력한 숫자만큼 반복해서 출력\n",
    "# 문자를 처음부터 -2 인덱스까지 저장 , 숫자는 (-1)로 잘라서 각가의 변수에 저장 후 실행\n",
    "# 숫자가 문자로 인식 int(숫자형변수) -> int로 변환 됨\n",
    "# a = '1'; print (type(a))\n",
    "# a = int(a); print(type(a))\n",
    "input_str = input()  # 키보드로부터 입력받은 자료를 input_str에 저장\n",
    "split_str = input_str[ : -2] # 문자열만 split_str 변수에 저장\n",
    "split_num = int(input_str[-1]) # 마지막 입력한 숫자를 split_num 에 저장\n",
    "print(split_str * split_num)"
   ]
  },
  {
   "cell_type": "code",
   "execution_count": 12,
   "id": "f9def5ef",
   "metadata": {},
   "outputs": [
    {
     "name": "stdout",
     "output_type": "stream",
     "text": [
      "<class 'str'>\n",
      "<class 'int'>\n"
     ]
    }
   ],
   "source": [
    "print(type(\"36\"))\n",
    "print(type(int(\"36\")))"
   ]
  },
  {
   "cell_type": "code",
   "execution_count": 10,
   "id": "73cb5a7e",
   "metadata": {},
   "outputs": [
    {
     "name": "stdout",
     "output_type": "stream",
     "text": [
      "45\n",
      "50\n",
      "95\n",
      "-5\n",
      "2250\n",
      "0.9\n"
     ]
    }
   ],
   "source": [
    "# 두 개의 숫자를 입력받아 변수에 저장한 후 \n",
    "# 1, 입력을 두번 받아 2, 타입 변환 후 실핼\n",
    "# 두 숫자의 +, *, /, - 의 결과를 출력\n",
    "num_1 = int(input())\n",
    "num_2 = int(input())\n",
    "print(num_1 + num_2)\n",
    "print(num_1 - num_2)\n",
    "print(num_1 * num_2)\n",
    "print(num_1 / num_2)"
   ]
  },
  {
   "cell_type": "code",
   "execution_count": 13,
   "id": "94ad4dd5",
   "metadata": {},
   "outputs": [
    {
     "data": {
      "text/plain": [
       "'12344567'"
      ]
     },
     "execution_count": 13,
     "metadata": {},
     "output_type": "execute_result"
    }
   ],
   "source": [
    "str(\"1234\") + str(\"4567\")"
   ]
  },
  {
   "cell_type": "code",
   "execution_count": 14,
   "id": "122b0e2b",
   "metadata": {},
   "outputs": [
    {
     "data": {
      "text/plain": [
       "5801"
      ]
     },
     "execution_count": 14,
     "metadata": {},
     "output_type": "execute_result"
    }
   ],
   "source": [
    "1234 + 4567"
   ]
  },
  {
   "cell_type": "code",
   "execution_count": 15,
   "id": "11249ac3",
   "metadata": {},
   "outputs": [
    {
     "name": "stdout",
     "output_type": "stream",
     "text": [
      "원의 반지름 입력 > 5.3\n",
      "\n",
      "반지름:  5.3\n",
      "둘레:  33.284\n",
      "넓이:  88.2026\n"
     ]
    }
   ],
   "source": [
    "#연습문제 p90 5번\n",
    "str_input = input(\"원의 반지름 입력 > \")\n",
    "num_input = float(str_input)\n",
    "#num_input =float(input(\"원의 반지름 입력 > \"))   2와 3을 한꺼번에 코딩\n",
    "\n",
    "print()\n",
    "print(\"반지름: \", num_input)\n",
    "print(\"둘레: \", 2 *3.14 * num_input)\n",
    "print(\"넓이: \", 3.14 * num_input ** 2)"
   ]
  },
  {
   "cell_type": "code",
   "execution_count": null,
   "id": "e2e9573b",
   "metadata": {},
   "outputs": [],
   "source": []
  }
 ],
 "metadata": {
  "kernelspec": {
   "display_name": "Python 3",
   "language": "python",
   "name": "python3"
  },
  "language_info": {
   "codemirror_mode": {
    "name": "ipython",
    "version": 3
   },
   "file_extension": ".py",
   "mimetype": "text/x-python",
   "name": "python",
   "nbconvert_exporter": "python",
   "pygments_lexer": "ipython3",
   "version": "3.8.8"
  }
 },
 "nbformat": 4,
 "nbformat_minor": 5
}
