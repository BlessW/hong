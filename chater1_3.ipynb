{
 "cells": [
  {
   "cell_type": "code",
   "execution_count": 2,
   "id": "a9b7e4c9",
   "metadata": {},
   "outputs": [
    {
     "name": "stdout",
     "output_type": "stream",
     "text": [
      "['False', 'None', 'True', 'and', 'as', 'assert', 'async', 'await', 'break', 'class', 'continue', 'def', 'del', 'elif', 'else', 'except', 'finally', 'for', 'from', 'global', 'if', 'import', 'in', 'is', 'lambda', 'nonlocal', 'not', 'or', 'pass', 'raise', 'return', 'try', 'while', 'with', 'yield']\n"
     ]
    }
   ],
   "source": [
    "import keyword\n",
    "\n",
    "print(keyword.kwlist)"
   ]
  },
  {
   "cell_type": "code",
   "execution_count": 5,
   "id": "bc853c69",
   "metadata": {},
   "outputs": [
    {
     "data": {
      "text/plain": [
       "30"
      ]
     },
     "execution_count": 5,
     "metadata": {},
     "output_type": "execute_result"
    }
   ],
   "source": [
    "a = 10\n",
    "b = 20\n",
    "a+b"
   ]
  },
  {
   "cell_type": "code",
   "execution_count": 6,
   "id": "c2a9ee1f",
   "metadata": {},
   "outputs": [
    {
     "data": {
      "text/plain": [
       "'abcd'"
      ]
     },
     "execution_count": 6,
     "metadata": {},
     "output_type": "execute_result"
    }
   ],
   "source": [
    "a\n",
    "a = \"abcd\"\n",
    "a"
   ]
  },
  {
   "cell_type": "markdown",
   "id": "62ae4fee",
   "metadata": {},
   "source": [
    " # chap02\n",
    "     \n",
    " ## 01. 자료형"
   ]
  },
  {
   "cell_type": "code",
   "execution_count": 2,
   "id": "7e9c6eea",
   "metadata": {},
   "outputs": [
    {
     "name": "stdout",
     "output_type": "stream",
     "text": [
      "<class 'int'>\n",
      "<class 'str'>\n",
      "<class 'bool'>\n",
      "Hello test <class 'str'> <class 'str'>\n"
     ]
    }
   ],
   "source": [
    "print(type(1))\n",
    "print(type(\"Hello\"))\n",
    "print(type(True))\n",
    "\n",
    "print(\"Hello\", \"test\", type(\"Hello\"), type(\"Test\"))"
   ]
  },
  {
   "cell_type": "markdown",
   "id": "08f4106d",
   "metadata": {},
   "source": [
    "print 함수에서 특수문자(\",',newline, tab) 을 출력하고자 할 경우 excape문자 \\를 문자 앞에 입력하면 특수문자가 출력 됨¶"
   ]
  },
  {
   "cell_type": "code",
   "execution_count": 3,
   "id": "7a626492",
   "metadata": {},
   "outputs": [
    {
     "name": "stdout",
     "output_type": "stream",
     "text": [
      "\"안녕하세요\"\n",
      " 'Hello'\n"
     ]
    }
   ],
   "source": [
    "print(\"\\\"안녕하세요\\\"\\n \\'Hello\\'\")"
   ]
  },
  {
   "cell_type": "code",
   "execution_count": 4,
   "id": "3c1ae4a3",
   "metadata": {},
   "outputs": [
    {
     "name": "stdout",
     "output_type": "stream",
     "text": [
      "하늘\n",
      "python\n",
      "date\n",
      "data하늘pythondata\n",
      "\n"
     ]
    }
   ],
   "source": [
    "# 여러 라인으로 출력\n",
    "print('''하늘\n",
    "python\n",
    "date''')\n",
    "print(\"\"\"data\\\n",
    "하늘\\\n",
    "python\\\n",
    "data\n",
    "\"\"\")  # newline 출력 안함"
   ]
  },
  {
   "cell_type": "code",
   "execution_count": 5,
   "id": "0a219713",
   "metadata": {},
   "outputs": [
    {
     "name": "stdout",
     "output_type": "stream",
     "text": [
      "abcddef\n",
      "********************\n",
      "abcd1\n"
     ]
    }
   ],
   "source": [
    "# 문자열 연산자 => +, * 만 사용 가능\n",
    "\n",
    "print(\"abcd\" + \"def\")\n",
    "print(\"*\"*20)\n",
    "#print(\"abcd\" + 1) # type error\n",
    "print(\"abcd\" + \"1\")"
   ]
  },
  {
   "cell_type": "code",
   "execution_count": 6,
   "id": "ac476b3a",
   "metadata": {},
   "outputs": [
    {
     "name": "stdout",
     "output_type": "stream",
     "text": [
      "이름\t나이\t지역\n",
      "윤인성\t25\t강서구\n",
      "윤아린\t24\t강서구\n",
      "구름\t3\t강서구\n"
     ]
    }
   ],
   "source": [
    "print(\"이름\\t나이\\t지역\")\n",
    "print(\"윤인성\\t25\\t강서구\")\n",
    "print(\"윤아린\\t24\\t강서구\")\n",
    "print(\"구름\\t3\\t강서구\")"
   ]
  },
  {
   "cell_type": "code",
   "execution_count": 11,
   "id": "890a3b6a",
   "metadata": {},
   "outputs": [
    {
     "name": "stdout",
     "output_type": "stream",
     "text": [
      "a[0] :  H \t Hello[0] :  H\n",
      "a[3] :  l \t Hello[-1] :  o\n"
     ]
    }
   ],
   "source": [
    "# 문자열 인덱스\n",
    "\n",
    "a = \"Hello\"\n",
    "\n",
    "print(\"a[0] : \", a[0],\"\\t\" ,\"Hello[0] : \",\"Hello\"[0])\n",
    "print(\"a[3] : \", a[3],\"\\t\" ,\"Hello[-1] : \",\"Hello\"[-1])"
   ]
  },
  {
   "cell_type": "code",
   "execution_count": 12,
   "id": "18233d9a",
   "metadata": {},
   "outputs": [
    {
     "name": "stdout",
     "output_type": "stream",
     "text": [
      "a[1:3]  el \t Hello[:3] :  hel\n",
      "Hello\n",
      "ello\n",
      "Hel\n"
     ]
    }
   ],
   "source": [
    "# 문자열 자르기 [시작,끝] -> 시작은 포함, 끝은 포함하지 않음\n",
    "print(\"a[1:3] \", a[1:3], \"\\t\" ,\"Hello[:3] : \",\"hello\"[:3])\n",
    "print(a[:]) # 전체 문자열\n",
    "print(a[1:]) # 2번째 인덱스부터 끝까지\n",
    "print(a[:3]) # 처음부터 3번째 인덱스 전까지\n",
    "#print(a[5]) # error index 범위 벗어남"
   ]
  },
  {
   "cell_type": "code",
   "execution_count": 13,
   "id": "6e23148b",
   "metadata": {},
   "outputs": [
    {
     "name": "stdout",
     "output_type": "stream",
     "text": [
      "Hello \t el\n"
     ]
    }
   ],
   "source": [
    "a[1:3]\n",
    "b = a[1:3]\n",
    "print(a, \"\\t\", b)"
   ]
  },
  {
   "cell_type": "markdown",
   "id": "089cb098",
   "metadata": {},
   "source": [
    "## 숫자형"
   ]
  },
  {
   "cell_type": "code",
   "execution_count": 14,
   "id": "efa855bb",
   "metadata": {},
   "outputs": [
    {
     "name": "stdout",
     "output_type": "stream",
     "text": [
      "a +b = 7\n",
      "a -b = 3\n",
      "a/b = 2.5\n",
      "a // b = 2\n",
      "a % b = 1\n",
      "a ** b = 25\n",
      "0.0\n",
      "4.0\n"
     ]
    }
   ],
   "source": [
    "# 숫자형 연산 : +, -, *, /, //(묷), % (나머지 값), ** (제곱연산지)\n",
    "\n",
    "a=5 ;  b=2\n",
    "print(\"a +b =\", a+b)\n",
    "print(\"a -b =\", a-b)\n",
    "print(\"a/b =\", a/b) # 자동으로 float 형으로 바뀜\n",
    "print(\"a // b =\", a//b)\n",
    "print(\"a % b =\",a%b)\n",
    "print(\"a ** b =\", a **b)\n",
    "\n",
    "# 숫자형 연산자의 우선순위\n",
    "print (2 + 2 -2 * 2 / 2 * 2) # (2 * 2 )-> 2 + 2 -(4 /2) *2 -> (2 * 2) -> (2 + 2) - 4 -> 4 - 4 => 0\n",
    "print((2 + 2 - 2) * 2 / 2 *2)"
   ]
  },
  {
   "cell_type": "code",
   "execution_count": null,
   "id": "8713e24c",
   "metadata": {},
   "outputs": [],
   "source": []
  }
 ],
 "metadata": {
  "kernelspec": {
   "display_name": "Python 3",
   "language": "python",
   "name": "python3"
  },
  "language_info": {
   "codemirror_mode": {
    "name": "ipython",
    "version": 3
   },
   "file_extension": ".py",
   "mimetype": "text/x-python",
   "name": "python",
   "nbconvert_exporter": "python",
   "pygments_lexer": "ipython3",
   "version": "3.8.8"
  }
 },
 "nbformat": 4,
 "nbformat_minor": 5
}
