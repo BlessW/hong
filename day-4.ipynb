{
 "cells": [
  {
   "cell_type": "code",
   "execution_count": 7,
   "id": "480b868a",
   "metadata": {},
   "outputs": [
    {
     "name": "stdout",
     "output_type": "stream",
     "text": [
      "fibonacci(10)를 구합니다.\n",
      "fibonacci(9)를 구합니다.\n",
      "fibonacci(8)를 구합니다.\n",
      "fibonacci(7)를 구합니다.\n",
      "fibonacci(6)를 구합니다.\n",
      "fibonacci(5)를 구합니다.\n",
      "fibonacci(4)를 구합니다.\n",
      "fibonacci(3)를 구합니다.\n",
      "fibonacci(2)를 구합니다.\n",
      "fibonacci(1)를 구합니다.\n",
      "fibonacci(2)를 구합니다.\n",
      "fibonacci(3)를 구합니다.\n",
      "fibonacci(2)를 구합니다.\n",
      "fibonacci(1)를 구합니다.\n",
      "fibonacci(4)를 구합니다.\n",
      "fibonacci(3)를 구합니다.\n",
      "fibonacci(2)를 구합니다.\n",
      "fibonacci(1)를 구합니다.\n",
      "fibonacci(2)를 구합니다.\n",
      "fibonacci(5)를 구합니다.\n",
      "fibonacci(4)를 구합니다.\n",
      "fibonacci(3)를 구합니다.\n",
      "fibonacci(2)를 구합니다.\n",
      "fibonacci(1)를 구합니다.\n",
      "fibonacci(2)를 구합니다.\n",
      "fibonacci(3)를 구합니다.\n",
      "fibonacci(2)를 구합니다.\n",
      "fibonacci(1)를 구합니다.\n",
      "fibonacci(6)를 구합니다.\n",
      "fibonacci(5)를 구합니다.\n",
      "fibonacci(4)를 구합니다.\n",
      "fibonacci(3)를 구합니다.\n",
      "fibonacci(2)를 구합니다.\n",
      "fibonacci(1)를 구합니다.\n",
      "fibonacci(2)를 구합니다.\n",
      "fibonacci(3)를 구합니다.\n",
      "fibonacci(2)를 구합니다.\n",
      "fibonacci(1)를 구합니다.\n",
      "fibonacci(4)를 구합니다.\n",
      "fibonacci(3)를 구합니다.\n",
      "fibonacci(2)를 구합니다.\n",
      "fibonacci(1)를 구합니다.\n",
      "fibonacci(2)를 구합니다.\n",
      "fibonacci(7)를 구합니다.\n",
      "fibonacci(6)를 구합니다.\n",
      "fibonacci(5)를 구합니다.\n",
      "fibonacci(4)를 구합니다.\n",
      "fibonacci(3)를 구합니다.\n",
      "fibonacci(2)를 구합니다.\n",
      "fibonacci(1)를 구합니다.\n",
      "fibonacci(2)를 구합니다.\n",
      "fibonacci(3)를 구합니다.\n",
      "fibonacci(2)를 구합니다.\n",
      "fibonacci(1)를 구합니다.\n",
      "fibonacci(4)를 구합니다.\n",
      "fibonacci(3)를 구합니다.\n",
      "fibonacci(2)를 구합니다.\n",
      "fibonacci(1)를 구합니다.\n",
      "fibonacci(2)를 구합니다.\n",
      "fibonacci(5)를 구합니다.\n",
      "fibonacci(4)를 구합니다.\n",
      "fibonacci(3)를 구합니다.\n",
      "fibonacci(2)를 구합니다.\n",
      "fibonacci(1)를 구합니다.\n",
      "fibonacci(2)를 구합니다.\n",
      "fibonacci(3)를 구합니다.\n",
      "fibonacci(2)를 구합니다.\n",
      "fibonacci(1)를 구합니다.\n",
      "fibonacci(8)를 구합니다.\n",
      "fibonacci(7)를 구합니다.\n",
      "fibonacci(6)를 구합니다.\n",
      "fibonacci(5)를 구합니다.\n",
      "fibonacci(4)를 구합니다.\n",
      "fibonacci(3)를 구합니다.\n",
      "fibonacci(2)를 구합니다.\n",
      "fibonacci(1)를 구합니다.\n",
      "fibonacci(2)를 구합니다.\n",
      "fibonacci(3)를 구합니다.\n",
      "fibonacci(2)를 구합니다.\n",
      "fibonacci(1)를 구합니다.\n",
      "fibonacci(4)를 구합니다.\n",
      "fibonacci(3)를 구합니다.\n",
      "fibonacci(2)를 구합니다.\n",
      "fibonacci(1)를 구합니다.\n",
      "fibonacci(2)를 구합니다.\n",
      "fibonacci(5)를 구합니다.\n",
      "fibonacci(4)를 구합니다.\n",
      "fibonacci(3)를 구합니다.\n",
      "fibonacci(2)를 구합니다.\n",
      "fibonacci(1)를 구합니다.\n",
      "fibonacci(2)를 구합니다.\n",
      "fibonacci(3)를 구합니다.\n",
      "fibonacci(2)를 구합니다.\n",
      "fibonacci(1)를 구합니다.\n",
      "fibonacci(6)를 구합니다.\n",
      "fibonacci(5)를 구합니다.\n",
      "fibonacci(4)를 구합니다.\n",
      "fibonacci(3)를 구합니다.\n",
      "fibonacci(2)를 구합니다.\n",
      "fibonacci(1)를 구합니다.\n",
      "fibonacci(2)를 구합니다.\n",
      "fibonacci(3)를 구합니다.\n",
      "fibonacci(2)를 구합니다.\n",
      "fibonacci(1)를 구합니다.\n",
      "fibonacci(4)를 구합니다.\n",
      "fibonacci(3)를 구합니다.\n",
      "fibonacci(2)를 구합니다.\n",
      "fibonacci(1)를 구합니다.\n",
      "fibonacci(2)를 구합니다.\n",
      "---\n",
      "fibonacci(10) 계산에 활용된 덧셈 횟수는 109번입니다.\n"
     ]
    }
   ],
   "source": [
    "#변수를 선언합니다\n",
    "counter = 0\n",
    "\n",
    "#함수를 선언합니다.\n",
    "def fibonacci(n):\n",
    "    #어떤 피보나치 수를 구하는지 출력합니다.\n",
    "    print(\"fibonacci({})를 구합니다.\".format(n))\n",
    "    global counter\n",
    "    counter += 1\n",
    "    # 피보나치를 구합니다.\n",
    "    if n == 1:\n",
    "        return 1\n",
    "    if n == 2:\n",
    "        return 1\n",
    "    else:\n",
    "        return fibonacci(n - 1) + fibonacci(n - 2)\n",
    "\n",
    "#함수를 호출합니다.\n",
    "fibonacci(10)\n",
    "print(\"---\")\n",
    "print(\"fibonacci(10) 계산에 활용된 덧셈 횟수는 {}번입니다.\".format(counter))"
   ]
  },
  {
   "cell_type": "code",
   "execution_count": null,
   "id": "2e116d8e",
   "metadata": {},
   "outputs": [],
   "source": [
    "# 메모 변수를 만듭니다\n",
    "dictionary = {\n",
    "    1: 1,\n",
    "    2: 2\n",
    "}\n",
    "\n",
    "count = 0\n",
    "# 함수를 선언합니다. 피보나치함수\n",
    "def fibonacci(n):\n",
    "    global count\n",
    "    count += 1\n",
    "    if n in dictionary:\n",
    "        # 메모되어 있으면 메모됨 값 리턴\n",
    "        return dictionary[n]\n",
    "    else:\n",
    "        #메모되어있지 않으면 값을 구함\n",
    "        output = fibonacci(n - 1) + fibonacci(n - 2)\n",
    "        dictionary[n] = output\n",
    "        return output\n",
    "    \n",
    "#함수를 호출합니다.\n",
    "print(\"fibonacci(10):\", fibonacci(10), count)"
   ]
  },
  {
   "cell_type": "code",
   "execution_count": 3,
   "id": "9f9a5d15",
   "metadata": {},
   "outputs": [
    {
     "name": "stdout",
     "output_type": "stream",
     "text": [
      " example origina :  [[1, 2, 3], [4, 5, 6], 7, [8, 9]]\n",
      " example flatten :  [1, 2, 3, 4, 5, 6, 7, 8, 9]\n"
     ]
    }
   ],
   "source": [
    "#평탄화 함수 작성\n",
    "def flatten(data):\n",
    "    #최종결과를 저장할 리스트 작성\n",
    "    output = []\n",
    "    #리스트 각각의 item을 가져와서 작업\n",
    "    for item in data:\n",
    "        #데이터의 타입이 list이면 faltten함수 호출 아니면 output에 리스트 추가\n",
    "        if type(item) == list:\n",
    "            output += flatten(item)\n",
    "        else :\n",
    "            output.append(item)\n",
    "    return output\n",
    "\n",
    "example = [[1,2,3],[4,5,6],7,[8,9]]\n",
    "print(\" example origina : \",example)\n",
    "print(\" example flatten : \", flatten(example)) #평탄화 함수 호출\n"
   ]
  },
  {
   "cell_type": "code",
   "execution_count": null,
   "id": "f18b561a",
   "metadata": {},
   "outputs": [],
   "source": []
  },
  {
   "cell_type": "code",
   "execution_count": 6,
   "id": "78b79a53",
   "metadata": {},
   "outputs": [
    {
     "name": "stdout",
     "output_type": "stream",
     "text": [
      " 두 수의 입력 : 10 20\n",
      "10\n"
     ]
    }
   ],
   "source": [
    "# 문) 두 수를 입력받아 큰 수에서 작은 수(num1 - num2)의 형식으로 작성하세요\n",
    "# 함수 정의\n",
    "def minus_func(num1,num2):\n",
    "    return num1 - num2\n",
    "\n",
    "def trans_func(num1, num2):\n",
    "    if num1 < num2:\n",
    "        return (num2, num1)\n",
    "    else:\n",
    "        return (num1, num2)\n",
    "    \n",
    "input_numbers = input(\" 두 수의 입력 : \").split()\n",
    "(num1, num2) = trans_func(int(input_numbers[0]),int(input_numbers[1]))\n",
    "print(minus_func(num1, num2))"
   ]
  },
  {
   "cell_type": "code",
   "execution_count": null,
   "id": "460a5a3b",
   "metadata": {},
   "outputs": [],
   "source": [
    "# 제너레이터 함수 만들기 : yield 키워드를 넣으면 일반 함수가 제너레이터 함수가 됨\n",
    "def test():\n",
    "    print(\"함수 호출 111\")\n",
    "    yield 1\n",
    "    print(\"함수 호출 222\")\n",
    "    yield 2\n",
    "    print(\"함수 호출 333\")\n",
    "    yield \"abc\"\n",
    "\n",
    "output = test()\n",
    "print(\"시작 00 : \", next(output))# next() 함수를 사용해야 제너레이터 함수 호출\n",
    "print(\"시작 11 : \", next(output))\n",
    "print(\"시작 22 : \", next(output))\n",
    "next(output)  # 더이상 진행 할 부분이 없음 error"
   ]
  },
  {
   "cell_type": "code",
   "execution_count": null,
   "id": "0b3cba8e",
   "metadata": {},
   "outputs": [],
   "source": [
    "try :\n",
    "    input_number = int(input(\" \"))"
   ]
  },
  {
   "cell_type": "code",
   "execution_count": null,
   "id": "5f4f45f9",
   "metadata": {},
   "outputs": [],
   "source": [
    "def write_func(filename, text):\n",
    "    try"
   ]
  },
  {
   "cell_type": "code",
   "execution_count": 3,
   "id": "a345e852",
   "metadata": {},
   "outputs": [
    {
     "ename": "SyntaxError",
     "evalue": "invalid syntax (<ipython-input-3-d9fbfbdb43fb>, line 6)",
     "output_type": "error",
     "traceback": [
      "\u001b[1;36m  File \u001b[1;32m\"<ipython-input-3-d9fbfbdb43fb>\"\u001b[1;36m, line \u001b[1;32m6\u001b[0m\n\u001b[1;33m    while True\u001b[0m\n\u001b[1;37m              ^\u001b[0m\n\u001b[1;31mSyntaxError\u001b[0m\u001b[1;31m:\u001b[0m invalid syntax\n"
     ]
    }
   ],
   "source": [
    "# 키보드에서 파일명을 입력받아 \"r\" 모드로 열어서 파일의 내용을 화면에 출력\n",
    "# 없으면 \"w\"모드로 open후 \"New file\"을 파일에 저장 후 파일 close\n",
    "# try ~ except ~ finally 활용\n",
    "# 파일명 입력\n",
    "\n",
    "while True\n",
    "    filename = input(\"파일명 입력 : \")\n",
    "    try:\n",
    "        file =open(filename, \"r\")\n",
    "        print(file,read())\n",
    "        break\n",
    "        print(\"try break test\")\n",
    "    except Exception as err :\n",
    "        print(\"file open err : \",err)\n",
    "        file = open(filename,\"w\")\n",
    "        file.write(\"New file\")\n",
    "    finally:  # 어떤 상황에도 무조건 실행\n",
    "        file.close()\n",
    "    \n",
    "print(\"file.closed : \",file.closed)"
   ]
  },
  {
   "cell_type": "code",
   "execution_count": 4,
   "id": "a8f33149",
   "metadata": {},
   "outputs": [
    {
     "name": "stdout",
     "output_type": "stream",
     "text": [
      "파일명 입력 : test\n",
      "file open err :  name 'read' is not defined\n",
      "file.closed :  True\n"
     ]
    }
   ],
   "source": [
    "filename = input(\"파일명 입력 : \")\n",
    "try:\n",
    "    file =open(filename, \"r\")\n",
    "    print(file,read())\n",
    "    print(\"try break test\")\n",
    "\n",
    "except Exception as err :\n",
    "    print(\"file open err : \",err)\n",
    "    file = open(filename,\"w\")\n",
    "    file.write(\"New file\")\n",
    "    \n",
    "finally:  # 어떤 상황에도 무조건 실행\n",
    "    file.close()\n",
    "    \n",
    "print(\"file.closed : \",file.closed)"
   ]
  },
  {
   "cell_type": "code",
   "execution_count": null,
   "id": "8c9f9b2b",
   "metadata": {},
   "outputs": [],
   "source": [
    "#변수를 선언합니다.\n",
    "list_number + [52,273, 32, 72, 100]\n",
    "\n",
    "# try except 구문으로 예외를 처리합니다.\n",
    "try:\n",
    "    #숫자를 입력 받습니다.\n",
    "    number_input = int(input(\"정수 입력> \"))\n",
    "    # 리스트의 요소를 출력합니다.\n",
    "    print(\"{}번쨰 요소: {}\".format(number_input, list_number[number_input]))\n",
    "    #예외. 발생해주세요()\n",
    "except ValueError as exception:\n",
    "    #ValueError가 발생하는 경우\n",
    "    print(\"정수를 입력해 주세요!\")\n",
    "    print(type(exception))"
   ]
  },
  {
   "cell_type": "code",
   "execution_count": null,
   "id": "26a16bb7",
   "metadata": {},
   "outputs": [],
   "source": [
    "'''파일명을 입력받아 \"w\" 모드로 open한 ㅎ\n",
    "     이름과 성적을 입력받아 파일에 저장\n",
    "     이름에 \"end\"가 입력되면 file을 close한 후\n",
    "     \"r\"모드로 파일을 다시 open\n",
    "     파일에서 자료를 읽어 list에 저정한 후\n",
    "     키보드로부터 검색할 이름을 검색한 우 있으면 이름과 성적 출력\n",
    "     없으면 \"Not found \" 출력\n",
    "파일을 open하는 함수 file_open() 작성'''\n",
    "\n",
    "#파일명 입력\n",
    "#파일open 함수 호출\n",
    "#자료 입력 ( 이름, 성적), 이름에 \"end\"입력되면 입력 종료\n",
    "#파일 close\n",
    "#파일 open 함수 호출\n",
    "# 자료를 가져와서 변수에 저장\n",
    "# 검색할 이름 입력\n",
    "# 자료 검색 : 존재하면 출력, 없으면 \" Not found \" 출력"
   ]
  },
  {
   "cell_type": "code",
   "execution_count": 2,
   "id": "84a088e0",
   "metadata": {},
   "outputs": [],
   "source": [
    "#파일ot:pen\n",
    "def file_open(file_name, filemode):\n",
    "    file = open(file_name, file_mode)\n",
    "    return file\n",
    "\n",
    "def file_write(file): #자료 입력 ( 이름, 성적), 이름에 \"end\"입력되면 입력 종료\n",
    "        while True:\n",
    "            name = input(\" 이름 입력 : 'end' 입력시 종료> \")\n",
    "            if name == 'end':\n",
    "                break\n",
    "                \n",
    "        while True:\n",
    "            try:\n",
    "                score = int(input(\" 성적 입력 > \"))\n",
    "                break\n",
    "            except:\n",
    "                print(\"숫자 입력 \")\n",
    "        context = name + ',' + str(score) + '\\n'\n",
    "        file.write(context)   # file 자료 저장"
   ]
  },
  {
   "cell_type": "code",
   "execution_count": 5,
   "id": "7c7190f8",
   "metadata": {},
   "outputs": [
    {
     "name": "stdout",
     "output_type": "stream",
     "text": [
      "파일명입력 > kjhkj\n"
     ]
    },
    {
     "ename": "NameError",
     "evalue": "name 'file_mode' is not defined",
     "output_type": "error",
     "traceback": [
      "\u001b[1;31m---------------------------------------------------------------------------\u001b[0m",
      "\u001b[1;31mNameError\u001b[0m                                 Traceback (most recent call last)",
      "\u001b[1;32m<ipython-input-5-7eeeb4d82698>\u001b[0m in \u001b[0;36m<module>\u001b[1;34m\u001b[0m\n\u001b[0;32m      1\u001b[0m \u001b[1;31m#파일명 입력\u001b[0m\u001b[1;33m\u001b[0m\u001b[1;33m\u001b[0m\u001b[1;33m\u001b[0m\u001b[0m\n\u001b[0;32m      2\u001b[0m \u001b[0mfile_name\u001b[0m \u001b[1;33m=\u001b[0m \u001b[0minput\u001b[0m\u001b[1;33m(\u001b[0m\u001b[1;34m\"파일명입력 > \"\u001b[0m\u001b[1;33m)\u001b[0m\u001b[1;33m\u001b[0m\u001b[1;33m\u001b[0m\u001b[0m\n\u001b[1;32m----> 3\u001b[1;33m \u001b[0mfile\u001b[0m \u001b[1;33m=\u001b[0m \u001b[0mfile_open\u001b[0m\u001b[1;33m(\u001b[0m\u001b[0mfile_name\u001b[0m\u001b[1;33m,\u001b[0m\u001b[1;34m\"a\"\u001b[0m\u001b[1;33m)\u001b[0m \u001b[1;31m# 파일 오픈 함수 호출\u001b[0m\u001b[1;33m\u001b[0m\u001b[1;33m\u001b[0m\u001b[0m\n\u001b[0m\u001b[0;32m      4\u001b[0m \u001b[0mfile_write\u001b[0m\u001b[1;33m(\u001b[0m\u001b[0mfile\u001b[0m\u001b[1;33m)\u001b[0m \u001b[1;31m# 파일에 저장하는 함수 호출\u001b[0m\u001b[1;33m\u001b[0m\u001b[1;33m\u001b[0m\u001b[0m\n\u001b[0;32m      5\u001b[0m \u001b[0mfile\u001b[0m\u001b[1;33m.\u001b[0m\u001b[0mclose\u001b[0m\u001b[1;33m(\u001b[0m\u001b[1;33m)\u001b[0m \u001b[1;31m#파일 close\u001b[0m\u001b[1;33m\u001b[0m\u001b[1;33m\u001b[0m\u001b[0m\n",
      "\u001b[1;32m<ipython-input-2-06369144aa11>\u001b[0m in \u001b[0;36mfile_open\u001b[1;34m(file_name, filemode)\u001b[0m\n\u001b[0;32m      1\u001b[0m \u001b[1;31m#파일ot:pen\u001b[0m\u001b[1;33m\u001b[0m\u001b[1;33m\u001b[0m\u001b[1;33m\u001b[0m\u001b[0m\n\u001b[0;32m      2\u001b[0m \u001b[1;32mdef\u001b[0m \u001b[0mfile_open\u001b[0m\u001b[1;33m(\u001b[0m\u001b[0mfile_name\u001b[0m\u001b[1;33m,\u001b[0m \u001b[0mfilemode\u001b[0m\u001b[1;33m)\u001b[0m\u001b[1;33m:\u001b[0m\u001b[1;33m\u001b[0m\u001b[1;33m\u001b[0m\u001b[0m\n\u001b[1;32m----> 3\u001b[1;33m     \u001b[0mfile\u001b[0m \u001b[1;33m=\u001b[0m \u001b[0mopen\u001b[0m\u001b[1;33m(\u001b[0m\u001b[0mfile_name\u001b[0m\u001b[1;33m,\u001b[0m \u001b[0mfile_mode\u001b[0m\u001b[1;33m)\u001b[0m\u001b[1;33m\u001b[0m\u001b[1;33m\u001b[0m\u001b[0m\n\u001b[0m\u001b[0;32m      4\u001b[0m     \u001b[1;32mreturn\u001b[0m \u001b[0mfile\u001b[0m\u001b[1;33m\u001b[0m\u001b[1;33m\u001b[0m\u001b[0m\n\u001b[0;32m      5\u001b[0m \u001b[1;33m\u001b[0m\u001b[0m\n",
      "\u001b[1;31mNameError\u001b[0m: name 'file_mode' is not defined"
     ]
    }
   ],
   "source": [
    "#파일명 입력\n",
    "file_name = input(\"파일명입력 > \")\n",
    "file = file_open(file_name,\"a\") # 파일 오픈 함수 호출\n",
    "file_write(file) # 파일에 저장하는 함수 호출\n",
    "file.close() #파일 close\n",
    "\n",
    "# 파일에서 자료를 가져와서 변수에 저장\n",
    "names, scores = [],[]\n",
    "with file_open(file_name,\"r\") as file:\n",
    "    for item in file:\n",
    "        value = item.split(',')\n",
    "        names.append(values[0])\n",
    "        scores.append(int(values[1]))\n",
    "        \n",
    "# 검색할 이름 입력\n",
    "name = input(\"find name > \")\n",
    "#자료 검색 : 존재하면 출력 , 없으면 \" Not found \"출력\n",
    "if name in names:\n",
    "    print(\"{} : {}\".format(name,scores[names.index(name)]))\n",
    "else:\n",
    "    print(\"Not Found\")\n",
    "# 전체 성적의 합과 평균, 인원수 출력"
   ]
  }
 ],
 "metadata": {
  "kernelspec": {
   "display_name": "Python 3",
   "language": "python",
   "name": "python3"
  },
  "language_info": {
   "codemirror_mode": {
    "name": "ipython",
    "version": 3
   },
   "file_extension": ".py",
   "mimetype": "text/x-python",
   "name": "python",
   "nbconvert_exporter": "python",
   "pygments_lexer": "ipython3",
   "version": "3.8.8"
  }
 },
 "nbformat": 4,
 "nbformat_minor": 5
}
