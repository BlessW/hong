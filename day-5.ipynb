{
 "cells": [
  {
   "cell_type": "code",
   "execution_count": 1,
   "id": "a586198e",
   "metadata": {},
   "outputs": [],
   "source": [
    "import math # import 모듈명"
   ]
  },
  {
   "cell_type": "code",
   "execution_count": 5,
   "id": "af9ed105",
   "metadata": {},
   "outputs": [
    {
     "data": {
      "text/plain": [
       "-0.5440211108893698"
      ]
     },
     "execution_count": 5,
     "metadata": {},
     "output_type": "execute_result"
    }
   ],
   "source": [
    "math.sin(10) # 모듈명, 오브젝트"
   ]
  },
  {
   "cell_type": "code",
   "execution_count": 4,
   "id": "7bc2f1dc",
   "metadata": {},
   "outputs": [
    {
     "data": {
      "text/plain": [
       "11"
      ]
     },
     "execution_count": 4,
     "metadata": {},
     "output_type": "execute_result"
    }
   ],
   "source": [
    "math.ceil(10.56) # 숫자보다 큰 정수중의 최소값"
   ]
  },
  {
   "cell_type": "code",
   "execution_count": 7,
   "id": "f4fa7455",
   "metadata": {},
   "outputs": [
    {
     "data": {
      "text/plain": [
       "10"
      ]
     },
     "execution_count": 7,
     "metadata": {},
     "output_type": "execute_result"
    }
   ],
   "source": [
    "math.trunc(10.5)\n",
    "math.floor(10.56) #숫자보다 작은 정수중의 최대값"
   ]
  },
  {
   "cell_type": "code",
   "execution_count": 9,
   "id": "0317e64f",
   "metadata": {},
   "outputs": [
    {
     "data": {
      "text/plain": [
       "-0.5440211108893698"
      ]
     },
     "execution_count": 9,
     "metadata": {},
     "output_type": "execute_result"
    }
   ],
   "source": [
    "# from 모듈명 import가져오고자 하는 변수 또는 함수\n",
    "from math import sin, trunc, floor\n",
    "#from math import\n",
    "\n",
    "\n",
    "sin(10)"
   ]
  },
  {
   "cell_type": "code",
   "execution_count": 3,
   "id": "bf98ff13",
   "metadata": {},
   "outputs": [
    {
     "name": "stdout",
     "output_type": "stream",
     "text": [
      "m.sin =  -0.5440211108893698\n",
      "m.cos =  -0.8390715290764524\n",
      "m.tan =  0.6483608274590866\n",
      "m.floor =  2\n",
      "m.ceil =  3\n"
     ]
    }
   ],
   "source": [
    "import math as m\n",
    "\n",
    "print(\"m.sin = \",m.sin(10))\n",
    "print(\"m.cos = \",m.cos(10))\n",
    "print(\"m.tan = \",m.tan(10))\n",
    "print(\"m.floor = \",m.floor(2.5))\n",
    "print(\"m.ceil = \",m.ceil (2.5))"
   ]
  },
  {
   "cell_type": "markdown",
   "id": "2c8d6f47",
   "metadata": {},
   "source": [
    "##모듈을 프로그램에 가져오는 방법\n",
    "\n",
    "\\import 모듈명\n",
    "\\import 모듈명 as 약어\n",
    "\\from 모듈명 import 변수 또는 함수,..."
   ]
  },
  {
   "cell_type": "code",
   "execution_count": 15,
   "id": "9ccbd099",
   "metadata": {},
   "outputs": [
    {
     "name": "stdout",
     "output_type": "stream",
     "text": [
      "# random 모듈\n",
      "- random(): 0.7838138678940269\n",
      "- uniform(10, 20): 11.332095689122296\n",
      "- randrange(10): 5\n",
      "- choice([1, 2, 3, 4, 5]): 4\n",
      "- shuffle([1, 2, 3, 4, 5]): None\n",
      "- sample([1, 2, 3, 4, 5], k=2): [3, 2]\n"
     ]
    }
   ],
   "source": [
    "import random\n",
    "print(\"# random 모듈\")\n",
    "\n",
    "#random(): 0.0 <= x < 1.0 사이의 float를 리턴합니다.\n",
    "print(\"- random():\", random.random())\n",
    "\n",
    "#uniform(min, max): 지정한 범위 사이의 float를 리턴합니다.\n",
    "print(\"- uniform(10, 20):\", random.uniform(10,20))\n",
    "\n",
    "#randrange(): 지정한 범위의 int를 리턴합니다.\n",
    "# - randrange(max): 0부터 max 사이의 값을 리턴합니다.\n",
    "# - randrange(min, max): min부터 max 사이의 값을 리턴합니다.\n",
    "print(\"- randrange(10):\", random.randrange(10))\n",
    "\n",
    "#choice(list): 리스트 내부에 있는 요소를 랜덤하게 선택합ㄴ다.\n",
    "print(\"- choice([1, 2, 3, 4, 5]):\", random.choice([1, 2, 3, 4, 5]))\n",
    "\n",
    "# shuffle(list): 리스트의 요소들을 랜덤하게 섞습니다.\n",
    "print(\"- shuffle([1, 2, 3, 4, 5]):\", random.shuffle([1, 2, 3, 4, 5]))\n",
    "\n",
    "# sample(list,k=<숫자>): 리스트의 요소 중에 k개를 뽑습니다.\n",
    "print(\"- sample([1, 2, 3, 4, 5], k=2):\", random.sample([1, 2, 3, 4, 5], k=2))"
   ]
  },
  {
   "cell_type": "code",
   "execution_count": 4,
   "id": "a750ed7c",
   "metadata": {},
   "outputs": [
    {
     "name": "stdout",
     "output_type": "stream",
     "text": [
      "['C:\\\\Users\\\\YOUNG\\\\anaconda3\\\\lib\\\\site-packages\\\\ipykernel_launcher.py', '-f', 'C:\\\\Users\\\\YOUNG\\\\AppData\\\\Roaming\\\\jupyter\\\\runtime\\\\kernel-cb94437a-8fc0-45d6-aa0f-a90118497efc.json']\n",
      "_________\n"
     ]
    }
   ],
   "source": [
    "# sys 모듈\n",
    "# 모듈을 읽어 들입니다. \n",
    "import sys\n",
    "# 명령 매개변수를 출력합니다.\n",
    "print(sys.argv)\n",
    "print(\"___\")"
   ]
  },
  {
   "cell_type": "code",
   "execution_count": 6,
   "id": "a5869f6c",
   "metadata": {},
   "outputs": [
    {
     "name": "stdout",
     "output_type": "stream",
     "text": [
      "getwindowsversion:():  sys.getwindowsversion(major=10, minor=0, build=19043, platform=2, service_pack='')\n",
      "___\n",
      "copyright: Copyright (c) 2001-2021 Python Software Foundation.\n",
      "All Rights Reserved.\n",
      "\n",
      "Copyright (c) 2000 BeOpen.com.\n",
      "All Rights Reserved.\n",
      "\n",
      "Copyright (c) 1995-2001 Corporation for National Research Initiatives.\n",
      "All Rights Reserved.\n",
      "\n",
      "Copyright (c) 1991-1995 Stichting Mathematisch Centrum, Amsterdam.\n",
      "All Rights Reserved.\n",
      "___\n",
      "version: 3.8.8 (default, Apr 13 2021, 15:08:03) [MSC v.1916 64 bit (AMD64)]\n"
     ]
    },
    {
     "ename": "SystemExit",
     "evalue": "",
     "output_type": "error",
     "traceback": [
      "An exception has occurred, use %tb to see the full traceback.\n",
      "\u001b[1;31mSystemExit\u001b[0m\n"
     ]
    }
   ],
   "source": [
    "# 컴퓨터 환경과 관련된 정보를 출력합니다.\n",
    "print(\"getwindowsversion:(): \",sys.getwindowsversion())\n",
    "print(\"___\")\n",
    "print(\"copyright:\", sys.copyright)\n",
    "print(\"___\")\n",
    "print(\"version:\", sys.version)\n",
    "\n",
    "# 프로그램을 강제로 종효합니다.\n",
    "sys.exit()"
   ]
  },
  {
   "cell_type": "code",
   "execution_count": 7,
   "id": "314a6478",
   "metadata": {},
   "outputs": [
    {
     "name": "stdout",
     "output_type": "stream",
     "text": [
      "현재 운영체제 : nt\n",
      "작업 디렉토리 :  C:\\Users\\YOUNG\\Desktop\\python\n",
      "작업 디렉토리 요소 : \n",
      ".ipynb_checkpoints\n",
      "chater1_3.ipynb\n",
      "day 2.ipynb\n",
      "DAY-3.ipynb\n",
      "day-4.ipynb\n",
      "day-5.ipynb\n",
      "day-6.ipynb\n",
      "module\n",
      "module_basic\n",
      "output.ipynb\n",
      "pandas p.18.ipynb\n",
      "pandas-day1.ipynb\n",
      "test\n",
      "test_dir\n",
      "test_package\n",
      "Untitled.ipynb\n",
      "Untitled1.ipynb\n"
     ]
    },
    {
     "ename": "FileExistsError",
     "evalue": "[WinError 183] 파일이 이미 있으므로 만들 수 없습니다: 'test_dir'",
     "output_type": "error",
     "traceback": [
      "\u001b[1;31m---------------------------------------------------------------------------\u001b[0m",
      "\u001b[1;31mFileExistsError\u001b[0m                           Traceback (most recent call last)",
      "\u001b[1;32m<ipython-input-7-e7a076fd3635>\u001b[0m in \u001b[0;36m<module>\u001b[1;34m\u001b[0m\n\u001b[0;32m     11\u001b[0m     \u001b[0mprint\u001b[0m\u001b[1;33m(\u001b[0m\u001b[0mfile_name\u001b[0m\u001b[1;33m)\u001b[0m\u001b[1;33m\u001b[0m\u001b[1;33m\u001b[0m\u001b[0m\n\u001b[0;32m     12\u001b[0m \u001b[1;33m\u001b[0m\u001b[0m\n\u001b[1;32m---> 13\u001b[1;33m \u001b[0mos\u001b[0m\u001b[1;33m.\u001b[0m\u001b[0mmkdir\u001b[0m\u001b[1;33m(\u001b[0m\u001b[1;34m\"test_dir\"\u001b[0m\u001b[1;33m)\u001b[0m\u001b[1;33m\u001b[0m\u001b[1;33m\u001b[0m\u001b[0m\n\u001b[0m\u001b[0;32m     14\u001b[0m \u001b[1;33m\u001b[0m\u001b[0m\n\u001b[0;32m     15\u001b[0m \u001b[0mdir_list\u001b[0m \u001b[1;33m=\u001b[0m \u001b[0mos\u001b[0m\u001b[1;33m.\u001b[0m\u001b[0mlistdir\u001b[0m\u001b[1;33m(\u001b[0m\u001b[1;33m)\u001b[0m\u001b[1;33m\u001b[0m\u001b[1;33m\u001b[0m\u001b[0m\n",
      "\u001b[1;31mFileExistsError\u001b[0m: [WinError 183] 파일이 이미 있으므로 만들 수 없습니다: 'test_dir'"
     ]
    }
   ],
   "source": [
    "# 모듈을읽어 들입니다\n",
    "import os\n",
    "\n",
    "#기본 정보를 몇 개 출력해 봅시다.\n",
    "print(\"현재 운영체제 :\", os.name)\n",
    "print(\"작업 디렉토리 : \", os.getcwd())\n",
    "\n",
    "print(\"작업 디렉토리 요소 : \")\n",
    "dir_list = os.listdir()\n",
    "for file_name in dir_list:\n",
    "    print(file_name)\n",
    "          \n",
    "os.mkdir(\"test_dir\")\n",
    "          \n",
    "dir_list = os.listdir()\n",
    "for file_name in dir_list:\n",
    "    print(file_name)\n",
    "    \n",
    "!dir # cmd창의 명령어 실행의 동일한 결과\n",
    "\n",
    "print(\"현재 운영체제:\", os.name)\n",
    "print(\"현재 폴더:\", os.getcwd())\n",
    "print(\"현재 폴더 내부의 요소:\", os.listdir())\n",
    "# 폴더를 만들고 제거 합니다(폴거다 비어있을 때만 제거 가능)\n",
    "os.mkdir(\"hello\")\n",
    "os.rmdir(\"hello\")\n",
    "# 파일을 생성하고 + 파일 이름을 변경합니다.\n",
    "with open(\"original.txt\",\"w\") as file:\n",
    "    file.write(\"hello\")\n",
    "os.rename(\"original.txt\",\"new.txt\")\n",
    "# 파일을 제거합니다\n",
    "os.remove(\"new.txt\")\n",
    "#시스템 명령어 실행\n"
   ]
  },
  {
   "cell_type": "code",
   "execution_count": 28,
   "id": "54e55d5e",
   "metadata": {},
   "outputs": [
    {
     "name": "stdout",
     "output_type": "stream",
     "text": [
      "현재 시간 :  2021-09-27 10:47:23.118728\n",
      "2021년 9월 27일 10시 47분 23초\n",
      "2021년 9월 27일 10시 47분 23초\n",
      "out_now :  2021년 09월 27일 10시 47분 23초\n",
      "시간 정지 \n",
      "시간 정지 end\n"
     ]
    }
   ],
   "source": [
    "# datetime 모듈 : date , time 관련된 코드들\n",
    "import datetime\n",
    "\n",
    "print(\"현재 시간 : \", datetime.datetime.now())\n",
    "\n",
    "now = datetime.datetime.now() # now는 변수\n",
    "print(\"{}년 {}월 {}일 {}시 {}분 {}초\".format(now.year,now.month,\n",
    "                                      now.day, now.hour, now.minute,\n",
    "                                      now.second))\n",
    "# 조금 더 쉽게 만드는 방법\n",
    "out_now = now.strftime(\"%Y{} %m{} %d{} %H{} %M{} %S{}\".format(*\"년월일시분초\"))\n",
    "print(\"{}년 {}월 {}일 {}시 {}분 {}초\".format(now.year,now.month,\n",
    "                                      now.day, now.hour, now.minute,\n",
    "                                      now.second))\n",
    "print(\"out_now : \",out_now)\n",
    "\n",
    "import time\n",
    "print(\"시간 정지 \")\n",
    "time.sleep(1)\n",
    "print(\"시간 정지 end\")"
   ]
  },
  {
   "cell_type": "code",
   "execution_count": 30,
   "id": "aa619035",
   "metadata": {},
   "outputs": [
    {
     "data": {
      "text/plain": [
       "b'<!doctype html><html itemscope=\"\" itemtype=\"http://schema.org/WebPage\" lang=\"ko\"><head><meta content=\"text/html; charset=UTF-8\" http-equiv=\"Content-Type\"><meta content=\"/logos/doodles/2021/googles-23rd-birthday-6753651837109087-law.gif\" itemprop=\"image\"><meta content=\"Google &#49444;&#47549; 23&#51452;&#45380;\" property=\"twitter:title\"><meta content=\"Google &#49444;&#47549; 23&#51452;&#45380; #Google&#44592;&#45392;&#51068;&#47196;&#44256;\" property=\"twitter:description\"><meta content=\"Google &#49444;&#47549; 23&#51452;&#45380; #Google&#44592;&#45392;&#51068;&#47196;&#44256;\" property=\"og:description\"><meta content=\"summary_large_image\" property=\"twitter:card\"><meta content=\"@GoogleDoodles\" property=\"twitter:site\"><meta content=\"https://www.google.com/logos/doodles/2021/googles-23rd-birthday-6753651837109087-2xa.gif\" property=\"twitter:image\"><meta content=\"https://www.google.com/logos/doodles/2021/googles-23rd-birthday-6753651837109087-2xa.gif\" property=\"og:image\"><meta content=\"735\" property=\"og:image:width\"><meta content=\"440\" property=\"og:image:height\"><meta content=\"https://www.google.com/logos/doodles/2021/googles-23rd-birthday-6753651837109087-2xa.gif\" property=\"og:url\"><meta content=\"video.other\" property=\"og:type\"><title>Google</title><script nonce=\"G6KI7ZJlUWn7fjTWTlw+6A==\">(function(){window.google={kEI:\\'oidRYbHNOcOAhbIPkY65-Ak\\',kEXPI:\\'0,1302536,56873,6059,206,4804,2316,383,246,5,1354,5251,1122515,1197698,696,328873,51223,16115,19397,9287,17572,4859,1361,9290,3024,4750,12835,4020,978,13228,3847,10623,19043,2778,919,5081,887,706,1279,2212,530,149,1103,840,2197,4101,3513,606,2023,1777,522,14668,3227,1990,855,7,4773,826,6755,5096,7540,8227,553,908,2,941,2614,3783,9359,3,346,230,6459,149,13975,4,1528,2304,1236,5226,577,4683,2013,18377,2658,4242,2459,654,32,13628,2305,638,18280,5824,2533,992,3102,3138,6,908,3,3541,1,14710,1815,282,38,874,5992,16728,1715,2,9223,4799,1931,5589,743,5853,2051,7354,1058,1099,61,1267,2,5431,2378,2720,4546,3,5473,4148,1241,2832,2,6,177,2,7594,1932,2636,2577,372,2756,553,2069,401,1518,3,583,793,1265,265,422,1,210,2303,665,2,535,982,2,1629,1875,2560,314,28,85,118,198,693,1960,902,1582,540,849,1493,1097,178,60,1060,2,6,757,39,503,1120,374,80,103,2,143,683,3,466,256,228,487,8,462,731,369,1,301,980,367,432,4,1549,17,2976,2,83,95,132,3,2,363,10,664,274,23,384,93,392,549,1269,115,1180,27,5566375,2031,446,73,87,45,109,25,1802550,96,4193884,2799372,1324,882,444,1,2,80,1,1796,1,9,2553,1,748,141,795,563,1,4265,1,1,2,1331,4142,2609,155,17,13,72,139,4,2,20,2,169,13,19,46,5,39,96,548,29,2,2,1,2,1,2,2,7,4,1,2,2,2,2,2,2,353,513,186,1,1,158,3,2,2,2,2,2,4,2,3,3,269,461,2,45,3,40,12,9,8,6,4,12,28,10,33,3,4,11,4,35,1,2,5,2,1,41,1,1,1,1,13,23654058,299865,2770168,91860,1179324,338,3,2414,448,2,1041,9,3239,1536,889,628,223\\',kBL:\\'Uc7f\\'};google.sn=\\'webhp\\';google.kHL=\\'ko\\';})();(function(){\\nvar f=this||self;var h,k=[];function l(a){for(var b;a&&(!a.getAttribute||!(b=a.getAttribute(\"eid\")));)a=a.parentNode;return b||h}function m(a){for(var b=null;a&&(!a.getAttribute||!(b=a.getAttribute(\"leid\")));)a=a.parentNode;return b}\\nfunction n(a,b,c,d,g){var e=\"\";c||-1!==b.search(\"&ei=\")||(e=\"&ei=\"+l(d),-1===b.search(\"&lei=\")&&(d=m(d))&&(e+=\"&lei=\"+d));d=\"\";!c&&f._cshid&&-1===b.search(\"&cshid=\")&&\"slh\"!==a&&(d=\"&cshid=\"+f._cshid);c=c||\"/\"+(g||\"gen_204\")+\"?atyp=i&ct=\"+a+\"&cad=\"+b+e+\"&zx=\"+Date.now()+d;/^http:/i.test(c)&&\"https:\"===window.location.protocol&&(google.ml&&google.ml(Error(\"a\"),!1,{src:c,glmm:1}),c=\"\");return c};h=google.kEI;google.getEI=l;google.getLEI=m;google.ml=function(){return null};google.log=function(a,b,c,d,g){if(c=n(a,b,c,d,g)){a=new Image;var e=k.length;k[e]=a;a.onerror=a.onload=a.onabort=function(){delete k[e]};a.src=c}};google.logUrl=n;}).call(this);(function(){\\ngoogle.y={};google.sy=[];google.x=function(a,b){if(a)var c=a.id;else{do c=Math.random();while(google.y[c])}google.y[c]=[a,b];return!1};google.sx=function(a){google.sy.push(a)};google.lm=[];google.plm=function(a){google.lm.push.apply(google.lm,a)};google.lq=[];google.load=function(a,b,c){google.lq.push([[a],b,c])};google.loadAll=function(a,b){google.lq.push([a,b])};google.bx=!1;google.lx=function(){};}).call(this);google.f={};(function(){\\ndocument.documentElement.addEventListener(\"submit\",function(b){var a;if(a=b.target){var c=a.getAttribute(\"data-submitfalse\");a=\"1\"===c||\"q\"===c&&!a.elements.q.value?!0:!1}else a=!1;a&&(b.preventDefault(),b.stopPropagation())},!0);document.documentElement.addEventListener(\"click\",function(b){var a;a:{for(a=b.target;a&&a!==document.documentElement;a=a.parentElement)if(\"A\"===a.tagName){a=\"1\"===a.getAttribute(\"data-nohref\");break a}a=!1}a&&b.preventDefault()},!0);}).call(this);</script><style>#gbar,#guser{font-size:13px;padding-top:1px !important;}#gbar{height:22px}#guser{padding-bottom:7px !important;text-align:right}.gbh,.gbd{border-top:1px solid #c9d7f1;font-size:1px}.gbh{height:0;position:absolute;top:24px;width:100%}@media all{.gb1{height:22px;margin-right:.5em;vertical-align:top}#gbar{float:left}}a.gb1,a.gb4{text-decoration:underline !important}a.gb1,a.gb4{color:#00c !important}.gbi .gb4{color:#dd8e27 !important}.gbf .gb4{color:#900 !important}\\n</style><style>body,td,a,p,.h{font-family:&#44404;&#47548;,&#46027;&#50880;,arial,sans-serif}.ko{font-size:9pt}body{margin:0;overflow-y:scroll}#gog{padding:3px 8px 0}td{line-height:.8em}.gac_m td{line-height:17px}form{margin-bottom:20px}.h{color:#1558d6}em{font-weight:bold;font-style:normal}.lst{height:25px;width:496px}.gsfi,.lst{font:18px arial,sans-serif}.gsfs{font:17px arial,sans-serif}.ds{display:inline-box;display:inline-block;margin:3px 0 4px;margin-left:4px}input{font-family:inherit}body{background:#fff;color:#000}a{color:#4b11a8;text-decoration:none}a:hover,a:active{text-decoration:underline}.fl a{color:#1558d6}a:visited{color:#4b11a8}.sblc{padding-top:5px}.sblc a{display:block;margin:2px 0;margin-left:13px;font-size:11px}.lsbb{background:#f8f9fa;border:solid 1px;border-color:#dadce0 #70757a #70757a #dadce0;height:30px}.lsbb{display:block}#WqQANb a{display:inline-block;margin:0 12px}.lsb{background:url(/images/nav_logo229.png) 0 -261px repeat-x;border:none;color:#000;cursor:pointer;height:30px;margin:0;outline:0;font:15px arial,sans-serif;vertical-align:top}.lsb:active{background:#dadce0}.lst:focus{outline:none}.tiah{width:458px}</style><script nonce=\"G6KI7ZJlUWn7fjTWTlw+6A==\">(function(){window.google.erd={sp:\\'hp\\',jsr:0,bv:1448};\\nvar f=this||self;var g,h,k=null!==(g=f.mei)&&void 0!==g?g:1,l=null!==(h=f.sdo)&&void 0!==h?h:!0,n=0,p,q=google.erd,t=q.jsr;google.ml=function(a,b,e,m,d){d=void 0===d?2:d;b&&(p=a&&a.message);if(google.dl)return google.dl(a,d,e),null;if(0>t){window.console&&console.error(a,e);if(-2===t)throw a;b=!1}else b=!a||!a.message||\"Error loading script\"===a.message||n>=k&&!m?!1:!0;if(!b)return null;n++;e=e||{};b=encodeURIComponent;var c=\"/gen_204?atyp=i&ei=\"+b(google.kEI);google.kEXPI&&(c+=\"&jexpid=\"+b(google.kEXPI));c+=\"&srcpg=\"+b(q.sp)+\"&jsr=\"+b(q.jsr)+\"&bver=\"+b(q.bv)+(\"&jsel=\"+d);c+=\"&sn=\"+b(google.sn);for(var r in e)c+=\"&\",c+=b(r),c+=\"=\",c+=b(e[r]);c=c+\"&emsg=\"+b(a.name+\": \"+a.message);c=c+\"&jsst=\"+b(a.stack||\"N/A\");12288<=c.length&&(c=c.substr(0,12288));a=c;m||google.log(0,\"\",a);return a};window.onerror=function(a,b,e,m,d){p!==a&&google.ml(d instanceof Error?d:Error(a),!1,void 0,!1,google.dl?0:2);p=null;l&&n>=k&&(window.onerror=null)};})();</script></head><body bgcolor=\"#fff\"><script nonce=\"G6KI7ZJlUWn7fjTWTlw+6A==\">(function(){var src=\\'/images/nav_logo229.png\\';var iesg=false;document.body.onload = function(){window.n && window.n();if (document.images){new Image().src=src;}\\nif (!iesg){document.f&&document.f.q.focus();document.gbqf&&document.gbqf.q.focus();}\\n}\\n})();</script><div id=\"mngb\"><div id=gbar><nobr><b class=gb1>&#44160;&#49353;</b> <a class=gb1 href=\"https://www.google.co.kr/imghp?hl=ko&tab=wi\">&#51060;&#48120;&#51648;</a> <a class=gb1 href=\"https://maps.google.co.kr/maps?hl=ko&tab=wl\">&#51648;&#46020;</a> <a class=gb1 href=\"https://play.google.com/?hl=ko&tab=w8\">Play</a> <a class=gb1 href=\"https://www.youtube.com/?gl=KR&tab=w1\">YouTube</a> <a class=gb1 href=\"https://news.google.com/?tab=wn\">&#45684;&#49828;</a> <a class=gb1 href=\"https://mail.google.com/mail/?tab=wm\">Gmail</a> <a class=gb1 href=\"https://drive.google.com/?tab=wo\">&#46300;&#46972;&#51060;&#48652;</a> <a class=gb1 style=\"text-decoration:none\" href=\"https://www.google.co.kr/intl/ko/about/products?tab=wh\"><u>&#45908;&#48372;&#44592;</u> &raquo;</a></nobr></div><div id=guser width=100%><nobr><span id=gbn class=gbi></span><span id=gbf class=gbf></span><span id=gbe></span><a href=\"http://www.google.co.kr/history/optout?hl=ko\" class=gb4>&#50937; &#44592;&#47197;</a> | <a  href=\"/preferences?hl=ko\" class=gb4>&#49444;&#51221;</a> | <a target=_top id=gb_70 href=\"https://accounts.google.com/ServiceLogin?hl=ko&passive=true&continue=https://www.google.com/&ec=GAZAAQ\" class=gb4>&#47196;&#44536;&#51064;</a></nobr></div><div class=gbh style=left:0></div><div class=gbh style=right:0></div></div><center><br clear=\"all\" id=\"lgpd\"><div id=\"lga\"><a href=\"/search?ie=UTF-8&amp;q=Google+&amp;oi=ddle&amp;ct=174788361&amp;hl=ko&amp;si=AHuW2sTKkcygiABA_QY_APML0LA-zLeY72p7cWUnG9AtyAalP7HHY3dFtSWBqk8puNCUm6BnkheVtoD5vs0xVFaZgHy4zOVkJ0E9Wa5_cYARMoqWTiHqoWQ%3D&amp;sa=X&amp;ved=0ahUKEwixpriYiZ7zAhVDQEEAHRFHDp8QPQgD\"><img alt=\"Google &#49444;&#47549; 23&#51452;&#45380;\" border=\"0\" height=\"210\" src=\"/logos/doodles/2021/googles-23rd-birthday-6753651837109087-law.gif\" title=\"Google &#49444;&#47549; 23&#51452;&#45380;\" width=\"369\" id=\"hplogo\"><br></a><br></div><form action=\"/search\" name=\"f\"><table cellpadding=\"0\" cellspacing=\"0\"><tr valign=\"top\"><td width=\"25%\">&nbsp;</td><td align=\"center\" nowrap=\"\"><input name=\"ie\" value=\"ISO-8859-1\" type=\"hidden\"><input value=\"ko\" name=\"hl\" type=\"hidden\"><input name=\"source\" type=\"hidden\" value=\"hp\"><input name=\"biw\" type=\"hidden\"><input name=\"bih\" type=\"hidden\"><div class=\"ds\" style=\"height:32px;margin:4px 0\"><div style=\"position:relative;zoom:1\"><input class=\"lst tiah\" style=\"margin:0;padding:5px 8px 0 6px;vertical-align:top;color:#000;padding-right:38px\" autocomplete=\"off\" value=\"\" title=\"Google &#44160;&#49353;\" maxlength=\"2048\" name=\"q\" size=\"57\"><img src=\"/textinputassistant/tia.png\" style=\"position:absolute;cursor:pointer;right:5px;top:4px;z-index:300\" data-script-url=\"/textinputassistant/11/ko_tia.js\" id=\"tsuid1\" alt=\"\" height=\"23\" width=\"27\"><script nonce=\"G6KI7ZJlUWn7fjTWTlw+6A==\">(function(){var id=\\'tsuid1\\';document.getElementById(id).onclick = function(){var s = document.createElement(\\'script\\');s.src = this.getAttribute(\\'data-script-url\\');(document.getElementById(\\'xjsc\\')||document.body).appendChild(s);};})();</script></div></div><br style=\"line-height:0\"><span class=\"ds\"><span class=\"lsbb\"><input class=\"lsb\" value=\"Google &#44160;&#49353;\" name=\"btnG\" type=\"submit\"></span></span><span class=\"ds\"><span class=\"lsbb\"><input class=\"lsb\" id=\"tsuid2\" value=\"I&#8217;m Feeling Lucky\" name=\"btnI\" type=\"submit\"><script nonce=\"G6KI7ZJlUWn7fjTWTlw+6A==\">(function(){var id=\\'tsuid2\\';document.getElementById(id).onclick = function(){if (this.form.q.value){this.checked = 1;if (this.form.iflsig)this.form.iflsig.disabled = false;}\\nelse top.location=\\'/doodles/\\';};})();</script><input value=\"ALs-wAMAAAAAYVE1sjs4U54mpcOGmCTnfnBO1Qi-SHmU\" name=\"iflsig\" type=\"hidden\"></span></span></td><td class=\"fl sblc\" align=\"left\" nowrap=\"\" width=\"25%\"><a href=\"/advanced_search?hl=ko&amp;authuser=0\">&#44256;&#44553;&#44160;&#49353;</a></td></tr></table><input id=\"gbv\" name=\"gbv\" type=\"hidden\" value=\"1\"><script nonce=\"G6KI7ZJlUWn7fjTWTlw+6A==\">(function(){\\nvar a,b=\"1\";if(document&&document.getElementById)if(\"undefined\"!=typeof XMLHttpRequest)b=\"2\";else if(\"undefined\"!=typeof ActiveXObject){var c,d,e=[\"MSXML2.XMLHTTP.6.0\",\"MSXML2.XMLHTTP.3.0\",\"MSXML2.XMLHTTP\",\"Microsoft.XMLHTTP\"];for(c=0;d=e[c++];)try{new ActiveXObject(d),b=\"2\"}catch(h){}}a=b;if(\"2\"==a&&-1==location.search.indexOf(\"&gbv=2\")){var f=google.gbvu,g=document.getElementById(\"gbv\");g&&(g.value=a);f&&window.setTimeout(function(){location.href=f},0)};}).call(this);</script></form><div id=\"gac_scont\"></div><div style=\"font-size:83%;min-height:3.5em\"><br></div><span id=\"footer\"><div style=\"font-size:10pt\"><div style=\"margin:19px auto;text-align:center\" id=\"WqQANb\"><a href=\"/intl/ko/ads/\">&#44305;&#44256; &#54532;&#47196;&#44536;&#47016;</a><a href=\"http://www.google.co.kr/intl/ko/services/\">&#48708;&#51592;&#45768;&#49828; &#49556;&#47336;&#49496;</a><a href=\"/intl/ko/about.html\">Google &#51221;&#48372;</a><a href=\"https://www.google.com/setprefdomain?prefdom=KR&amp;prev=https://www.google.co.kr/&amp;sig=K_tffwOc9oYTQVmyOHEvEh8N2EUsU%3D\">Google.co.kr</a></div></div><p style=\"font-size:8pt;color:#70757a\">&copy; 2021 - <a href=\"/intl/ko/policies/privacy/\">&#44060;&#51064;&#51221;&#48372;&#52376;&#47532;&#48169;&#52840;</a> - <a href=\"/intl/ko/policies/terms/\">&#50557;&#44288;</a></p></span></center><script nonce=\"G6KI7ZJlUWn7fjTWTlw+6A==\">(function(){window.google.cdo={height:757,width:1440};(function(){\\nvar a=window.innerWidth,b=window.innerHeight;if(!a||!b){var c=window.document,d=\"CSS1Compat\"==c.compatMode?c.documentElement:c.body;a=d.clientWidth;b=d.clientHeight}a&&b&&(a!=google.cdo.width||b!=google.cdo.height)&&google.log(\"\",\"\",\"/client_204?&atyp=i&biw=\"+a+\"&bih=\"+b+\"&ei=\"+google.kEI);}).call(this);})();</script> <script nonce=\"G6KI7ZJlUWn7fjTWTlw+6A==\">(function(){google.xjs={ck:\\'\\',cs:\\'\\',excm:[]};})();</script>  <script nonce=\"G6KI7ZJlUWn7fjTWTlw+6A==\">(function(){var u=\\'/xjs/_/js/k\\\\x3dxjs.hp.en.qJ5CJtc5VR0.O/am\\\\x3dAPgEWA/d\\\\x3d1/ed\\\\x3d1/rs\\\\x3dACT90oG4cthJQIKYKpDJcGzn-IAYY8zOxQ/m\\\\x3dsb_he,d\\';\\nvar e=this||self,f=function(a){return a};var g;var l=function(a,b){this.g=b===h?a:\"\"};l.prototype.toString=function(){return this.g+\"\"};var h={};\\nfunction m(){var a=u;google.lx=function(){n(a);google.lx=function(){}};google.bx||google.lx()}\\nfunction n(a){google.timers&&google.timers.load&&google.tick&&google.tick(\"load\",\"xjsls\");var b=document;var c=\"SCRIPT\";\"application/xhtml+xml\"===b.contentType&&(c=c.toLowerCase());c=b.createElement(c);if(void 0===g){b=null;var k=e.trustedTypes;if(k&&k.createPolicy){try{b=k.createPolicy(\"goog#html\",{createHTML:f,createScript:f,createScriptURL:f})}catch(p){e.console&&e.console.error(p.message)}g=b}else g=b}a=(b=g)?b.createScriptURL(a):a;a=new l(a,h);c.src=a instanceof l&&a.constructor===l?a.g:\"type_error:TrustedResourceUrl\";var d;a=(c.ownerDocument&&c.ownerDocument.defaultView||window).document;(d=(b=null===(d=a.querySelector)||void 0===d?void 0:d.call(a,\"script[nonce]\"))?b.nonce||b.getAttribute(\"nonce\")||\"\":\"\")&&c.setAttribute(\"nonce\",d);document.body.appendChild(c);google.psa=!0};setTimeout(function(){m()},0);})();(function(){window.google.xjsu=\\'/xjs/_/js/k\\\\x3dxjs.hp.en.qJ5CJtc5VR0.O/am\\\\x3dAPgEWA/d\\\\x3d1/ed\\\\x3d1/rs\\\\x3dACT90oG4cthJQIKYKpDJcGzn-IAYY8zOxQ/m\\\\x3dsb_he,d\\';})();function _DumpException(e){throw e;}\\nfunction _F_installCss(c){}\\n(function(){google.jl={attn:false,blt:\\'none\\',chnk:0,dw:false,dwu:false,emtn:0,end:0,ine:false,lls:\\'default\\',pdt:0,rep:0,snet:true,strt:0,ubm:false,uwp:true};})();(function(){var pmc=\\'{\\\\x22d\\\\x22:{},\\\\x22sb_he\\\\x22:{\\\\x22agen\\\\x22:true,\\\\x22cgen\\\\x22:true,\\\\x22client\\\\x22:\\\\x22heirloom-hp\\\\x22,\\\\x22dh\\\\x22:true,\\\\x22dhqt\\\\x22:true,\\\\x22ds\\\\x22:\\\\x22\\\\x22,\\\\x22ffql\\\\x22:\\\\x22ko\\\\x22,\\\\x22fl\\\\x22:true,\\\\x22host\\\\x22:\\\\x22google.com\\\\x22,\\\\x22isbh\\\\x22:28,\\\\x22jsonp\\\\x22:true,\\\\x22msgs\\\\x22:{\\\\x22cibl\\\\x22:\\\\x22&#44160;&#49353;&#50612; &#51648;&#50864;&#44592;\\\\x22,\\\\x22dym\\\\x22:\\\\x22&#51060;&#44163;&#51012; &#52286;&#51004;&#49512;&#45208;&#50836;?\\\\x22,\\\\x22lcky\\\\x22:\\\\x22I&#8217;m Feeling Lucky\\\\x22,\\\\x22lml\\\\x22:\\\\x22&#51088;&#49464;&#55176; &#50508;&#50500;&#48372;&#44592;\\\\x22,\\\\x22oskt\\\\x22:\\\\x22&#51077;&#47141; &#46020;&#44396;\\\\x22,\\\\x22psrc\\\\x22:\\\\x22&#44160;&#49353;&#50612;&#44032; \\\\\\\\u003Ca href\\\\x3d\\\\\\\\\\\\x22/history\\\\\\\\\\\\x22\\\\\\\\u003E&#50937; &#44592;&#47197;\\\\\\\\u003C/a\\\\\\\\u003E&#50640;&#49436; &#49325;&#51228;&#46104;&#50632;&#49845;&#45768;&#45796;.\\\\x22,\\\\x22psrl\\\\x22:\\\\x22&#49325;&#51228;\\\\x22,\\\\x22sbit\\\\x22:\\\\x22&#51060;&#48120;&#51648;&#47196; &#44160;&#49353;\\\\x22,\\\\x22srch\\\\x22:\\\\x22Google &#44160;&#49353;\\\\x22},\\\\x22ovr\\\\x22:{},\\\\x22pq\\\\x22:\\\\x22\\\\x22,\\\\x22refpd\\\\x22:true,\\\\x22refspre\\\\x22:true,\\\\x22rfs\\\\x22:[],\\\\x22sbas\\\\x22:\\\\x220 3px 8px 0 rgba(0,0,0,0.2),0 0 0 1px rgba(0,0,0,0.08)\\\\x22,\\\\x22sbpl\\\\x22:16,\\\\x22sbpr\\\\x22:16,\\\\x22scd\\\\x22:10,\\\\x22stok\\\\x22:\\\\x22eBOA6ZP6PCV_CzX4SMoB0QN6QMw\\\\x22,\\\\x22uhde\\\\x22:false}}\\';google.pmc=JSON.parse(pmc);})();</script>        </body></html>'"
      ]
     },
     "execution_count": 30,
     "metadata": {},
     "output_type": "execute_result"
    }
   ],
   "source": [
    "#urllib 모듈 : 인터넷 주소에서 자료를 가져오는 라이브러리\n",
    "from  urllib import request\n",
    "\n",
    "target = request.urlopen(\"https://google.com\")\n",
    "\n",
    "output = target.read()\n",
    "\n",
    "output  #HTML 구문을 해석하는 중"
   ]
  },
  {
   "cell_type": "code",
   "execution_count": 11,
   "id": "0c20ab39",
   "metadata": {},
   "outputs": [
    {
     "name": "stdout",
     "output_type": "stream",
     "text": [
      "os.listdir() :  ['.ipynb_checkpoints', 'chater1_3.ipynb', 'day 2.ipynb', 'DAY-3.ipynb', 'day-4.ipynb', 'day-5.ipynb', 'day-6.ipynb', 'module', 'module_basic', 'output.ipynb', 'pandas p.18.ipynb', 'pandas-day1.ipynb', 'test', 'test_dir', 'test_package', 'Untitled.ipynb', 'Untitled1.ipynb']\n",
      "\n",
      "폴더 :  .ipynb_checkpoints\n",
      "파일 :  chater1_3.ipynb\n",
      "파일 :  day 2.ipynb\n",
      "파일 :  DAY-3.ipynb\n",
      "파일 :  day-4.ipynb\n",
      "파일 :  day-5.ipynb\n",
      "파일 :  day-6.ipynb\n",
      "폴더 :  module\n",
      "폴더 :  module_basic\n",
      "파일 :  output.ipynb\n",
      "파일 :  pandas p.18.ipynb\n",
      "파일 :  pandas-day1.ipynb\n",
      "파일 :  test\n",
      "폴더 :  test_dir\n",
      "폴더 :  test_package\n",
      "파일 :  Untitled.ipynb\n",
      "파일 :  Untitled1.ipynb\n",
      "\n",
      "검색하고자 하는 디렉토리를 입력 > \n"
     ]
    },
    {
     "ename": "FileNotFoundError",
     "evalue": "[WinError 3] 지정된 경로를 찾을 수 없습니다: ''",
     "output_type": "error",
     "traceback": [
      "\u001b[1;31m---------------------------------------------------------------------------\u001b[0m",
      "\u001b[1;31mFileNotFoundError\u001b[0m                         Traceback (most recent call last)",
      "\u001b[1;32m<ipython-input-11-5646e2c4a5ee>\u001b[0m in \u001b[0;36m<module>\u001b[1;34m\u001b[0m\n\u001b[0;32m     21\u001b[0m             \u001b[0mprint\u001b[0m\u001b[1;33m(\u001b[0m\u001b[1;34m\"파일 : \"\u001b[0m\u001b[1;33m,\u001b[0m\u001b[0mitem\u001b[0m\u001b[1;33m)\u001b[0m\u001b[1;33m\u001b[0m\u001b[1;33m\u001b[0m\u001b[0m\n\u001b[0;32m     22\u001b[0m \u001b[1;33m\u001b[0m\u001b[0m\n\u001b[1;32m---> 23\u001b[1;33m \u001b[0mread_folder\u001b[0m\u001b[1;33m(\u001b[0m\u001b[0minput\u001b[0m\u001b[1;33m(\u001b[0m\u001b[1;34m\"검색하고자 하는 디렉토리를 입력 > \"\u001b[0m\u001b[1;33m)\u001b[0m\u001b[1;33m)\u001b[0m\u001b[1;33m\u001b[0m\u001b[1;33m\u001b[0m\u001b[0m\n\u001b[0m",
      "\u001b[1;32m<ipython-input-11-5646e2c4a5ee>\u001b[0m in \u001b[0;36mread_folder\u001b[1;34m(path)\u001b[0m\n\u001b[0;32m     14\u001b[0m \u001b[1;31m# 문4)\u001b[0m\u001b[1;33m\u001b[0m\u001b[1;33m\u001b[0m\u001b[1;33m\u001b[0m\u001b[0m\n\u001b[0;32m     15\u001b[0m \u001b[1;32mdef\u001b[0m \u001b[0mread_folder\u001b[0m\u001b[1;33m(\u001b[0m\u001b[0mpath\u001b[0m\u001b[1;33m)\u001b[0m\u001b[1;33m:\u001b[0m\u001b[1;33m\u001b[0m\u001b[1;33m\u001b[0m\u001b[0m\n\u001b[1;32m---> 16\u001b[1;33m     \u001b[0moutput\u001b[0m \u001b[1;33m=\u001b[0m \u001b[0mos\u001b[0m\u001b[1;33m.\u001b[0m\u001b[0mlistdir\u001b[0m\u001b[1;33m(\u001b[0m\u001b[0mpath\u001b[0m\u001b[1;33m)\u001b[0m\u001b[1;33m\u001b[0m\u001b[1;33m\u001b[0m\u001b[0m\n\u001b[0m\u001b[0;32m     17\u001b[0m     \u001b[1;32mfor\u001b[0m \u001b[0mitem\u001b[0m \u001b[1;32min\u001b[0m \u001b[0moutput\u001b[0m\u001b[1;33m:\u001b[0m\u001b[1;33m\u001b[0m\u001b[1;33m\u001b[0m\u001b[0m\n\u001b[0;32m     18\u001b[0m         \u001b[1;32mif\u001b[0m \u001b[0mos\u001b[0m\u001b[1;33m.\u001b[0m\u001b[0mpath\u001b[0m\u001b[1;33m.\u001b[0m\u001b[0misdir\u001b[0m\u001b[1;33m(\u001b[0m\u001b[0mitem\u001b[0m\u001b[1;33m)\u001b[0m\u001b[1;33m:\u001b[0m\u001b[1;33m\u001b[0m\u001b[1;33m\u001b[0m\u001b[0m\n",
      "\u001b[1;31mFileNotFoundError\u001b[0m: [WinError 3] 지정된 경로를 찾을 수 없습니다: ''"
     ]
    }
   ],
   "source": [
    "# 330page 문3\n",
    "output = os.listdir(\"./\")\n",
    "print(\"os.listdir() : \", output)\n",
    "print()\n",
    "\n",
    "for path in output:\n",
    "    if os.path.isdir(path):\n",
    "        print(\"폴더 : \",path)      \n",
    "    else:\n",
    "        print(\"파일 : \",path)\n",
    "        \n",
    "print()\n",
    "\n",
    "# 문4)\n",
    "def read_folder(path):\n",
    "    output = os.listdir(path)\n",
    "    for item in output:\n",
    "        if os.path.isdir(item):\n",
    "            read_folder(item)\n",
    "        else:\n",
    "            print(\"파일 : \",item)\n",
    "            \n",
    "read_folder(input(\"검색하고자 하는 디렉토리를 입력 > \"))"
   ]
  },
  {
   "cell_type": "code",
   "execution_count": null,
   "id": "decd088b",
   "metadata": {},
   "outputs": [],
   "source": [
    "#외부 모듈 설치하기\n",
    "#!pip install 외부모듈 --> cmd 창에서 실행\n",
    "from  bs4 import BeautifulSoup\n",
    "from  urllib import request\n",
    "\n",
    "target = request.urlopen(\"https://google.com\")\n",
    "\n",
    "output = target.read()\n",
    "\n",
    "print(output)"
   ]
  },
  {
   "cell_type": "code",
   "execution_count": 48,
   "id": "c7dc045f",
   "metadata": {},
   "outputs": [
    {
     "name": "stdout",
     "output_type": "stream",
     "text": [
      "[<p>Test contents</p>, <p>Test Test Test 1</p>, <p>Test Test Test 2</p>, <p>Test Test Test 3</p>]\n"
     ]
    },
    {
     "data": {
      "text/plain": [
       "<div class=\"test\" custom=\"good\" id=\"upper\">\n",
       "<h3 title=\"Good Content Title\">Contents Title</h3>\n",
       "<p>Test contents</p>\n",
       "</div>"
      ]
     },
     "execution_count": 48,
     "metadata": {},
     "output_type": "execute_result"
    }
   ],
   "source": [
    "html = '''\n",
    "<html>\n",
    "  <head>\n",
    "    <title>BeautifulSoup test</title>\n",
    "  </head>\n",
    "  <body>\n",
    "    <div id='upper' class='test' custom='good'>\n",
    "      <h3 title='Good Content Title'>Contents Title</h3>\n",
    "      <p>Test contents</p>\n",
    "    </div>\n",
    "    <div id='lower' class='test' custom='nice'>\n",
    "      <p>Test Test Test 1</p>\n",
    "      <p>Test Test Test 2</p>\n",
    "      <p>Test Test Test 3</p>\n",
    "    </div>\n",
    "  </body>\n",
    "</html>'''\n",
    "\n",
    "soup =BeautifulSoup(html)  # <html ~ <html> tag 형식으로 변경\n",
    "print(soup.find_all('p'))\n",
    "soup.find('h3') #처음 나오는 h3 tag 검색\n",
    "soup.find('div', class_ ='test')"
   ]
  },
  {
   "cell_type": "code",
   "execution_count": 63,
   "id": "56508d42",
   "metadata": {},
   "outputs": [
    {
     "name": "stdout",
     "output_type": "stream",
     "text": [
      "원희룡 \"곽상도 50억은 꼬리 자르기..몸통은 이재명\"\n",
      "<p>국민의힘 대선주자 원희룡 전 제주도지사가 더불어민주당 대선주자 이재명 경기지사를 저격하며 '대장동 특혜 의혹'의 \"몸통은 이재명\"이라고 표현했다.</p>\n",
      "국민의힘 대선주자 원희룡 전 제주도지사가 더불어민주당 대선주자 이재명 경기지사를 저격하며 '대장동 특혜 의혹'의 \"몸통은 이재명\"이라고 표현했다.\n",
      "<p>27일 원 전 지사는 사회관계망서비스(SNS)를 통해 '곽상도 의원 탈당은 꼬리 자르기? 몸통은 이재명이다'라는 제목의 글을 게재했다.</p>\n",
      "27일 원 전 지사는 사회관계망서비스(SNS)를 통해 '곽상도 의원 탈당은 꼬리 자르기? 몸통은 이재명이다'라는 제목의 글을 게재했다.\n",
      "<p>국민의힘에 속해 있던 곽상도 전 의원이 탈당하게 된 배경엔 이 지사를 둘러싼 '대장동 개발 특혜 의혹'부터 시작됐다.</p>\n",
      "국민의힘에 속해 있던 곽상도 전 의원이 탈당하게 된 배경엔 이 지사를 둘러싼 '대장동 개발 특혜 의혹'부터 시작됐다.\n",
      "<p>곽 전 의원은 관련 보도가 나온 지 13시간 만에 국민의힘을 탈당했다.</p>\n",
      "곽 전 의원은 관련 보도가 나온 지 13시간 만에 국민의힘을 탈당했다.\n",
      "<p class=\"desc_translate txt_newsview\">Translated by <a class=\"link_kakaoi #util #translate #kakaoi_link\" href=\"https://kakao.ai/\" target=\"_blank\">kakao i</a></p>\n",
      "Translated by kakao i\n",
      "<p dmcf-pid=\"ktVDXFDvEB\" dmcf-ptype=\"general\"> [이데일리 권혜미 기자] 국민의힘 대선주자 원희룡 전 제주도지사가 더불어민주당 대선주자 이재명 경기지사를 저격하며 ‘대장동 특혜 의혹’의 “몸통은 이재명”이라고 표현했다.</p>\n",
      " [이데일리 권혜미 기자] 국민의힘 대선주자 원희룡 전 제주도지사가 더불어민주당 대선주자 이재명 경기지사를 저격하며 ‘대장동 특혜 의혹’의 “몸통은 이재명”이라고 표현했다.\n",
      "<p dmcf-pid=\"khZ5iHJSgQ\" dmcf-ptype=\"general\">27일 원 전 지사는 사회관계망서비스(SNS)를 통해 ‘곽상도 의원 탈당은 꼬리 자르기? 몸통은 이재명이다’라는 제목의 글을 게재했다.</p>\n",
      "27일 원 전 지사는 사회관계망서비스(SNS)를 통해 ‘곽상도 의원 탈당은 꼬리 자르기? 몸통은 이재명이다’라는 제목의 글을 게재했다.\n",
      "<p class=\"link_figure\"><img alt=\"국민의힘 대권주자인 원희룡 전 제주지사가 17일 오전 국회 소통관에서  ‘주택 국가찬스 2호’ 공약발표를 마친 뒤 취재진들의 질문에 답하고 있다.(사진=노진환 기자)\" class=\"thumb_g_article\" data-org-src=\"https://t1.daumcdn.net/news/202109/27/Edaily/20210927140035153cren.jpg\" data-org-width=\"670\" dmcf-mid=\"kQt14f2kmX\" dmcf-mtype=\"image\" height=\"auto\" src=\"https://img2.daumcdn.net/thumb/R658x0.q70/?fname=https://t1.daumcdn.net/news/202109/27/Edaily/20210927140035153cren.jpg\" width=\"658\"/></p>\n",
      "\n",
      "<p dmcf-pid=\"k27XcVuDKi\" dmcf-ptype=\"general\">그러면서 “이재명 후보는 진실 규명을 말하면서 국정조사와 특검 얘기만 나오면 도망가는 이유가 ‘화천대유는 이재명식 부동산 공동체’라서 그런 것은 아니냐. 부동산 부패 세력과의 전쟁에서 승리하려면 흠결 없는 사람이 나서야 한다”고 지적했다.</p>\n",
      "그러면서 “이재명 후보는 진실 규명을 말하면서 국정조사와 특검 얘기만 나오면 도망가는 이유가 ‘화천대유는 이재명식 부동산 공동체’라서 그런 것은 아니냐. 부동산 부패 세력과의 전쟁에서 승리하려면 흠결 없는 사람이 나서야 한다”고 지적했다.\n",
      "<p dmcf-pid=\"klsNMZpPEk\" dmcf-ptype=\"general\">끝으로 원 전 지사는 정권 교체 의욕을 드러내며 “저는 저를 포함한 가족의 최근 10년 재산변동 내역을 국민 앞에 공개했다. 원희룡 정부는 부동산 부패 세력과의 전쟁을 선포하고 싸워 이길 수 있는 정부이다. 대한민국의 이재명식 부동산 공동체를 모두 밝혀내고 깨끗하게 청소하겠다”고 각오를 다졌다.</p>\n",
      "끝으로 원 전 지사는 정권 교체 의욕을 드러내며 “저는 저를 포함한 가족의 최근 10년 재산변동 내역을 국민 앞에 공개했다. 원희룡 정부는 부동산 부패 세력과의 전쟁을 선포하고 싸워 이길 수 있는 정부이다. 대한민국의 이재명식 부동산 공동체를 모두 밝혀내고 깨끗하게 청소하겠다”고 각오를 다졌다.\n",
      "<p class=\"link_figure\"><img alt=\"곽상도 국민의힘 의원이 아들의 화천대유 고액 퇴직금 수령 논란이 확산하자 26일 탈당했다.(사진=연합뉴스)\" class=\"thumb_g_article\" data-org-src=\"https://t1.daumcdn.net/news/202109/27/Edaily/20210927140036315myfh.jpg\" data-org-width=\"430\" dmcf-mid=\"ktJ0ls07kI\" dmcf-mtype=\"image\" height=\"auto\" src=\"https://img3.daumcdn.net/thumb/R658x0.q70/?fname=https://t1.daumcdn.net/news/202109/27/Edaily/20210927140036315myfh.jpg\" width=\"658\"/></p>\n",
      "\n",
      "<p dmcf-pid=\"kUaWixPAoJ\" dmcf-ptype=\"general\">이 지사가 2015년 성남시장으로 재직하던 시절 추진한 대장동 개발 사업 컨소시엄에 ‘화천대유자산관리(화천대유)’라는 회사가 자산 관리사로 참여했다. 당시 화천대유와 자회사인 천화동인이 출자금 3억 5000만 원을 낸 후 1154배에 달하는 4040억 원을 배당받은 사실이 드러나면서 이 지사가 화천대유에 개발 관련 특혜를 준 것이 아니냐는 주장이 일었다.</p>\n",
      "이 지사가 2015년 성남시장으로 재직하던 시절 추진한 대장동 개발 사업 컨소시엄에 ‘화천대유자산관리(화천대유)’라는 회사가 자산 관리사로 참여했다. 당시 화천대유와 자회사인 천화동인이 출자금 3억 5000만 원을 낸 후 1154배에 달하는 4040억 원을 배당받은 사실이 드러나면서 이 지사가 화천대유에 개발 관련 특혜를 준 것이 아니냐는 주장이 일었다.\n",
      "<p dmcf-pid=\"kS2sNsSVDQ\" dmcf-ptype=\"general\">하지만 오히려 곽 전 의원의 아들 곽병채 씨가 화천대유에서 근무했다는 사실과 함께 퇴직금 명목으로 50억 원을 받은 사실이 밝혀졌고, 곽 씨는 아버지인 곽 전 의원의 페이스북을 통해 “성과급과 위로금을 많이 책정받은 것은 회사가 엄청나게 많은 수익을 올리게 된데 따른 것”이라고 해명했다. 곽 전 의원은 관련 보도가 나온 지 13시간 만에 국민의힘을 탈당했다.</p>\n",
      "하지만 오히려 곽 전 의원의 아들 곽병채 씨가 화천대유에서 근무했다는 사실과 함께 퇴직금 명목으로 50억 원을 받은 사실이 밝혀졌고, 곽 씨는 아버지인 곽 전 의원의 페이스북을 통해 “성과급과 위로금을 많이 책정받은 것은 회사가 엄청나게 많은 수익을 올리게 된데 따른 것”이라고 해명했다. 곽 전 의원은 관련 보도가 나온 지 13시간 만에 국민의힘을 탈당했다.\n",
      "<p dmcf-pid=\"knMaVj5p81\" dmcf-ptype=\"general\">김기현 국민의힘 원내대표는 이날 긴급 최고위원회의 이후 취재진들에 “본인이 스스로 탈당하는 선택을 했기 때문에 당으로서는 이미 당을 떠난 분에 대해서 절차를 진행할 수 없는 상황”이라고 설명하며 곽 전 의원의 탈당을 받아들였다.</p>\n",
      "김기현 국민의힘 원내대표는 이날 긴급 최고위원회의 이후 취재진들에 “본인이 스스로 탈당하는 선택을 했기 때문에 당으로서는 이미 당을 떠난 분에 대해서 절차를 진행할 수 없는 상황”이라고 설명하며 곽 전 의원의 탈당을 받아들였다.\n",
      "<p dmcf-pid=\"kEVXd1r7zs\" dmcf-ptype=\"general\">권혜미 (emily00a@edaily.co.kr) </p>\n",
      "권혜미 (emily00a@edaily.co.kr) \n",
      "<p data-translation=\"true\">ⓒ종합 경제정보 미디어 이데일리 - 무단전재 &amp; 재배포 금지 </p>\n",
      "ⓒ종합 경제정보 미디어 이데일리 - 무단전재 & 재배포 금지 \n",
      "<p class=\"info_cp\">해당 언론사로 연결됩니다.</p>\n",
      "해당 언론사로 연결됩니다.\n"
     ]
    }
   ],
   "source": [
    "url = \"https://news.v.daum.net/v/20210927140031372?x_trkm=tx_imp=dG9yb3NfY2xvdWRfYWxwaGE=&x_hk=NDBhOGMyNmI3YjUzNmRkNjc3\"\n",
    "#제목을 출력\n",
    "\n",
    "soup = BeautifulSoup(request.urlopen(url))\n",
    "print(soup.find(\"h3\").text)\n",
    "\n",
    "for item in soup.select(\"p\"):\n",
    "    print(item)\n",
    "    print(item.text)"
   ]
  },
  {
   "cell_type": "code",
   "execution_count": 55,
   "id": "794df3b9",
   "metadata": {},
   "outputs": [],
   "source": [
    "#request : url로 부터 자료를 가져옴\n",
    "#beautifulsoup : tag 형식으로 자료변환\n",
    "#네이버 영화 순위 출력\n",
    "#순위 영화명 평점 출력 다음과 같은 형식으로\n",
    "#1 포드 V 페라리\n",
    "#2 주전장 : 2.53\n",
    "# 두 교황 :9.34"
   ]
  },
  {
   "cell_type": "code",
   "execution_count": 66,
   "id": "4318a53c",
   "metadata": {},
   "outputs": [],
   "source": [
    "from urllib import request\n",
    "from bs4 import BeautifulSoup\n",
    "\n",
    "url=\"https://movie.naver.com/movie/sdb/rank/rmovie.naver?sel=pnt&data=20210926\"\n",
    "\n",
    "# url로 부터 자료를 tag 형식으로 가져 옴|\n",
    "soup = BeautifulSoup(request.urlopen(url))"
   ]
  },
  {
   "cell_type": "code",
   "execution_count": 69,
   "id": "a528e41a",
   "metadata": {},
   "outputs": [],
   "source": [
    "movie_title, movie_point = [],[]  #영화 제목과 평점을 저장할 리스트 선언\n",
    "\n",
    "for line in soup.select('tr'):  #select == findAll\n",
    "    title = line.find('div',class_='tit5')\n",
    "    if title: # 자료가 존재하면 MOVIE_TITLE 리스트에 추가\n",
    "        movie_title.append(title.get_text().strip(\"\\n\"))  # title.get_text()==\n",
    "        \n",
    "    point = line.find('td', class_='point')\n",
    "    if point:     # 평점이 있으면  처리\n",
    "        movie_point.append(point.text)"
   ]
  },
  {
   "cell_type": "code",
   "execution_count": 70,
   "id": "565fb1c4",
   "metadata": {},
   "outputs": [
    {
     "name": "stdout",
     "output_type": "stream",
     "text": [
      "1 밥정  :  9.63\n",
      "2 그린 북  :  9.59\n",
      "3 가버나움  :  9.59\n",
      "4 디지몬 어드벤처 라스트 에볼루션 : 인연  :  9.54\n",
      "5 원더  :  9.53\n",
      "6 베일리 어게인  :  9.52\n",
      "7 그대, 고맙소 : 김호중 생애 첫 팬미팅 무비  :  9.51\n",
      "8 아일라  :  9.51\n",
      "9 먼 훗날 우리  :  9.50\n",
      "10 당갈  :  9.49\n",
      "11 극장판 바이올렛 에버가든  :  9.49\n",
      "12 포드 V 페라리  :  9.48\n",
      "13 주전장  :  9.47\n",
      "14 쇼생크 탈출  :  9.45\n",
      "15 터미네이터 2:오리지널  :  9.44\n",
      "16 나 홀로 집에  :  9.43\n",
      "17 라이언 일병 구하기  :  9.43\n",
      "18 덕구  :  9.43\n",
      "19 클래식  :  9.42\n",
      "20 월-E  :  9.42\n",
      "21 잭 스나이더의 저스티스 리그  :  9.42\n",
      "22 보헤미안 랩소디  :  9.42\n",
      "23 사운드 오브 뮤직  :  9.42\n",
      "24 빽 투 더 퓨쳐  :  9.41\n",
      "25 포레스트 검프  :  9.41\n",
      "26 위대한 쇼맨  :  9.41\n",
      "27 글래디에이터  :  9.41\n",
      "28 타이타닉  :  9.40\n",
      "29 헬프  :  9.40\n",
      "30 인생은 아름다워  :  9.40\n",
      "31 매트릭스  :  9.40\n",
      "32 살인의 추억  :  9.40\n",
      "33 센과 치히로의 행방불명  :  9.40\n",
      "34 가나의 혼인잔치: 언약  :  9.39\n",
      "35 토이 스토리 3  :  9.39\n",
      "36 헌터 킬러  :  9.39\n",
      "37 캐스트 어웨이  :  9.38\n",
      "38 집으로...  :  9.38\n",
      "39 반지의 제왕: 왕의 귀환  :  9.38\n",
      "40 죽은 시인의 사회  :  9.38\n",
      "41 히든 피겨스  :  9.38\n",
      "42 알라딘  :  9.38\n",
      "43 어벤져스: 엔드게임  :  9.38\n",
      "44 레옹  :  9.38\n",
      "45 쉰들러 리스트  :  9.37\n",
      "46 아이 캔 스피크  :  9.37\n",
      "47 동주  :  9.37\n",
      "48 안녕 베일리  :  9.37\n",
      "49 클레멘타인  :  9.37\n",
      "50 여인의 향기  :  9.37\n"
     ]
    }
   ],
   "source": [
    "for i, (title,point) in enumerate(zip(movie_title,movie_point)):\n",
    "    print(i+1, title, ' : ', point)"
   ]
  },
  {
   "cell_type": "code",
   "execution_count": 80,
   "id": "a8f6eae4",
   "metadata": {},
   "outputs": [],
   "source": [
    "import requests\n",
    "#open api"
   ]
  },
  {
   "cell_type": "code",
   "execution_count": 82,
   "id": "6e75f551",
   "metadata": {},
   "outputs": [],
   "source": [
    "text='''Yesterday\n",
    "All my troubles seemed so far away\n",
    "Now it looks as though they're here to stay\n",
    "Oh, I believe in yesterday\n",
    "Suddenly\n",
    "I'm not half the man I used to be\n",
    "There's a shadow hanging over me\n",
    "Oh, yesterday came suddenly\n",
    "Why she had to go, I don't know\n",
    "She wouldn't say\n",
    "I said something wrong\n",
    "Now I long for yesterday\n",
    "Yesterday\n",
    "Love was such an easy game to play\n",
    "Now I need a place to hide away\n",
    "Oh, I believe in yesterday\n",
    "Why she'''"
   ]
  },
  {
   "cell_type": "code",
   "execution_count": 83,
   "id": "c8719b8f",
   "metadata": {},
   "outputs": [
    {
     "name": "stdout",
     "output_type": "stream",
     "text": [
      "<class 'str'>\n",
      "어제\n",
      "내 모든 시름들이 멀리 사라져버린듯 했다\n",
      "이제 그들은 이곳에 머물기 위해 온 것 같다.\n",
      "오, 나는 어제를 다시 그리게 돼.\n",
      "갑자기\n",
      "예전의 나의 반도 안 되는구나.\n",
      "그림자가 내 몸에 드리워져 있어\n",
      "오, 어제는 갑자기 찾아왔어.\n",
      "왜 그녀가 가야 했는지, 나도 몰라.\n",
      "그녀는 말하지 않았다.\n",
      "내가 틀린 말을 했다.\n",
      "이제 나는 어제를 그리워한다.\n",
      "어제\n",
      "사랑은 정말 하기 쉬운 게임이었다.\n",
      "이제 난 숨을 곳이 필요해\n",
      "오, 나는 어제를 다시 그리게 돼.\n",
      "왜 그녀는\n"
     ]
    }
   ],
   "source": [
    "import requests\n",
    "request_url = \"https://openapi.naver.com/v1/papago/n2mt\"\n",
    "\n",
    "headers= {\"X-Naver-Client-Id\": \"IO_bsA0sSeefyyzahPSe\", \n",
    "          \"X-Naver-Client-Secret\":\"FiJMclVFCK\"}\n",
    "params = {\"source\": \"en\", \"target\": \"ko\", \"text\": text}\n",
    "\n",
    "response = requests.post(request_url, headers=headers, data=params)\n",
    "print(type(response.text))\n",
    "\n",
    "result = response.json()\n",
    "print(result['message']['result']['translatedText']) "
   ]
  },
  {
   "cell_type": "code",
   "execution_count": 87,
   "id": "afa1305f",
   "metadata": {},
   "outputs": [
    {
     "name": "stdout",
     "output_type": "stream",
     "text": [
      "번역할 한글 입력 > 한글\n",
      "Hangul\n",
      "번역할 한글 입력 > 종료\n"
     ]
    }
   ],
   "source": [
    "while True :\n",
    "    text = input(\"번역할 한글 입력 > \")\n",
    "    if text =='종료':\n",
    "        break\n",
    "    params = {\"source\": \"ko\", \"target\": \"en\", \"text\": text}\n",
    "    response = requests.post(request_url, headers=headers, data=params)\n",
    "\n",
    "    result = response.json()\n",
    "    print(result['message']['result']['translatedText'])"
   ]
  },
  {
   "cell_type": "code",
   "execution_count": null,
   "id": "964058ae",
   "metadata": {},
   "outputs": [],
   "source": [
    "# 함수 데코레이터를 생성합니다. # test 가 데코\n",
    "def test(function):\n",
    "    def wrapper():\n",
    "        print(\"인사가 시작되었습니다.\")\n",
    "        function()\n",
    "        print(\"인사가 종료되었습니다\")\n",
    "    return wrapper\n",
    "\n",
    "# 데코레이션을 붙여 함수를 만듭니다.\n",
    "@test\n",
    "def hello():\n",
    "    print(\"hello\")\n",
    "    \n",
    "# 함수를 호출합니다    \n",
    "hello()"
   ]
  },
  {
   "cell_type": "markdown",
   "id": "16b99ba6",
   "metadata": {},
   "source": [
    "패키지 생성하는 방법\n",
    "\n",
    "패키지 디렉토리 생성\n",
    "패키지 디렉토리안에 모듈 생성.... 모듈 여러개 생성 가능\n",
    "패키지명.모듈명. import"
   ]
  }
 ],
 "metadata": {
  "kernelspec": {
   "display_name": "Python 3",
   "language": "python",
   "name": "python3"
  },
  "language_info": {
   "codemirror_mode": {
    "name": "ipython",
    "version": 3
   },
   "file_extension": ".py",
   "mimetype": "text/x-python",
   "name": "python",
   "nbconvert_exporter": "python",
   "pygments_lexer": "ipython3",
   "version": "3.8.8"
  }
 },
 "nbformat": 4,
 "nbformat_minor": 5
}
