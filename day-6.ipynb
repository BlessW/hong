{
 "cells": [
  {
   "cell_type": "code",
   "execution_count": 1,
   "id": "2ba7261d",
   "metadata": {},
   "outputs": [],
   "source": [
    "#class와 object\n",
    "\n",
    "# 학생 리스트를 선언합니다.\n",
    "students = [\n",
    "    { \"name\": \"윤인성\", \"korean\": 87, \"math\": 98, \"english\": 88, \"science\": 95 },\n",
    "    { \"name\": \"연하진\", \"korean\": 92, \"math\": 98, \"english\": 96, \"science\": 98 },\n",
    "    { \"name\": \"구지연\", \"korean\": 76, \"math\": 96, \"english\": 94, \"science\": 90 },\n",
    "    { \"name\": \"나선주\", \"korean\": 98, \"math\": 92, \"english\": 96, \"science\": 92 },\n",
    "    { \"name\": \"윤아린\", \"korean\": 95, \"math\": 98, \"english\": 98, \"science\": 98 },\n",
    "    { \"name\": \"윤명월\", \"korean\": 64, \"math\": 88, \"english\": 92, \"science\": 92 }\n",
    "]"
   ]
  },
  {
   "cell_type": "code",
   "execution_count": 2,
   "id": "a2916e2c",
   "metadata": {},
   "outputs": [],
   "source": [
    "# 딕셔너리를 리턴하는 함수를 선언\n",
    "def create_student(name,korean,math,english,science):\n",
    "    return{\n",
    "        \"name\":name,\n",
    "        \"korean\":korean,\n",
    "        \"english\":enghlish,\n",
    "        \"math\":math,\n",
    "        \"science\":science\n",
    "    }\n",
    "\n",
    "#학생 점수의 합을  구하는 함수\n",
    "def student_get_sum(student):\n",
    "    return student[\"korean\"]+student[\"math\"] + \\\n",
    "            student[\"engish\"] + [\"science\"]\n",
    "# 평균을 구하는 함수\n",
    "def student_get_avg(student):\n",
    "    return student_get_sum(student)/4\n",
    "\n",
    "#출력하는 함수\n",
    "def student_to_string(student):\n",
    "    return \"{}:\\t{}\\t{}\".format(student[\"name\"], student_get_sum(student),\n",
    "            student_get_avg(student))"
   ]
  },
  {
   "cell_type": "code",
   "execution_count": 9,
   "id": "30d2bdf9",
   "metadata": {},
   "outputs": [
    {
     "ename": "NameError",
     "evalue": "name 'enghlish' is not defined",
     "output_type": "error",
     "traceback": [
      "\u001b[1;31m---------------------------------------------------------------------------\u001b[0m",
      "\u001b[1;31mNameError\u001b[0m                                 Traceback (most recent call last)",
      "\u001b[1;32m<ipython-input-9-561d59d35cd5>\u001b[0m in \u001b[0;36m<module>\u001b[1;34m\u001b[0m\n\u001b[0;32m      1\u001b[0m students = [\n\u001b[1;32m----> 2\u001b[1;33m     \u001b[0mcreate_student\u001b[0m\u001b[1;33m(\u001b[0m\u001b[1;34m\"윤인성\"\u001b[0m\u001b[1;33m,\u001b[0m \u001b[1;36m87\u001b[0m\u001b[1;33m,\u001b[0m \u001b[1;36m98\u001b[0m\u001b[1;33m,\u001b[0m \u001b[1;36m88\u001b[0m\u001b[1;33m,\u001b[0m \u001b[1;36m95\u001b[0m\u001b[1;33m)\u001b[0m\u001b[1;33m,\u001b[0m\u001b[1;33m\u001b[0m\u001b[1;33m\u001b[0m\u001b[0m\n\u001b[0m\u001b[0;32m      3\u001b[0m     \u001b[0mcreate_student\u001b[0m\u001b[1;33m(\u001b[0m\u001b[1;34m\"연하진\"\u001b[0m\u001b[1;33m,\u001b[0m \u001b[1;36m92\u001b[0m\u001b[1;33m,\u001b[0m \u001b[1;36m98\u001b[0m\u001b[1;33m,\u001b[0m \u001b[1;36m96\u001b[0m\u001b[1;33m,\u001b[0m \u001b[1;36m98\u001b[0m\u001b[1;33m)\u001b[0m\u001b[1;33m,\u001b[0m\u001b[1;33m\u001b[0m\u001b[1;33m\u001b[0m\u001b[0m\n\u001b[0;32m      4\u001b[0m     \u001b[0mcreate_student\u001b[0m\u001b[1;33m(\u001b[0m\u001b[1;34m\"구지연\"\u001b[0m\u001b[1;33m,\u001b[0m \u001b[1;36m76\u001b[0m\u001b[1;33m,\u001b[0m \u001b[1;36m96\u001b[0m\u001b[1;33m,\u001b[0m \u001b[1;36m94\u001b[0m\u001b[1;33m,\u001b[0m \u001b[1;36m90\u001b[0m\u001b[1;33m)\u001b[0m\u001b[1;33m,\u001b[0m\u001b[1;33m\u001b[0m\u001b[1;33m\u001b[0m\u001b[0m\n\u001b[0;32m      5\u001b[0m     \u001b[0mcreate_student\u001b[0m\u001b[1;33m(\u001b[0m\u001b[1;34m\"나선주\"\u001b[0m\u001b[1;33m,\u001b[0m \u001b[1;36m98\u001b[0m\u001b[1;33m,\u001b[0m \u001b[1;36m92\u001b[0m\u001b[1;33m,\u001b[0m \u001b[1;36m96\u001b[0m\u001b[1;33m,\u001b[0m \u001b[1;36m92\u001b[0m\u001b[1;33m)\u001b[0m\u001b[1;33m,\u001b[0m\u001b[1;33m\u001b[0m\u001b[1;33m\u001b[0m\u001b[0m\n",
      "\u001b[1;32m<ipython-input-6-a8007dc42d43>\u001b[0m in \u001b[0;36mcreate_student\u001b[1;34m(name, korean, math, english, science)\u001b[0m\n\u001b[0;32m      4\u001b[0m         \u001b[1;34m\"name\"\u001b[0m\u001b[1;33m:\u001b[0m\u001b[0mname\u001b[0m\u001b[1;33m,\u001b[0m\u001b[1;33m\u001b[0m\u001b[1;33m\u001b[0m\u001b[0m\n\u001b[0;32m      5\u001b[0m         \u001b[1;34m\"korean\"\u001b[0m\u001b[1;33m:\u001b[0m\u001b[0mkorean\u001b[0m\u001b[1;33m,\u001b[0m\u001b[1;33m\u001b[0m\u001b[1;33m\u001b[0m\u001b[0m\n\u001b[1;32m----> 6\u001b[1;33m         \u001b[1;34m\"english\"\u001b[0m\u001b[1;33m:\u001b[0m\u001b[0menghlish\u001b[0m\u001b[1;33m,\u001b[0m\u001b[1;33m\u001b[0m\u001b[1;33m\u001b[0m\u001b[0m\n\u001b[0m\u001b[0;32m      7\u001b[0m         \u001b[1;34m\"math\"\u001b[0m\u001b[1;33m:\u001b[0m\u001b[0mmath\u001b[0m\u001b[1;33m,\u001b[0m\u001b[1;33m\u001b[0m\u001b[1;33m\u001b[0m\u001b[0m\n\u001b[0;32m      8\u001b[0m         \u001b[1;34m\"science\"\u001b[0m\u001b[1;33m:\u001b[0m\u001b[0mscience\u001b[0m\u001b[1;33m\u001b[0m\u001b[1;33m\u001b[0m\u001b[0m\n",
      "\u001b[1;31mNameError\u001b[0m: name 'enghlish' is not defined"
     ]
    }
   ],
   "source": [
    "students = [\n",
    "    create_student(\"윤인성\", 87, 98, 88, 95),\n",
    "    create_student(\"연하진\", 92, 98, 96, 98),\n",
    "    create_student(\"구지연\", 76, 96, 94, 90),\n",
    "    create_student(\"나선주\", 98, 92, 96, 92),\n",
    "    create_student(\"윤아린\", 95, 98, 98, 98),\n",
    "    create_student(\"윤명월\", 64, 88, 92, 92)\n",
    "]\n",
    "print(\"이름\", \"총점\", \"평균\", sep=\"\\t\")\n",
    "for student in students:\n",
    "    print(student_to_string(student))"
   ]
  },
  {
   "cell_type": "code",
   "execution_count": 8,
   "id": "ae9d044b",
   "metadata": {},
   "outputs": [
    {
     "name": "stdout",
     "output_type": "stream",
     "text": [
      "이름\t총점\t평균\n"
     ]
    },
    {
     "ename": "TypeError",
     "evalue": "unsupported operand type(s) for +: 'int' and 'list'",
     "output_type": "error",
     "traceback": [
      "\u001b[1;31m---------------------------------------------------------------------------\u001b[0m",
      "\u001b[1;31mTypeError\u001b[0m                                 Traceback (most recent call last)",
      "\u001b[1;32m<ipython-input-8-64c3376e5185>\u001b[0m in \u001b[0;36m<module>\u001b[1;34m\u001b[0m\n\u001b[0;32m      3\u001b[0m \u001b[1;32mfor\u001b[0m \u001b[0mstudent\u001b[0m \u001b[1;32min\u001b[0m \u001b[0mstudents\u001b[0m\u001b[1;33m:\u001b[0m\u001b[1;33m\u001b[0m\u001b[1;33m\u001b[0m\u001b[0m\n\u001b[0;32m      4\u001b[0m     \u001b[1;31m#점수의 종합과 평균을 구합니다.\u001b[0m\u001b[1;33m\u001b[0m\u001b[1;33m\u001b[0m\u001b[1;33m\u001b[0m\u001b[0m\n\u001b[1;32m----> 5\u001b[1;33m     \u001b[0mscore_sum\u001b[0m \u001b[1;33m=\u001b[0m \u001b[0mstudent\u001b[0m\u001b[1;33m[\u001b[0m\u001b[1;34m\"korean\"\u001b[0m\u001b[1;33m]\u001b[0m\u001b[1;33m+\u001b[0m\u001b[1;33m[\u001b[0m\u001b[1;34m\"math\"\u001b[0m\u001b[1;33m]\u001b[0m \u001b[1;33m+\u001b[0m\u001b[0;31m \u001b[0m\u001b[0;31m\\\u001b[0m\u001b[1;33m\u001b[0m\u001b[1;33m\u001b[0m\u001b[0m\n\u001b[0m\u001b[0;32m      6\u001b[0m                 \u001b[0mstudent\u001b[0m\u001b[1;33m[\u001b[0m\u001b[1;34m\"english\"\u001b[0m\u001b[1;33m]\u001b[0m \u001b[1;33m+\u001b[0m \u001b[0mstudent\u001b[0m\u001b[1;33m[\u001b[0m\u001b[1;34m\"science\"\u001b[0m\u001b[1;33m]\u001b[0m\u001b[1;33m\u001b[0m\u001b[1;33m\u001b[0m\u001b[0m\n\u001b[0;32m      7\u001b[0m     \u001b[0mscore_avg\u001b[0m \u001b[1;33m=\u001b[0m \u001b[0mscore_sum\u001b[0m \u001b[1;33m/\u001b[0m \u001b[1;36m4\u001b[0m\u001b[1;33m\u001b[0m\u001b[1;33m\u001b[0m\u001b[0m\n",
      "\u001b[1;31mTypeError\u001b[0m: unsupported operand type(s) for +: 'int' and 'list'"
     ]
    }
   ],
   "source": [
    "# 학생을 한 명씩 반복합니다.\n",
    "print(\"이름\", \"총점\", \"평균\", sep=\"\\t\")\n",
    "for student in students:\n",
    "    #점수의 종합과 평균을 구합니다.\n",
    "    score_sum = student[\"korean\"]+[\"math\"] + \\\n",
    "                student[\"english\"] + student[\"science\"]\n",
    "    score_avg = score_sum / 4\n",
    "    print(student['name'], score_sum, score_avg, sep=\"\\t\")"
   ]
  },
  {
   "cell_type": "code",
   "execution_count": 10,
   "id": "55a0e339",
   "metadata": {},
   "outputs": [
    {
     "ename": "IndentationError",
     "evalue": "expected an indented block (<ipython-input-10-29e3a9aaf32e>, line 17)",
     "output_type": "error",
     "traceback": [
      "\u001b[1;36m  File \u001b[1;32m\"<ipython-input-10-29e3a9aaf32e>\"\u001b[1;36m, line \u001b[1;32m17\u001b[0m\n\u001b[1;33m    return \"{}:\\t{}\\t{}\".format(self.name,\\\u001b[0m\n\u001b[1;37m    ^\u001b[0m\n\u001b[1;31mIndentationError\u001b[0m\u001b[1;31m:\u001b[0m expected an indented block\n"
     ]
    }
   ],
   "source": [
    "#class로 생성하여 object를 관리\n",
    "class Student:  #class 클래스이름:\n",
    "    def __int__(self,name,korean,math,english,science):\n",
    "        self.name = name\n",
    "        self.korean = korean\n",
    "        self.math = math\n",
    "        self.english = english\n",
    "        self.scienc = science\n",
    "        \n",
    "    def get_sum(self):\n",
    "        return self.korean+self.math+self.english +self.science\n",
    "\n",
    "    def get_avg(self):\n",
    "        return self_get_sum()/4\n",
    "\n",
    "    def to_string(self):\n",
    "    return \"{}:\\t{}\\t{}\".format(self.name,\\\n",
    "                                self.get_sum(),\\\n",
    "                                self.get_avg())\n",
    "            self_get_avg(student))\n",
    "        \n",
    "a_class = Student(\"윤인성\", 87, 98, 88, 95)\n",
    "#student 클래스, a_class 인스턴스, 데이터\n",
    "print(a_class.name,a_class.math, a_class.english)"
   ]
  },
  {
   "cell_type": "code",
   "execution_count": null,
   "id": "2fbfb095",
   "metadata": {},
   "outputs": [],
   "source": [
    "print(\"이름\", \"총점\", \"평균\", sep=\"\\t\")\n",
    "for student in students:\n",
    "    print(student.to_string())"
   ]
  },
  {
   "cell_type": "code",
   "execution_count": 9,
   "id": "8085bc2f",
   "metadata": {},
   "outputs": [
    {
     "name": "stdout",
     "output_type": "stream",
     "text": [
      "students의 데이터 갯수 :  6\n"
     ]
    },
    {
     "ename": "AttributeError",
     "evalue": "'dict' object has no attribute 'name'",
     "output_type": "error",
     "traceback": [
      "\u001b[1;31m---------------------------------------------------------------------------\u001b[0m",
      "\u001b[1;31mAttributeError\u001b[0m                            Traceback (most recent call last)",
      "\u001b[1;32m<ipython-input-9-09d925c3e060>\u001b[0m in \u001b[0;36m<module>\u001b[1;34m\u001b[0m\n\u001b[0;32m      9\u001b[0m \u001b[1;33m\u001b[0m\u001b[0m\n\u001b[0;32m     10\u001b[0m \u001b[0mprint\u001b[0m\u001b[1;33m(\u001b[0m\u001b[1;34m\"students의 데이터 갯수 : \"\u001b[0m\u001b[1;33m,\u001b[0m\u001b[0mlen\u001b[0m\u001b[1;33m(\u001b[0m\u001b[0mstudents\u001b[0m\u001b[1;33m)\u001b[0m\u001b[1;33m)\u001b[0m\u001b[1;33m\u001b[0m\u001b[1;33m\u001b[0m\u001b[0m\n\u001b[1;32m---> 11\u001b[1;33m \u001b[0mstudents\u001b[0m\u001b[1;33m[\u001b[0m\u001b[1;36m1\u001b[0m\u001b[1;33m]\u001b[0m\u001b[1;33m.\u001b[0m\u001b[0mname\u001b[0m\u001b[1;33m\u001b[0m\u001b[1;33m\u001b[0m\u001b[0m\n\u001b[0m",
      "\u001b[1;31mAttributeError\u001b[0m: 'dict' object has no attribute 'name'"
     ]
    }
   ],
   "source": [
    "students = [\n",
    "    { \"name\": \"윤인성\", \"korean\": 87, \"math\": 98, \"english\": 88, \"science\": 95 },\n",
    "    { \"name\": \"연하진\", \"korean\": 92, \"math\": 98, \"english\": 96, \"science\": 98 },\n",
    "    { \"name\": \"구지연\", \"korean\": 76, \"math\": 96, \"english\": 94, \"science\": 90 },\n",
    "    { \"name\": \"나선주\", \"korean\": 98, \"math\": 92, \"english\": 96, \"science\": 92 },\n",
    "    { \"name\": \"윤아린\", \"korean\": 95, \"math\": 98, \"english\": 98, \"science\": 98 },\n",
    "    { \"name\": \"윤명월\", \"korean\": 64, \"math\": 88, \"english\": 92, \"science\": 92 }\n",
    "]\n",
    "\n",
    "print(\"students의 데이터 갯수 : \",len(students))\n",
    "students[1].name"
   ]
  },
  {
   "cell_type": "code",
   "execution_count": null,
   "id": "731af8dd",
   "metadata": {},
   "outputs": [],
   "source": [
    "students = [\n",
    "    create_student(\"윤인성\", 87, 98, 88, 95),\n",
    "    create_student(\"연하진\", 92, 98, 96, 98),\n",
    "    create_student(\"구지연\", 76, 96, 94, 90),\n",
    "    create_student(\"나선주\", 98, 92, 96, 92),\n",
    "    create_student(\"윤아린\", 95, 98, 98, 98),\n",
    "    create_student(\"윤명월\", 64, 88, 92, 92)\n",
    "]\n",
    "\n",
    "print(\"student의 데이터 갯수 : \",len(students))\n",
    "students[1].name"
   ]
  },
  {
   "cell_type": "code",
   "execution_count": null,
   "id": "4a17a24f",
   "metadata": {},
   "outputs": [],
   "source": [
    "# isinstance(인스턴스,클래스명)\n",
    "class Human:\n",
    "    def __init__(self):\n",
    "        pass\n",
    "\n",
    "class Student(Human):\n",
    "    def __init__(self):\n",
    "        pass\n",
    "    \n",
    "student = Student()\n",
    "#instance 확인\n",
    "print(\"isinstance(student, Human) : \", isinstance(student, Human))\n",
    "print(\"type(student)== Human \", type(student) == Human)\n",
    "\n",
    "human = Human()\n",
    "print(\"isinstance(human, Student) : \", isinstance(human, Student))\n",
    "print(\"type(human)== Human \", type(human) == Human)\n"
   ]
  },
  {
   "cell_type": "code",
   "execution_count": null,
   "id": "8603959d",
   "metadata": {},
   "outputs": [],
   "source": [
    "#class로 생성하여 object를 관리\n",
    "class Student:  #class 클래스이름:\n",
    "    def __int__(self,name,korean,math,english,science):\n",
    "            self.name = name\n",
    "        self.korean = korean\n",
    "        self.math = math\n",
    "        self.english = english\n",
    "        self.scienc = science\n",
    "        \n",
    "    def get_sum(self):\n",
    "        return self.korean+self.math+self.english +self.science\n",
    "\n",
    "    def get_avg(self):\n",
    "        return self_get_sum()/4\n",
    "\n",
    "    def __str__(self):\n",
    "    return \"{}:\\t{}\\t{}\".format(self.name,\\\n",
    "                                self.get_sum(),\\\n",
    "                                self.get_avg())\n",
    "\n",
    "    def __eq__(self, value): \n",
    "        return self.get_sum() == value.get_sum()\n",
    "    def __ne__(self, value): \n",
    "        return self.get_sum() != value.get_sum()\n",
    "    def __gt__(self, value):\n",
    "        return self.get_sum() > value.get_sum()\n",
    "    def __ge__(self, value):\n",
    "        return self.get_sum() >= value.get_sum()\n",
    "    def __lt__(self, value):\n",
    "        return self.get_sum() < value.get_sum()\n",
    "    def __le____(self, value):\n",
    "        return self.get_sum() <= value.get_sum()"
   ]
  },
  {
   "cell_type": "code",
   "execution_count": null,
   "id": "01875072",
   "metadata": {},
   "outputs": [],
   "source": [
    "students = [\n",
    "    Student(\"윤인성\", 87, 98, 88, 95),\n",
    "    Student(\"연하진\", 92, 98, 96, 98),\n",
    "    Student(\"구지연\", 76, 96, 94, 90),\n",
    "    Student(\"나선주\", 98, 92, 96, 92),\n",
    "    Student(\"윤아린\", 95, 98, 98, 98),\n",
    "    Student(\"윤명월\", 64, 88, 92, 92)\n",
    "]\n",
    "print(\"이름\", \"총점\", \"평균\", sep=\"\\t\")\n",
    "for student in students:\n",
    "    print(str(student))   # student의 __str__() 함수가 실행 됨\n",
    "print(\"students[0] == students[1] = \", students[0] != students[1])"
   ]
  },
  {
   "cell_type": "code",
   "execution_count": null,
   "id": "c72ec16c",
   "metadata": {},
   "outputs": [],
   "source": [
    "class Student:\n",
    "    count = 0\n",
    "    students = []\n",
    "\n",
    "    # 클래스 함수\n",
    "    @classmethod\n",
    "    def print(cls):\n",
    "        print(\"------ 학생 목록 ------\")\n",
    "        print(\"이름\\t총점\\t평균\")\n",
    "        for student in cls.students:\n",
    "            print(str(student))\n",
    "        print(\"------- ------- -------\")\n",
    "\n",
    "    # 인스턴스 함수\n",
    "    def __init__(self, name, korean, math, english, science):\n",
    "        #인스턴스 변수 초기화\n",
    "        self.name = name\n",
    "        self.korean = korean\n",
    "        self.math = math\n",
    "        self.english = english\n",
    "        self.science = science\n",
    "        Student.count += 1\n",
    "        Student.students.append(self)\n",
    "\n",
    "    def get_sum(self):\n",
    "        return self.korean + self.math + self.english + self.science\n",
    "\n",
    "    def get_average(self):\n",
    "        return self.get_sum() / 4\n",
    "\n",
    "    def __str__(self):\n",
    "        return \"{}\\t{}\\t{}\".format(self.name,\\\n",
    "                                    self.get_sum(),\\\n",
    "                                    self.get_average())\n",
    "    \n",
    "    # 학생 리스트를 선언합니다.\n",
    "students = [\n",
    "    { \"name\": \"윤인성\", \"korean\": 87, \"math\": 98, \"english\": 88, \"science\": 95 },\n",
    "    { \"name\": \"연하진\", \"korean\": 92, \"math\": 98, \"english\": 96, \"science\": 98 },\n",
    "    { \"name\": \"구지연\", \"korean\": 76, \"math\": 96, \"english\": 94, \"science\": 90 },\n",
    "    { \"name\": \"나선주\", \"korean\": 98, \"math\": 92, \"english\": 96, \"science\": 92 },\n",
    "    { \"name\": \"윤아린\", \"korean\": 95, \"math\": 98, \"english\": 98, \"science\": 98 },\n",
    "    { \"name\": \"윤명월\", \"korean\": 64, \"math\": 88, \"english\": 92, \"science\": 92 }\n",
    "]"
   ]
  },
  {
   "cell_type": "code",
   "execution_count": null,
   "id": "4138a2d8",
   "metadata": {},
   "outputs": [],
   "source": [
    "# 모듈을 가져옵니다.\n",
    "import math\n",
    "\n",
    "# 클래스를 선언합니다.\n",
    "class Circle:\n",
    "    def __init__(self, radius):\n",
    "        self.__radius = radius\n",
    "    def get_circumference(self):\n",
    "        return 2 * math.pi *  self.__radius\n",
    "    def get_area(self):\n",
    "        return math.pi * (self.__radius ** 2)\n",
    "    \n",
    "    def get_radius(self):     #getter\n",
    "        return self.__radius\n",
    "    def set_radius(self, value):   #setter\n",
    "        self.__radius = value\n",
    "\n",
    "# 원의 둘레와 넓이를 구합니다.\n",
    "circle = Circle(10)\n",
    "print(\"# 원의 둘레와 넓이를 구합니다.\")\n",
    "print(\"원의 둘레:\", circle.get_circumference())\n",
    "print(\"원의 넓이:\", circle.get_area())\n",
    "print()\n",
    "\n",
    "# __radius에 접근합니다.\n",
    "print(\"# __radius에 접근합니다.\")\n",
    "print(circle.get_radius)\n",
    "print()\n",
    "circle.set_radius(3)\n",
    "print(\"# 원의 둘레와 넓이를 구합니다.\")\n",
    "print(\"원의 둘레:\", circle.get_circumference())\n",
    "print(\"원의 넓이:\", circle.get_area())"
   ]
  },
  {
   "cell_type": "code",
   "execution_count": null,
   "id": "ca775b00",
   "metadata": {},
   "outputs": [],
   "source": [
    "class Circle:\n",
    "    def __init__(self, radius):\n",
    "        self.__radius = radius\n",
    "    def get_circumference(self):\n",
    "        return 2 * math.pi *  self.__radius\n",
    "    def get_area(self):\n",
    "        return math.pi * (self.__radius ** 2)\n",
    "    \n",
    "    @property\n",
    "    def get_radius(self):     #getter\n",
    "        return self.__radius\n",
    "    @property.setter\n",
    "    def set_radius(self, value):   #setter\n",
    "        self.__radius = value"
   ]
  },
  {
   "cell_type": "code",
   "execution_count": null,
   "id": "bbd5eebf",
   "metadata": {},
   "outputs": [],
   "source": [
    "#inheriance\n",
    "#부모 클래스를 선언합니다.\n",
    "class Parent:\n",
    "    def __init__(self):\n",
    "        self..value = \"테스트\"\n",
    "        print(\"Parent 클래스의 __init()__ 메서드가 호출되었습니다.\")\n",
    "    def test(self):\n",
    "        print(\"Parent 클래스의 test() 메서드입니다.\")\n",
    "    \n",
    "#자식 클래스를 선언합니다.    \n",
    "class Child(Parent):\n",
    "    def __init__(self):\n",
    "        def __init__(self)\n",
    "        print(\"Child 클래스의 __init()__ 메서드가 호출되었습니다.\")\n",
    "    \n",
    "#자식 클래스의  인스턴스를  생성하고  부모의 메서드를  호출합니다.\n",
    "child = Child()  # Child. Parent의 메서드와 값을 가지게 됨\n",
    "child.test()\n",
    "print(child.value)\n",
    "  "
   ]
  }
 ],
 "metadata": {
  "kernelspec": {
   "display_name": "Python 3",
   "language": "python",
   "name": "python3"
  },
  "language_info": {
   "codemirror_mode": {
    "name": "ipython",
    "version": 3
   },
   "file_extension": ".py",
   "mimetype": "text/x-python",
   "name": "python",
   "nbconvert_exporter": "python",
   "pygments_lexer": "ipython3",
   "version": "3.8.8"
  }
 },
 "nbformat": 4,
 "nbformat_minor": 5
}
