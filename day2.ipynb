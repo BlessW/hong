{
 "cells": [
  {
   "cell_type": "markdown",
   "id": "5f69ed53",
   "metadata": {},
   "source": [
    "python의 데이터 타입: 숫자, 문자열, 불리언\n",
    "input(), print(), int(), float(), str()\n",
    "식별자 : 키워드 사용 불가, 문자로 시작, 숫자 포함 가능, 대소문자 구별\n",
    "변수와 함수를 구별하는 방법 : 함수는 print() 처럼 식별자 뒤에 ()가 있음\n",
    "클래스 BeatuifulSoup() : 캐멀타입의 식별자\n",
    "        \n",
    "문자열 slice 하는 방법 : 인덱스를 사용하여 변수명[1]\n",
    "            \n",
    "문) 문자를 입력받아 2번째부터 5글자만 잘라서 화면에 출력하세요\n",
    "문) 위에서 입력받은 문자열의 마지막 3글자를 출력하세요"
   ]
  },
  {
   "cell_type": "code",
   "execution_count": 113,
   "id": "caf525f6",
   "metadata": {},
   "outputs": [
    {
     "name": "stdout",
     "output_type": "stream",
     "text": [
      "문자열을 입력하세요 6글자 이상 > 1 2 3 4 5 6\n",
      " 2 3 \n",
      "5 6\n",
      "6\n"
     ]
    }
   ],
   "source": [
    "input_srt = input(\"문자열을 입력하세요 6글자 이상 > \")\n",
    "print(input_srt[ 1: 6]) # index는 0부터 시작\n",
    "print(input_srt[ -3: ])\n",
    "print(input_srt[-1])"
   ]
  },
  {
   "cell_type": "code",
   "execution_count": null,
   "id": "e4a5b827",
   "metadata": {},
   "outputs": [],
   "source": [
    "# 정수\n",
    "output_a = \"{:d}\". format(52)\n",
    "\n",
    "# 특정 칸에 출력하기\n",
    "output_b = \"{:5d}\".fomrmat(52)       # 5칸\n",
    "output_c = \"{:10d}\".format(52)       # 10칸  \n",
    "\n",
    "#빈칸을 0으로 채우기\n",
    "output_d = \"{:05d}\".format(52)\n",
    "output_e = \"{:05d}\".format(-52)\n",
    "\n",
    "print(\"# 기본\")\n",
    "print(output_a)"
   ]
  },
  {
   "cell_type": "code",
   "execution_count": 64,
   "id": "8719711c",
   "metadata": {},
   "outputs": [
    {
     "name": "stdout",
     "output_type": "stream",
     "text": [
      "52.273000\n",
      "      52.273000\n",
      "     +52.273000\n",
      "+0000052.273000\n"
     ]
    }
   ],
   "source": [
    "output_a = \"{:f}\".format(52.273)\n",
    "output_b = \"{:15f}\".format(52.273)\n",
    "output_c = \"{:+15f}\".format(52.273)\n",
    "output_d = \"{:+015f}\".format(52.273)\n",
    "\n",
    "print(output_a)\n",
    "print(output_b)\n",
    "print(output_c)\n",
    "print(output_d)"
   ]
  },
  {
   "cell_type": "code",
   "execution_count": 65,
   "id": "948265aa",
   "metadata": {},
   "outputs": [
    {
     "name": "stdout",
     "output_type": "stream",
     "text": [
      "         52.273\n",
      "          52.27\n",
      "           52.3\n"
     ]
    }
   ],
   "source": [
    "output_a=\"{:15.3f}\".format(52.273)\n",
    "output_b=\"{:15.2f}\".format(52.273)\n",
    "output_c=\"{:15.1f}\".format(52.273)\n",
    "\n",
    "print(output_a)\n",
    "print(output_b)\n",
    "print(output_c)"
   ]
  },
  {
   "cell_type": "code",
   "execution_count": 66,
   "id": "576b4a73",
   "metadata": {},
   "outputs": [
    {
     "name": "stdout",
     "output_type": "stream",
     "text": [
      "52.0\n",
      "52\n"
     ]
    }
   ],
   "source": [
    "output_a = 52.0\n",
    "output_b = \"{:g}\".format(output_a)\n",
    "print(output_a)\n",
    "print(output_b)"
   ]
  },
  {
   "cell_type": "code",
   "execution_count": 52,
   "id": "5fb9b653",
   "metadata": {},
   "outputs": [
    {
     "name": "stdout",
     "output_type": "stream",
     "text": [
      " HELLO PYTHON PROGRAMMING \n",
      " hello python programming \n",
      "- Hello python programming -\n",
      "-Hello python programming-\n",
      "-Hello python programming -\n",
      "- Hello python programming-\n",
      "False\n"
     ]
    }
   ],
   "source": [
    "# 문자열 관련 함수 : upper(), lower(), strip(), lstrip(), rstip()\n",
    "a_str = \" Hello python programming \"\n",
    "print(a_str.upper())   #대문자로\n",
    "print(a_str.lower())\n",
    "print(\"-{}-\".format(a_str))\n",
    "print(\"-{}-\".format(a_str.strip()))\n",
    "print(\"-{}-\".format(a_str.lstrip()))\n",
    "print(\"-{}-\".format(a_str.rstrip()))\n",
    "      \n",
    "print(a_str.isalnum())  #alpha or number인지 확인 "
   ]
  },
  {
   "cell_type": "code",
   "execution_count": 18,
   "id": "5a2b2d86",
   "metadata": {},
   "outputs": [
    {
     "name": "stdout",
     "output_type": "stream",
     "text": [
      "lndex :  1 H\n",
      "lndex :  7 H\n",
      "True\n",
      "False\n",
      "a_split :  ['Hello', 'Hel', 'hel']\n"
     ]
    },
    {
     "data": {
      "text/plain": [
       "[' Hello', ' Hel', ' hel ']"
      ]
     },
     "execution_count": 18,
     "metadata": {},
     "output_type": "execute_result"
    }
   ],
   "source": [
    "# find(), rfind(), in, split(), 함 수 알아보기\n",
    "\n",
    "a_str = \" Hello Hel hel \"\n",
    "print(\"lndex : \", a_str.find(\"Hel\"),a_str[a_str.find(\"Hel\")]) # 단어가 나오는 첫번째 index를 return 결과\n",
    "print(\"lndex : \", a_str.rfind(\"Hel\"),a_str[a_str.rfind(\"Hel\")])\n",
    "\n",
    "print(\"hel\" in a_str)# 원하는 단어가 문장에 있는지 검색\n",
    "print(\"HEL\" in a_str)\n",
    "\n",
    "a_split = a_str.split() # 공백으로 문자열을 분리후 리스트로 변환\n",
    "print(\"a_split : \",a_split )\n",
    "b_str = \" Hello, Hel, hel \"\n",
    "b_str.split(',')"
   ]
  },
  {
   "cell_type": "markdown",
   "id": "ac90a0e6",
   "metadata": {},
   "source": [
    "문) 키보드에서 두숫자를 입력받아 두 숫자의 나눈 결과를 계산해서 화면에서 출력\n",
    "자리수는 소수점 미만 2자리까지 표현해서 출력하세요\n",
    "- 입력함수, 문자를 실수로 변환시키는 함수, 문자를 분리하는 함수"
   ]
  },
  {
   "cell_type": "code",
   "execution_count": 59,
   "id": "e47966fc",
   "metadata": {},
   "outputs": [
    {
     "name": "stdout",
     "output_type": "stream",
     "text": [
      " 두 수를 입력 > 20 3\n",
      "20.0  /  3.0  =    6.667\n"
     ]
    },
    {
     "data": {
      "text/plain": [
       "'20.0 / 3.0 =   6.667'"
      ]
     },
     "execution_count": 59,
     "metadata": {},
     "output_type": "execute_result"
    }
   ],
   "source": [
    "#1. 문자 입력\n",
    "input_str = input(\" 두 수를 입력 > \")\n",
    "#2. 문자를 분리 ( 두 개의 숫자(문자)로), #3. 문자를 숫자로 변환\n",
    "split_str = input_str.split()\n",
    "input_num1 = float(split_str[0])\n",
    "input_num2 = float(split_str[1])\n",
    "\n",
    "#4. 계산해서 결과 출력\n",
    "print(input_num1, \" / \", input_num2, \" = \", \"{:7.3f}\".format(input_num1/input_num2))\n",
    "\"{} / {} = {:7.3f}\".format(input_num1, input_num2,input_num1/input_num2)"
   ]
  },
  {
   "cell_type": "markdown",
   "id": "8cf7fb66",
   "metadata": {},
   "source": [
    "# chap 3 : 조건문\n",
    "### boolean\n",
    "==, !=, <, >, <=, >=, not, and, or"
   ]
  },
  {
   "cell_type": "code",
   "execution_count": 60,
   "id": "2a958d5c",
   "metadata": {},
   "outputs": [
    {
     "name": "stdout",
     "output_type": "stream",
     "text": [
      "under_20 :  True\n",
      "not under_20 :  False\n"
     ]
    }
   ],
   "source": [
    "x = 10\n",
    "under_20 = x < 20\n",
    "print(\"under_20 : \", under_20)\n",
    "print(\"not under_20 : \",not under_20)"
   ]
  },
  {
   "cell_type": "code",
   "execution_count": 74,
   "id": "d5cba4da",
   "metadata": {},
   "outputs": [
    {
     "name": "stdout",
     "output_type": "stream",
     "text": [
      " 두 수를 입력 > 10 5\n",
      "False\n",
      "False\n",
      "True\n"
     ]
    }
   ],
   "source": [
    "# 문) 키보드에서 두 수를 입력받아 두 수가 같으면 True를 다르면 False를 출력하세요\n",
    "input_str = input(\" 두 수를 입력 > \")\n",
    "split_num = input_str.split()\n",
    "print(split_num[0] == split_num[1])\n",
    "print(int(split_num[0]) < 10 and int(split_num[1]) < 10 ) #둘 다 true면 true 아니면 false\n",
    "print(int(split_num[0]) < 10 or int(split_num[1]) < 10 ) #둘 중의 하나만 true면  true"
   ]
  },
  {
   "cell_type": "code",
   "execution_count": 39,
   "id": "37208c22",
   "metadata": {},
   "outputs": [
    {
     "name": "stdout",
     "output_type": "stream",
     "text": [
      "조건문 처리 \n",
      "조건문 처리111\n",
      "조건문 나옴 \n",
      " or True \n"
     ]
    }
   ],
   "source": [
    "# if 조건문:\n",
    "#  들여쓰기를 문장 처리\n",
    "if True:\n",
    "    print(\"조건문 처리 \")\n",
    "    print(\"조건문 처리111\")\n",
    "if False:\n",
    "    print(\"조건문 처리222\")\n",
    "    print(\"조건문 처리333\")\n",
    "print(\"조건문 나옴 \")\n",
    "\n",
    "if (10 ==100) and ( 20 < 100):\n",
    "    print(\"and False\")\n",
    "if (10 ==100) or( 20 < 100):\n",
    "     print(\" or True \")\n",
    "       \n",
    "#문) 1. 두 수를 입력받아 두 수가 0보다 크면 두수의 합을 출력\n",
    "#2. 두 수중 큰 수에서 작은 수를 뺀 결과 출력\n",
    "#3. 두 수중 0가 없으면 작은 수를 큰수로 나누 나머지 값 출력"
   ]
  },
  {
   "cell_type": "code",
   "execution_count": 50,
   "id": "cddf8b1c",
   "metadata": {},
   "outputs": [
    {
     "name": "stdout",
     "output_type": "stream",
     "text": [
      "숫자 입력 > 3 \n",
      "숫자 입력 > 4\n",
      "문1 3  +  4  =  7\n",
      "문21 4  -  3  =  1\n",
      "문31 4  %  3  =  1\n"
     ]
    }
   ],
   "source": [
    "num1 = int(input(\"숫자 입력 > \")); \n",
    "num2 = int(input(\"숫자 입력 > \"))\n",
    "if num1 >0 and num2 >0 :\n",
    "    print(\"문1\", num1, \" + \", num2, \" = \", num1+num2)\n",
    "if num1 > num2:\n",
    "    print(\"문2\", num1, \" - \" , num2, \" = \", num1-num2)\n",
    "if num1 < num2:\n",
    "    print(\"문21\",num2, \" - \", num1, \" = \", num2-num1)\n",
    "if num1 !=0 and num2 !=0 :\n",
    "    if num1 > num2:\n",
    "        print(\"문3\",num1, \" % \", num2, \" = \", num1%num2)\n",
    "    if num1 < num2:\n",
    "        print(\"문31\",num2, \" % \", num1,\" = \", num2%num1)"
   ]
  },
  {
   "cell_type": "code",
   "execution_count": 49,
   "id": "e067b1e0",
   "metadata": {},
   "outputs": [
    {
     "name": "stdout",
     "output_type": "stream",
     "text": [
      "2021 년\n",
      "9 월\n",
      "17 일\n",
      "12 시\n",
      "42 분\n",
      "4 초\n"
     ]
    }
   ],
   "source": [
    "# datetime 패키지 사용 import 패키지명, import 패키지명 as 약어\n",
    "# 패키지명, 함수명\n",
    "import datetime as dt\n",
    "\n",
    "now = dt.datetime.now()\n",
    "print(now.year, \"년\")\n",
    "print(now.month, \"월\")\n",
    "print(now.day, \"일\")\n",
    "print(now.hour, \"시\")\n",
    "print(now.minute, \"분\")\n",
    "print(now.second, \"초\")"
   ]
  },
  {
   "cell_type": "code",
   "execution_count": 77,
   "id": "75d5f189",
   "metadata": {},
   "outputs": [
    {
     "name": "stdout",
     "output_type": "stream",
     "text": [
      "정수 입력> 13\n",
      "홀수입니다\n"
     ]
    }
   ],
   "source": [
    "# 입력을 받습니다.\n",
    "number = input(\"정수 입력> \")\n",
    "number = int(number)\n",
    "\n",
    "#조건문을 사용합니다.\n",
    "if number % 2 == 0:\n",
    "    #조건이 참일 때, 즉 짝수 조건\n",
    "    print(\"짝수입니다\")\n",
    "else:\n",
    "    #조건이 거짓일 때, 즉 홀수 조건\n",
    "    print(\"홀수입니다\")"
   ]
  },
  {
   "cell_type": "code",
   "execution_count": 78,
   "id": "9497da1e",
   "metadata": {},
   "outputs": [
    {
     "ename": "IndentationError",
     "evalue": "unexpected indent (<ipython-input-78-2afb53b51001>, line 3)",
     "output_type": "error",
     "traceback": [
      "\u001b[1;36m  File \u001b[1;32m\"<ipython-input-78-2afb53b51001>\"\u001b[1;36m, line \u001b[1;32m3\u001b[0m\n\u001b[1;33m    print(\"문2\", num1, \" - \" , num2, \" = \", num1-num2)\u001b[0m\n\u001b[1;37m    ^\u001b[0m\n\u001b[1;31mIndentationError\u001b[0m\u001b[1;31m:\u001b[0m unexpected indent\n"
     ]
    }
   ],
   "source": [
    "# if ~ else 로 변경, 교재 129p 소스 coding\n",
    " \n",
    "    print(\"문2\", num1, \" - \" , num2, \" = \", num1-num2)\n",
    "if num1 < num2:\n",
    "    print(\"문21\",num2, \" - \", num1, \" = \", num2-num1)\n",
    "if num1 !=0 and num2 !=0 :\n",
    "    if num1 > num2:\n",
    "        print(\"문3\",num1, \" % \", num2, \" = \", num1%num2)\n",
    "    if num1 < num2:\n",
    "        print(\"문31\",num2, \" % \", num1,\" = \", num2%num1)"
   ]
  },
  {
   "cell_type": "code",
   "execution_count": 83,
   "id": "5998ab6f",
   "metadata": {},
   "outputs": [
    {
     "name": "stdout",
     "output_type": "stream",
     "text": [
      "성적 입력 : 10 \n",
      "F\n"
     ]
    }
   ],
   "source": [
    "# if, if ~ else, if ~ elif ~ ... else\n",
    "# 성적을 입력 받아 등급을 부여해서 출력\n",
    "score = int(input(\"성적 입력 : \"))\n",
    "\n",
    "if score >90 : \n",
    "    print('A')\n",
    "elif 80 < score  :\n",
    "    price('B')\n",
    "elif 70 < score  :\n",
    "    print('C')\n",
    "elif 60 < score  :\n",
    "    # 나중에 처리\n",
    "    pass\n",
    "else:\n",
    "    print('F')\n"
   ]
  },
  {
   "cell_type": "code",
   "execution_count": 84,
   "id": "cdecb8cc",
   "metadata": {},
   "outputs": [
    {
     "name": "stdout",
     "output_type": "stream",
     "text": [
      "계산식 입력 :> 10 + 20\n",
      "10 + 20 =  30\n"
     ]
    }
   ],
   "source": [
    "#문) 숫자 연산자기호 숫자를 입력받아 연산지 기호가 '+'이면 두 숫자의합을 \n",
    "#   '-' 이면 두 수의 차를,'*'이면 두 수의 곱을, 아니면 \"기호 오류\" 문자 출력\n",
    "input_str = input(\"계산식 입력 :> \")\n",
    "num1 = int(input_str.split()[0])\n",
    "buho = input_str.split()[1]\n",
    "num2 = int(input_str.split()[2])\n",
    "comp_var = \"{} {} {} = \".format(num1,buho,num2)\n",
    "if buho == '+':\n",
    "    print(comp_var, num1+num2)\n",
    "elif buho =='-':\n",
    "    print(comp_var, num1-num2)\n",
    "elif buho == '*':\n",
    "    print(comp_var, num1*num2)\n",
    "else:\n",
    "    print(\"기호 오류\")"
   ]
  },
  {
   "cell_type": "code",
   "execution_count": 87,
   "id": "aa601472",
   "metadata": {},
   "outputs": [
    {
     "name": "stdout",
     "output_type": "stream",
     "text": [
      "[1, 2, 3, 4, 5, 6]\n",
      "['abc', 'test', 123, True, 78, 'python', [1, 2, 3], 'abc', 'test', 123, True, 78, 'python', [1, 2, 3], 'abc', 'test', 123, True, 78, 'python', [1, 2, 3]]\n",
      "['abc', 'test', 123, True, 78, 'python', [1, 2, 3], 'add']\n",
      "[1, 2, 3]\n"
     ]
    },
    {
     "data": {
      "text/plain": [
       "[1, 2, 3, 4, 5, 6]"
      ]
     },
     "execution_count": 87,
     "metadata": {},
     "output_type": "execute_result"
    }
   ],
   "source": [
    "## list : [ , , ....] -> 여러개의  데이터의 집합\n",
    "# list 추가 :  list명.append(), list명.insert(index,추가데이터), list명.extend(추가할리스트)\n",
    "# list 삭제 : list명.pop(), list명()pop(2:index), del list명[index]\n",
    "# list 값으로 삭제 : list명.remove(값)\n",
    "# list의 모든 값 삭제 : list명.clear()\n",
    "a_list = [ \"abc\",\"test\", 123, True, 78, \"python\", [1,2,3]]\n",
    "a_list[0]  # \"a,b,c\"\n",
    "a_list[0][0] # 'a'\n",
    "a_list[-1][2] # 't', 3\n",
    "\n",
    "b_list = [1,2,3]; c_list = [4,5,6]\n",
    "print(b_list + c_list)  #list 연산 + 두 개의 리스트 결합, * 반복\n",
    "print(a_list * 3)\n",
    "\n",
    "a_list.append(\"add\")  # list의 마지막에 요소 추가ㅣㅑ하는 위치에 데이터 추가\n",
    "print(a_list)\n",
    "a_list.insert(2, \"insert data\") # 원하는 위치에 데이터 추가\n",
    "len(a_list)\n",
    "print(b_list)\n",
    "b_list.extend(c_list)  # b_list에  c_list의 값을 추가 기존의 데이터 변경\n",
    "b_list"
   ]
  },
  {
   "cell_type": "code",
   "execution_count": 97,
   "id": "5be90016",
   "metadata": {},
   "outputs": [
    {
     "name": "stdout",
     "output_type": "stream",
     "text": [
      "input data : sad fgh jhg xcvbx asdA\n",
      "['sad', 'fgh', 'jhg', 'xcvbx', 'asdA'] 5\n",
      "asdA\n",
      "f_list 2222:  ['sad', 'fgh', 'jhg', 'xcvbx']\n",
      "xcvbx\n",
      "input data : ASD\n",
      "f_list 3333:  ['sad', 'fgh', 'jhg', 'xcvbx', 'ASD']\n",
      "f_list 4444:  []\n"
     ]
    }
   ],
   "source": [
    "## list : [ , , ....] -> 여러개의  데이터의 집합\n",
    "# list 추가 :  list명.append(), list명.insert(index,추가데이터), list명.extend(추가할리스트)\n",
    "# list 삭제 : list명.pop(), list명()pop(2:index), del list명[index]\n",
    "# list 값으로 삭제 : list명.remove(값)\n",
    "# list의 모든 값 삭제 : list명.clear()\n",
    "\n",
    "#문) 여러 개의  데이터를 입력 받아 리스트로 저장한 후\n",
    "# 1. 마지막 데이터를 출력 후 삭제\n",
    "# 2. 3번째 인덱스의 값을 출력\n",
    "# 3. 추가로 여러 개의 데이터를 입력 받아 기존의 리스트에 추가 후 출력\n",
    "# 4. 처음 입력한 데이터의 리스트 변수를 clear\n",
    "f_list = input(\"input data : \").split() # 자료 입력\n",
    "print(f_list, len(f_list))  #입력한 자료 리스트 출력, 갯수 출력\n",
    "print(f_list.pop()) # 1. 마지막 데이터를 출력 후 삭제\n",
    "print(\"f_list 2222: \", f_list)\n",
    "print(f_list[3]) # 2. 3인덱스의 값을 출력\n",
    "\n",
    "f_list.extend(input(\"input data : \").split())  # 4. 두번째 자료 입력 후 기존의 list에 추가\n",
    "print(\"f_list 3333: \",f_list)\n",
    "f_list.clear()\n",
    "print(\"f_list 4444: \",f_list)"
   ]
  },
  {
   "cell_type": "code",
   "execution_count": 100,
   "id": "17cbbe0c",
   "metadata": {
    "scrolled": true
   },
   "outputs": [
    {
     "name": "stdout",
     "output_type": "stream",
     "text": [
      "abc\n",
      "test\n",
      "123\n",
      "True\n",
      "78\n",
      "python\n",
      "[1, 2, 3]\n",
      "반복 :  0\n",
      "반복 :  1\n",
      "반복 :  2\n",
      "반복 :  3\n",
      "반복 :  4\n",
      "H  _ \n",
      "e  _ \n",
      "l  _ \n",
      "l  _ \n",
      "o  _ \n"
     ]
    }
   ],
   "source": [
    "a_list = [ \"abc\", \"test\", 123, True, 78, \"python\", [1,2,3]]\n",
    "# 반복문 for 변수 in 반복자료:\n",
    "#          처리문\n",
    "for i_var in a_list:\n",
    "        print(i_var)\n",
    "\n",
    "for i in range(5):  #5회 반복\n",
    "        print(\"반복 : \", i)\n",
    "    \n",
    "for char in \"Hello\":\n",
    "        print(char, ' _ ')\n",
    "\n",
    "\n",
    "    "
   ]
  },
  {
   "cell_type": "code",
   "execution_count": 103,
   "id": "cc7853d5",
   "metadata": {},
   "outputs": [
    {
     "name": "stdout",
     "output_type": "stream",
     "text": [
      "input data : 5 sda 84 ert sfdg 23\n",
      "total :  112\n"
     ]
    }
   ],
   "source": [
    "# 키보드로 입력을 받아 리스트에 저장한 후 입력한 자료가 숫자이면 합을 구해서 출력하세요\n",
    "#1. input 자료를 리스트로 추가\n",
    "#2. 리스트의 자료를 하나씩 비교 ( 숫자인지 ) 반복문 실행\n",
    "#3. 숫자이면 합을 구함\n",
    "#4. 반복문 끝난 후 합을 출력\n",
    "a_list = input(\"input data : \").split()\n",
    "total = 0\n",
    "for var in a_list:\n",
    "    if var.isnumeric():  #입력된 자료가 숫자인지 확인\n",
    "        total += int(var)  #숫자이면 합계 구함\n",
    "print(\"total : \", total)"
   ]
  },
  {
   "cell_type": "code",
   "execution_count": 106,
   "id": "4ad167cd",
   "metadata": {},
   "outputs": [
    {
     "name": "stdout",
     "output_type": "stream",
     "text": [
      "input number : 3\n",
      "3 * 1 = 3\n",
      "3 * 2 = 6\n",
      "3 * 3 = 9\n",
      "3 * 4 = 12\n",
      "3 * 5 = 15\n",
      "3 * 6 = 18\n",
      "3 * 7 = 21\n",
      "3 * 8 = 24\n",
      "3 * 9 = 27\n"
     ]
    }
   ],
   "source": [
    "# 숫자를 입력받아 해당하는 숫자의 구구단을 출력하세요\n",
    "# 3\n",
    "# 3 * 1 = 3\n",
    "# 3 * 2 = 6\n",
    "input_num = int(input(\"input number : \"))\n",
    "for i in range(9):\n",
    "    print(\"{} * {} = {}\".format( input_num, i+1, input_num * (i+1)))"
   ]
  },
  {
   "cell_type": "markdown",
   "id": "28fa87b1",
   "metadata": {},
   "source": [
    "9월 17일 총정리\n",
    "1. 숫자와 문자열의 다양한 기능 : format() \" {}문자 {}\".format(1,2)\n",
    "2. 문자열 구성 파악하기 is 함수명() -> True 또는 False\n",
    "3. 문자열 자르기 : split() -> 문자열.split()\n",
    "4. 조건문 : if 조건식, if ~else, if ~ =elif 조건식: ~ elif ... ~ else: 조건식 없음\n",
    "5. 날짜, 시간 함수 : datetime, import 의미, import datetime as dt ->alias명을 사용\n",
    "6. list -> 관련함수 append(),extend(), pop(), insert(), remove(), clear(), del\n",
    "7, 반복문 -> for 변수 in 리스트\n",
    "\n",
    "정리 문제\n",
    "키보드로 부터 문자열과 숫자를 입력받아\n",
    "1. 문자열의 길이를 구하고 문자열을  숫자만큼 반복해서 출력\n",
    "2. 숫자가  짝수이면  1부터 해당하는 수까지의 합을,\n",
    "   홀수이면 1부터 해당하는 숫자까지의 곱을 구하세요\n",
    "3. 숫자만큼 데이터를  입력받아 라스트에 추가해서 최종 입력 자료 출력"
   ]
  },
  {
   "cell_type": "code",
   "execution_count": 116,
   "id": "f79229bf",
   "metadata": {},
   "outputs": [
    {
     "name": "stdout",
     "output_type": "stream",
     "text": [
      " 문자열, 숫자 입력 : ab 3\n",
      "문자열의 길이 : {}  2\n",
      "ababab\n",
      "1 부터 3 까지의 곱은 6\n",
      " 문자 입력 : ab\n",
      " 문자 입력 : ab 3\n",
      " 문자 입력 : \n",
      "최종입력 자료 :  ['ab', 'ab 3', '']\n"
     ]
    }
   ],
   "source": [
    "#문자열과 숫자 입력\n",
    "input_list = input(\" 문자열, 숫자 입력 : \").split()\n",
    "input_str = input_list[0]\n",
    "input_num = int(input_list[1])\n",
    "\n",
    "print(\"문자열의 길이 : {} \",format(len(input_str)))\n",
    "print(input_str * input_num)\n",
    "\n",
    "if input_num % 2 == 0:\n",
    "    total = 0\n",
    "    for i in range(input_num+1):\n",
    "        total += i\n",
    "    print(\"1부터 {} 까지의 합은 {}\".format(input_num, total))\n",
    "else:\n",
    "    total = 1\n",
    "    for i in range(input_num):\n",
    "        total *= i+1\n",
    "    print(\"1 부터 {} 까지의 곱은 {}\".format(input_num, total))\n",
    "    \n",
    "t_list =[]  # 빈 리스트 생성\n",
    "for i in range(input_num):\n",
    "    input_data = input(\" 문자 입력 : \")\n",
    "    t_list.append(input_data)   #입력된 문자열 추가\n",
    "print(\"최종입력 자료 : \", t_list)"
   ]
  }
 ],
 "metadata": {
  "kernelspec": {
   "display_name": "Python 3",
   "language": "python",
   "name": "python3"
  },
  "language_info": {
   "codemirror_mode": {
    "name": "ipython",
    "version": 3
   },
   "file_extension": ".py",
   "mimetype": "text/x-python",
   "name": "python",
   "nbconvert_exporter": "python",
   "pygments_lexer": "ipython3",
   "version": "3.8.8"
  }
 },
 "nbformat": 4,
 "nbformat_minor": 5
}
