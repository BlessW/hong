{
 "cells": [
  {
   "cell_type": "code",
   "execution_count": 2,
   "id": "a1b773f6",
   "metadata": {},
   "outputs": [
    {
     "name": "stdout",
     "output_type": "stream",
     "text": [
      " # 하나만 출력합니다 \n",
      "Hello Python\n",
      "\n",
      "#여러 개를 출력합니다\n",
      "10 20 30 40 50\n",
      "안녕하세요 저의 이름은 파이썬입니다\n",
      "\n"
     ]
    }
   ],
   "source": [
    "# 하나만 출력\n",
    "print(\" # 하나만 출력합니다 \")\n",
    "print(\"Hello Python\")\n",
    "print()\n",
    "\n",
    "#여러 개 출력ㅔ\n",
    "print(\"#여러 개를 출력합니다\")\n",
    "print(10,20,30,40,50)\n",
    "print(\"안녕하세요\", \"저의\",\"이름은\",\"파이썬입니다\")\n",
    "print()"
   ]
  },
  {
   "cell_type": "code",
   "execution_count": null,
   "id": "4945ccb7",
   "metadata": {},
   "outputs": [],
   "source": []
  }
 ],
 "metadata": {
  "kernelspec": {
   "display_name": "Python 3",
   "language": "python",
   "name": "python3"
  },
  "language_info": {
   "codemirror_mode": {
    "name": "ipython",
    "version": 3
   },
   "file_extension": ".py",
   "mimetype": "text/x-python",
   "name": "python",
   "nbconvert_exporter": "python",
   "pygments_lexer": "ipython3",
   "version": "3.8.8"
  }
 },
 "nbformat": 4,
 "nbformat_minor": 5
}
