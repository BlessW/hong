{
 "cells": [
  {
   "cell_type": "code",
   "execution_count": 1,
   "id": "c50a44af",
   "metadata": {},
   "outputs": [
    {
     "name": "stdout",
     "output_type": "stream",
     "text": [
      "<class 'dict'>\n",
      "<class 'pandas.core.series.Series'>\n"
     ]
    }
   ],
   "source": [
    "#pandas를 활용하여 데이터 처리\n",
    "import pandas as pd\n",
    "\n",
    "dict_data = {'a':1, 'b':2, 'c':3}\n",
    "\n",
    "ar = pd.Series(dict_data)  # dictionary를 형식으로 변환\n",
    "\n",
    "print(type(dict_data))\n",
    "print(type(ar))"
   ]
  },
  {
   "cell_type": "code",
   "execution_count": 4,
   "id": "a5fe6022",
   "metadata": {},
   "outputs": [
    {
     "name": "stdout",
     "output_type": "stream",
     "text": [
      "{'a': 1, 'b': 2, 'c': 3}\n",
      "a    1\n",
      "b    2\n",
      "c    3\n",
      "dtype: int64\n",
      "1  :  1  :  1\n",
      "a    1\n",
      "c    3\n",
      "dtype: int64\n"
     ]
    },
    {
     "data": {
      "text/plain": [
       "b    2\n",
       "c    3\n",
       "dtype: int64"
      ]
     },
     "execution_count": 4,
     "metadata": {},
     "output_type": "execute_result"
    }
   ],
   "source": [
    "print(dict_data)\n",
    "print(ar)\n",
    "\n",
    "print(dict_data['a'],\" : \", ar[\"a\"], \" : \", ar[0])  # ar에서 'a' 인덱스명\n",
    "print(ar[['a','c']])\n",
    "ar[1:2]    #인덱스를 첨자로 접근하면 마지막  첨자  위치 데이터 불포함\n",
    "ar['b' : 'c'] #인덱스명으로 접근하면  마지막 데이터 포함\n",
    "#딕셔너리 시리즈로 변경 : 딕셔너리의 키가 시리즈의  인덱스명이 됨\n",
    "# 접근은 인덱스명 또는 인덱스 첨자로  접근 가능"
   ]
  },
  {
   "cell_type": "code",
   "execution_count": 17,
   "id": "82f1d04b",
   "metadata": {},
   "outputs": [
    {
     "name": "stdout",
     "output_type": "stream",
     "text": [
      "print df :     a  b  c\n",
      "0  1  4  7\n",
      "1  2  5  8\n",
      "2  3  6  9\n",
      "df1  :        a  b  c\n",
      "idx1  1  4  7\n",
      "idx2  2  5  8\n",
      "idx3  3  6  9\n",
      "None\n"
     ]
    },
    {
     "data": {
      "text/html": [
       "<div>\n",
       "<style scoped>\n",
       "    .dataframe tbody tr th:only-of-type {\n",
       "        vertical-align: middle;\n",
       "    }\n",
       "\n",
       "    .dataframe tbody tr th {\n",
       "        vertical-align: top;\n",
       "    }\n",
       "\n",
       "    .dataframe thead th {\n",
       "        text-align: right;\n",
       "    }\n",
       "</style>\n",
       "<table border=\"1\" class=\"dataframe\">\n",
       "  <thead>\n",
       "    <tr style=\"text-align: right;\">\n",
       "      <th></th>\n",
       "      <th>a1</th>\n",
       "      <th>b1</th>\n",
       "      <th>c1</th>\n",
       "    </tr>\n",
       "  </thead>\n",
       "  <tbody>\n",
       "    <tr>\n",
       "      <th>ix1</th>\n",
       "      <td>1</td>\n",
       "      <td>2</td>\n",
       "      <td>3</td>\n",
       "    </tr>\n",
       "    <tr>\n",
       "      <th>idx2</th>\n",
       "      <td>4</td>\n",
       "      <td>5</td>\n",
       "      <td>6</td>\n",
       "    </tr>\n",
       "    <tr>\n",
       "      <th>ix3</th>\n",
       "      <td>7</td>\n",
       "      <td>8</td>\n",
       "      <td>9</td>\n",
       "    </tr>\n",
       "  </tbody>\n",
       "</table>\n",
       "</div>"
      ],
      "text/plain": [
       "      a1  b1  c1\n",
       "ix1    1   2   3\n",
       "idx2   4   5   6\n",
       "ix3    7   8   9"
      ]
     },
     "execution_count": 17,
     "metadata": {},
     "output_type": "execute_result"
    }
   ],
   "source": [
    "dict_data = {'a':[1,2,3], 'b':[4,5,6], 'c':[7,8,9]} # 'a'는 key 값, 데이터프레임의 컬럼영\n",
    "\n",
    "df = pd.DataFrame(dict_data)\n",
    "print(\"print df : \", df)\n",
    "\n",
    "#index명을 부여\n",
    "df1 = pd.DataFrame(dict_data, index=[\"idx1\",'idx2','idx3'])\n",
    "print(\"df1  : \", df1)\n",
    "\n",
    "a_var = [[1,2,3],[4,5,6],[7,8,9]]\n",
    "df2 = pd.DataFrame(a_var, index=[\"idx1\", 'idx2', 'idx3'],columns=['a1','b1','c1'] )\n",
    "df2\n",
    "\n",
    "print(df2.rename(index={'idx1':'ix1','idx2':'idx2','idx3':'ix3'}, inplace=True))\n",
    "df2"
   ]
  },
  {
   "cell_type": "code",
   "execution_count": null,
   "id": "6dcfc90c",
   "metadata": {},
   "outputs": [],
   "source": [
    "# 행인덱스로 변경  : object,index =새로운 행 인덱스로 배열\n",
    "# 컬럼 인덱스명 변경 : object, columns = 새로운 컬럼명 배열\n",
    "a_var = [[1,2,3],[4,5,6],[7,8,9]]\n",
    "df = pd.DataFrame(a_var)\n",
    "df\n",
    "\n",
    "df.index = ['a','b','c']\n",
    "df.columns =['c1','c2','c3']\n",
    "df1 = df\n",
    "print(\"df1 : \", df1)\n",
    "df1.rename(index = {'a':'ida'}, inplace=True)\n",
    "print(\"df1 : :\")\n",
    "print(df1)\n",
    "\n",
    "#행 삭제 axis=0, 열 삭제 axis=1\n",
    "df2 = df1\n",
    "print(df1.drop('ida', axis=0, inplace=True))\n",
    "df1\n",
    "print(df2)\n",
    "df2"
   ]
  }
 ],
 "metadata": {
  "kernelspec": {
   "display_name": "Python 3",
   "language": "python",
   "name": "python3"
  },
  "language_info": {
   "codemirror_mode": {
    "name": "ipython",
    "version": 3
   },
   "file_extension": ".py",
   "mimetype": "text/x-python",
   "name": "python",
   "nbconvert_exporter": "python",
   "pygments_lexer": "ipython3",
   "version": "3.8.8"
  }
 },
 "nbformat": 4,
 "nbformat_minor": 5
}
